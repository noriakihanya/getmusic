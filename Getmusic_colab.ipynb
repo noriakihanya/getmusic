{
  "cells": [
    {
      "cell_type": "markdown",
      "metadata": {
        "id": "view-in-github",
        "colab_type": "text"
      },
      "source": [
        "<a href=\"https://colab.research.google.com/github/noriakihanya/getmusic/blob/main/Getmusic_colab.ipynb\" target=\"_parent\"><img src=\"https://colab.research.google.com/assets/colab-badge.svg\" alt=\"Open In Colab\"/></a>"
      ]
    },
    {
      "cell_type": "code",
      "execution_count": 1,
      "id": "2d417e17",
      "metadata": {
        "colab": {
          "base_uri": "https://localhost:8080/",
          "height": 1000
        },
        "id": "2d417e17",
        "outputId": "e6a845af-5db1-4d19-ab9a-7f77d8eae75f",
        "scrolled": true
      },
      "outputs": [
        {
          "output_type": "stream",
          "name": "stdout",
          "text": [
            "Looking in indexes: https://pypi.org/simple, https://us-python.pkg.dev/colab-wheels/public/simple/\n",
            "Collecting torch==1.13\n",
            "  Downloading torch-1.13.0-cp310-cp310-manylinux1_x86_64.whl (890.1 MB)\n",
            "\u001b[2K     \u001b[90m━━━━━━━━━━━━━━━━━━━━━━━━━━━━━━━━━━━━━━━\u001b[0m \u001b[32m890.1/890.1 MB\u001b[0m \u001b[31m2.0 MB/s\u001b[0m eta \u001b[36m0:00:00\u001b[0m\n",
            "\u001b[?25hRequirement already satisfied: numpy in /usr/local/lib/python3.10/dist-packages (1.22.4)\n",
            "Requirement already satisfied: tensorboard in /usr/local/lib/python3.10/dist-packages (2.12.2)\n",
            "Collecting miditoolkit\n",
            "  Downloading miditoolkit-0.1.16-py3-none-any.whl (20 kB)\n",
            "Requirement already satisfied: scipy in /usr/local/lib/python3.10/dist-packages (1.10.1)\n",
            "Requirement already satisfied: matplotlib in /usr/local/lib/python3.10/dist-packages (3.7.1)\n",
            "Requirement already satisfied: tqdm in /usr/local/lib/python3.10/dist-packages (4.65.0)\n",
            "Collecting transformers\n",
            "  Downloading transformers-4.30.2-py3-none-any.whl (7.2 MB)\n",
            "\u001b[2K     \u001b[90m━━━━━━━━━━━━━━━━━━━━━━━━━━━━━━━━━━━━━━━━\u001b[0m \u001b[32m7.2/7.2 MB\u001b[0m \u001b[31m99.3 MB/s\u001b[0m eta \u001b[36m0:00:00\u001b[0m\n",
            "\u001b[?25hCollecting einops\n",
            "  Downloading einops-0.6.1-py3-none-any.whl (42 kB)\n",
            "\u001b[2K     \u001b[90m━━━━━━━━━━━━━━━━━━━━━━━━━━━━━━━━━━━━━━━━\u001b[0m \u001b[32m42.2/42.2 kB\u001b[0m \u001b[31m5.3 MB/s\u001b[0m eta \u001b[36m0:00:00\u001b[0m\n",
            "\u001b[?25hRequirement already satisfied: typing-extensions in /usr/local/lib/python3.10/dist-packages (from torch==1.13) (4.5.0)\n",
            "Collecting nvidia-cuda-runtime-cu11==11.7.99 (from torch==1.13)\n",
            "  Downloading nvidia_cuda_runtime_cu11-11.7.99-py3-none-manylinux1_x86_64.whl (849 kB)\n",
            "\u001b[2K     \u001b[90m━━━━━━━━━━━━━━━━━━━━━━━━━━━━━━━━━━━━━━\u001b[0m \u001b[32m849.3/849.3 kB\u001b[0m \u001b[31m73.7 MB/s\u001b[0m eta \u001b[36m0:00:00\u001b[0m\n",
            "\u001b[?25hCollecting nvidia-cudnn-cu11==8.5.0.96 (from torch==1.13)\n",
            "  Downloading nvidia_cudnn_cu11-8.5.0.96-2-py3-none-manylinux1_x86_64.whl (557.1 MB)\n",
            "\u001b[2K     \u001b[90m━━━━━━━━━━━━━━━━━━━━━━━━━━━━━━━━━━━━━━━\u001b[0m \u001b[32m557.1/557.1 MB\u001b[0m \u001b[31m3.1 MB/s\u001b[0m eta \u001b[36m0:00:00\u001b[0m\n",
            "\u001b[?25hCollecting nvidia-cublas-cu11==11.10.3.66 (from torch==1.13)\n",
            "  Downloading nvidia_cublas_cu11-11.10.3.66-py3-none-manylinux1_x86_64.whl (317.1 MB)\n",
            "\u001b[2K     \u001b[90m━━━━━━━━━━━━━━━━━━━━━━━━━━━━━━━━━━━━━━━\u001b[0m \u001b[32m317.1/317.1 MB\u001b[0m \u001b[31m4.4 MB/s\u001b[0m eta \u001b[36m0:00:00\u001b[0m\n",
            "\u001b[?25hCollecting nvidia-cuda-nvrtc-cu11==11.7.99 (from torch==1.13)\n",
            "  Downloading nvidia_cuda_nvrtc_cu11-11.7.99-2-py3-none-manylinux1_x86_64.whl (21.0 MB)\n",
            "\u001b[2K     \u001b[90m━━━━━━━━━━━━━━━━━━━━━━━━━━━━━━━━━━━━━━━━\u001b[0m \u001b[32m21.0/21.0 MB\u001b[0m \u001b[31m73.1 MB/s\u001b[0m eta \u001b[36m0:00:00\u001b[0m\n",
            "\u001b[?25hRequirement already satisfied: setuptools in /usr/local/lib/python3.10/dist-packages (from nvidia-cublas-cu11==11.10.3.66->torch==1.13) (67.7.2)\n",
            "Requirement already satisfied: wheel in /usr/local/lib/python3.10/dist-packages (from nvidia-cublas-cu11==11.10.3.66->torch==1.13) (0.40.0)\n",
            "Requirement already satisfied: absl-py>=0.4 in /usr/local/lib/python3.10/dist-packages (from tensorboard) (1.4.0)\n",
            "Requirement already satisfied: grpcio>=1.48.2 in /usr/local/lib/python3.10/dist-packages (from tensorboard) (1.54.0)\n",
            "Requirement already satisfied: google-auth<3,>=1.6.3 in /usr/local/lib/python3.10/dist-packages (from tensorboard) (2.17.3)\n",
            "Requirement already satisfied: google-auth-oauthlib<1.1,>=0.5 in /usr/local/lib/python3.10/dist-packages (from tensorboard) (1.0.0)\n",
            "Requirement already satisfied: markdown>=2.6.8 in /usr/local/lib/python3.10/dist-packages (from tensorboard) (3.4.3)\n",
            "Requirement already satisfied: protobuf>=3.19.6 in /usr/local/lib/python3.10/dist-packages (from tensorboard) (3.20.3)\n",
            "Requirement already satisfied: requests<3,>=2.21.0 in /usr/local/lib/python3.10/dist-packages (from tensorboard) (2.27.1)\n",
            "Requirement already satisfied: tensorboard-data-server<0.8.0,>=0.7.0 in /usr/local/lib/python3.10/dist-packages (from tensorboard) (0.7.0)\n",
            "Requirement already satisfied: tensorboard-plugin-wit>=1.6.0 in /usr/local/lib/python3.10/dist-packages (from tensorboard) (1.8.1)\n",
            "Requirement already satisfied: werkzeug>=1.0.1 in /usr/local/lib/python3.10/dist-packages (from tensorboard) (2.3.0)\n",
            "Collecting mido>=1.1.16 (from miditoolkit)\n",
            "  Downloading mido-1.2.10-py2.py3-none-any.whl (51 kB)\n",
            "\u001b[2K     \u001b[90m━━━━━━━━━━━━━━━━━━━━━━━━━━━━━━━━━━━━━━━━\u001b[0m \u001b[32m51.1/51.1 kB\u001b[0m \u001b[31m7.2 MB/s\u001b[0m eta \u001b[36m0:00:00\u001b[0m\n",
            "\u001b[?25hRequirement already satisfied: contourpy>=1.0.1 in /usr/local/lib/python3.10/dist-packages (from matplotlib) (1.0.7)\n",
            "Requirement already satisfied: cycler>=0.10 in /usr/local/lib/python3.10/dist-packages (from matplotlib) (0.11.0)\n",
            "Requirement already satisfied: fonttools>=4.22.0 in /usr/local/lib/python3.10/dist-packages (from matplotlib) (4.39.3)\n",
            "Requirement already satisfied: kiwisolver>=1.0.1 in /usr/local/lib/python3.10/dist-packages (from matplotlib) (1.4.4)\n",
            "Requirement already satisfied: packaging>=20.0 in /usr/local/lib/python3.10/dist-packages (from matplotlib) (23.1)\n",
            "Requirement already satisfied: pillow>=6.2.0 in /usr/local/lib/python3.10/dist-packages (from matplotlib) (8.4.0)\n",
            "Requirement already satisfied: pyparsing>=2.3.1 in /usr/local/lib/python3.10/dist-packages (from matplotlib) (3.0.9)\n",
            "Requirement already satisfied: python-dateutil>=2.7 in /usr/local/lib/python3.10/dist-packages (from matplotlib) (2.8.2)\n",
            "Requirement already satisfied: filelock in /usr/local/lib/python3.10/dist-packages (from transformers) (3.12.0)\n",
            "Collecting huggingface-hub<1.0,>=0.14.1 (from transformers)\n",
            "  Downloading huggingface_hub-0.15.1-py3-none-any.whl (236 kB)\n",
            "\u001b[2K     \u001b[90m━━━━━━━━━━━━━━━━━━━━━━━━━━━━━━━━━━━━━━\u001b[0m \u001b[32m236.8/236.8 kB\u001b[0m \u001b[31m29.8 MB/s\u001b[0m eta \u001b[36m0:00:00\u001b[0m\n",
            "\u001b[?25hRequirement already satisfied: pyyaml>=5.1 in /usr/local/lib/python3.10/dist-packages (from transformers) (6.0)\n",
            "Requirement already satisfied: regex!=2019.12.17 in /usr/local/lib/python3.10/dist-packages (from transformers) (2022.10.31)\n",
            "Collecting tokenizers!=0.11.3,<0.14,>=0.11.1 (from transformers)\n",
            "  Downloading tokenizers-0.13.3-cp310-cp310-manylinux_2_17_x86_64.manylinux2014_x86_64.whl (7.8 MB)\n",
            "\u001b[2K     \u001b[90m━━━━━━━━━━━━━━━━━━━━━━━━━━━━━━━━━━━━━━━━\u001b[0m \u001b[32m7.8/7.8 MB\u001b[0m \u001b[31m104.2 MB/s\u001b[0m eta \u001b[36m0:00:00\u001b[0m\n",
            "\u001b[?25hCollecting safetensors>=0.3.1 (from transformers)\n",
            "  Downloading safetensors-0.3.1-cp310-cp310-manylinux_2_17_x86_64.manylinux2014_x86_64.whl (1.3 MB)\n",
            "\u001b[2K     \u001b[90m━━━━━━━━━━━━━━━━━━━━━━━━━━━━━━━━━━━━━━━━\u001b[0m \u001b[32m1.3/1.3 MB\u001b[0m \u001b[31m83.1 MB/s\u001b[0m eta \u001b[36m0:00:00\u001b[0m\n",
            "\u001b[?25hRequirement already satisfied: cachetools<6.0,>=2.0.0 in /usr/local/lib/python3.10/dist-packages (from google-auth<3,>=1.6.3->tensorboard) (5.3.0)\n",
            "Requirement already satisfied: pyasn1-modules>=0.2.1 in /usr/local/lib/python3.10/dist-packages (from google-auth<3,>=1.6.3->tensorboard) (0.3.0)\n",
            "Requirement already satisfied: six>=1.9.0 in /usr/local/lib/python3.10/dist-packages (from google-auth<3,>=1.6.3->tensorboard) (1.16.0)\n",
            "Requirement already satisfied: rsa<5,>=3.1.4 in /usr/local/lib/python3.10/dist-packages (from google-auth<3,>=1.6.3->tensorboard) (4.9)\n",
            "Requirement already satisfied: requests-oauthlib>=0.7.0 in /usr/local/lib/python3.10/dist-packages (from google-auth-oauthlib<1.1,>=0.5->tensorboard) (1.3.1)\n",
            "Requirement already satisfied: fsspec in /usr/local/lib/python3.10/dist-packages (from huggingface-hub<1.0,>=0.14.1->transformers) (2023.4.0)\n",
            "Requirement already satisfied: urllib3<1.27,>=1.21.1 in /usr/local/lib/python3.10/dist-packages (from requests<3,>=2.21.0->tensorboard) (1.26.15)\n",
            "Requirement already satisfied: certifi>=2017.4.17 in /usr/local/lib/python3.10/dist-packages (from requests<3,>=2.21.0->tensorboard) (2022.12.7)\n",
            "Requirement already satisfied: charset-normalizer~=2.0.0 in /usr/local/lib/python3.10/dist-packages (from requests<3,>=2.21.0->tensorboard) (2.0.12)\n",
            "Requirement already satisfied: idna<4,>=2.5 in /usr/local/lib/python3.10/dist-packages (from requests<3,>=2.21.0->tensorboard) (3.4)\n",
            "Requirement already satisfied: MarkupSafe>=2.1.1 in /usr/local/lib/python3.10/dist-packages (from werkzeug>=1.0.1->tensorboard) (2.1.2)\n",
            "Requirement already satisfied: pyasn1<0.6.0,>=0.4.6 in /usr/local/lib/python3.10/dist-packages (from pyasn1-modules>=0.2.1->google-auth<3,>=1.6.3->tensorboard) (0.5.0)\n",
            "Requirement already satisfied: oauthlib>=3.0.0 in /usr/local/lib/python3.10/dist-packages (from requests-oauthlib>=0.7.0->google-auth-oauthlib<1.1,>=0.5->tensorboard) (3.2.2)\n",
            "Installing collected packages: tokenizers, safetensors, mido, nvidia-cuda-runtime-cu11, nvidia-cuda-nvrtc-cu11, nvidia-cublas-cu11, miditoolkit, einops, nvidia-cudnn-cu11, huggingface-hub, transformers, torch\n",
            "  Attempting uninstall: torch\n",
            "    Found existing installation: torch 2.0.1+cu118\n",
            "    Uninstalling torch-2.0.1+cu118:\n",
            "      Successfully uninstalled torch-2.0.1+cu118\n",
            "\u001b[31mERROR: pip's dependency resolver does not currently take into account all the packages that are installed. This behaviour is the source of the following dependency conflicts.\n",
            "torchaudio 2.0.2+cu118 requires torch==2.0.1, but you have torch 1.13.0 which is incompatible.\n",
            "torchdata 0.6.1 requires torch==2.0.1, but you have torch 1.13.0 which is incompatible.\n",
            "torchtext 0.15.2 requires torch==2.0.1, but you have torch 1.13.0 which is incompatible.\n",
            "torchvision 0.15.2+cu118 requires torch==2.0.1, but you have torch 1.13.0 which is incompatible.\u001b[0m\u001b[31m\n",
            "\u001b[0mSuccessfully installed einops-0.6.1 huggingface-hub-0.15.1 miditoolkit-0.1.16 mido-1.2.10 nvidia-cublas-cu11-11.10.3.66 nvidia-cuda-nvrtc-cu11-11.7.99 nvidia-cuda-runtime-cu11-11.7.99 nvidia-cudnn-cu11-8.5.0.96 safetensors-0.3.1 tokenizers-0.13.3 torch-1.13.0 transformers-4.30.2\n",
            "Cloning into 'muzic'...\n",
            "remote: Enumerating objects: 2492, done.\u001b[K\n",
            "remote: Counting objects: 100% (1007/1007), done.\u001b[K\n",
            "remote: Compressing objects: 100% (715/715), done.\u001b[K\n",
            "remote: Total 2492 (delta 317), reused 887 (delta 254), pack-reused 1485\u001b[K\n",
            "Receiving objects: 100% (2492/2492), 104.08 MiB | 34.09 MiB/s, done.\n",
            "Resolving deltas: 100% (766/766), done.\n",
            "Looking in indexes: https://pypi.org/simple, https://us-python.pkg.dev/colab-wheels/public/simple/\n",
            "Collecting note-seq\n",
            "  Downloading note_seq-0.0.5-py3-none-any.whl (209 kB)\n",
            "\u001b[2K     \u001b[90m━━━━━━━━━━━━━━━━━━━━━━━━━━━━━━━━━━━━━━━\u001b[0m \u001b[32m209.4/209.4 kB\u001b[0m \u001b[31m4.7 MB/s\u001b[0m eta \u001b[36m0:00:00\u001b[0m\n",
            "\u001b[?25hRequirement already satisfied: absl-py in /usr/local/lib/python3.10/dist-packages (from note-seq) (1.4.0)\n",
            "Requirement already satisfied: attrs in /usr/local/lib/python3.10/dist-packages (from note-seq) (23.1.0)\n",
            "Requirement already satisfied: bokeh>=0.12.0 in /usr/local/lib/python3.10/dist-packages (from note-seq) (2.4.3)\n",
            "Collecting intervaltree>=2.1.0 (from note-seq)\n",
            "  Downloading intervaltree-3.1.0.tar.gz (32 kB)\n",
            "  Preparing metadata (setup.py) ... \u001b[?25l\u001b[?25hdone\n",
            "Requirement already satisfied: IPython in /usr/local/lib/python3.10/dist-packages (from note-seq) (7.34.0)\n",
            "Requirement already satisfied: librosa>=0.6.2 in /usr/local/lib/python3.10/dist-packages (from note-seq) (0.10.0.post2)\n",
            "Requirement already satisfied: numpy in /usr/local/lib/python3.10/dist-packages (from note-seq) (1.22.4)\n",
            "Requirement already satisfied: pandas>=0.18.1 in /usr/local/lib/python3.10/dist-packages (from note-seq) (1.5.3)\n",
            "Collecting pretty-midi>=0.2.6 (from note-seq)\n",
            "  Downloading pretty_midi-0.2.10.tar.gz (5.6 MB)\n",
            "\u001b[2K     \u001b[90m━━━━━━━━━━━━━━━━━━━━━━━━━━━━━━━━━━━━━━━━\u001b[0m \u001b[32m5.6/5.6 MB\u001b[0m \u001b[31m66.4 MB/s\u001b[0m eta \u001b[36m0:00:00\u001b[0m\n",
            "\u001b[?25h  Preparing metadata (setup.py) ... \u001b[?25l\u001b[?25hdone\n",
            "Collecting protobuf>=4.21.2 (from note-seq)\n",
            "  Downloading protobuf-4.23.3-cp37-abi3-manylinux2014_x86_64.whl (304 kB)\n",
            "\u001b[2K     \u001b[90m━━━━━━━━━━━━━━━━━━━━━━━━━━━━━━━━━━━━━━\u001b[0m \u001b[32m304.5/304.5 kB\u001b[0m \u001b[31m37.6 MB/s\u001b[0m eta \u001b[36m0:00:00\u001b[0m\n",
            "\u001b[?25hCollecting pydub (from note-seq)\n",
            "  Downloading pydub-0.25.1-py2.py3-none-any.whl (32 kB)\n",
            "Requirement already satisfied: scipy>=0.18.1 in /usr/local/lib/python3.10/dist-packages (from note-seq) (1.10.1)\n",
            "Requirement already satisfied: Jinja2>=2.9 in /usr/local/lib/python3.10/dist-packages (from bokeh>=0.12.0->note-seq) (3.1.2)\n",
            "Requirement already satisfied: packaging>=16.8 in /usr/local/lib/python3.10/dist-packages (from bokeh>=0.12.0->note-seq) (23.1)\n",
            "Requirement already satisfied: pillow>=7.1.0 in /usr/local/lib/python3.10/dist-packages (from bokeh>=0.12.0->note-seq) (8.4.0)\n",
            "Requirement already satisfied: PyYAML>=3.10 in /usr/local/lib/python3.10/dist-packages (from bokeh>=0.12.0->note-seq) (6.0)\n",
            "Requirement already satisfied: tornado>=5.1 in /usr/local/lib/python3.10/dist-packages (from bokeh>=0.12.0->note-seq) (6.3.1)\n",
            "Requirement already satisfied: typing-extensions>=3.10.0 in /usr/local/lib/python3.10/dist-packages (from bokeh>=0.12.0->note-seq) (4.5.0)\n",
            "Requirement already satisfied: sortedcontainers<3.0,>=2.0 in /usr/local/lib/python3.10/dist-packages (from intervaltree>=2.1.0->note-seq) (2.4.0)\n",
            "Requirement already satisfied: audioread>=2.1.9 in /usr/local/lib/python3.10/dist-packages (from librosa>=0.6.2->note-seq) (3.0.0)\n",
            "Requirement already satisfied: scikit-learn>=0.20.0 in /usr/local/lib/python3.10/dist-packages (from librosa>=0.6.2->note-seq) (1.2.2)\n",
            "Requirement already satisfied: joblib>=0.14 in /usr/local/lib/python3.10/dist-packages (from librosa>=0.6.2->note-seq) (1.2.0)\n",
            "Requirement already satisfied: decorator>=4.3.0 in /usr/local/lib/python3.10/dist-packages (from librosa>=0.6.2->note-seq) (4.4.2)\n",
            "Requirement already satisfied: numba>=0.51.0 in /usr/local/lib/python3.10/dist-packages (from librosa>=0.6.2->note-seq) (0.56.4)\n",
            "Requirement already satisfied: soundfile>=0.12.1 in /usr/local/lib/python3.10/dist-packages (from librosa>=0.6.2->note-seq) (0.12.1)\n",
            "Requirement already satisfied: pooch<1.7,>=1.0 in /usr/local/lib/python3.10/dist-packages (from librosa>=0.6.2->note-seq) (1.6.0)\n",
            "Requirement already satisfied: soxr>=0.3.2 in /usr/local/lib/python3.10/dist-packages (from librosa>=0.6.2->note-seq) (0.3.5)\n",
            "Requirement already satisfied: lazy-loader>=0.1 in /usr/local/lib/python3.10/dist-packages (from librosa>=0.6.2->note-seq) (0.2)\n",
            "Requirement already satisfied: msgpack>=1.0 in /usr/local/lib/python3.10/dist-packages (from librosa>=0.6.2->note-seq) (1.0.5)\n",
            "Requirement already satisfied: python-dateutil>=2.8.1 in /usr/local/lib/python3.10/dist-packages (from pandas>=0.18.1->note-seq) (2.8.2)\n",
            "Requirement already satisfied: pytz>=2020.1 in /usr/local/lib/python3.10/dist-packages (from pandas>=0.18.1->note-seq) (2022.7.1)\n",
            "Requirement already satisfied: mido>=1.1.16 in /usr/local/lib/python3.10/dist-packages (from pretty-midi>=0.2.6->note-seq) (1.2.10)\n",
            "Requirement already satisfied: six in /usr/local/lib/python3.10/dist-packages (from pretty-midi>=0.2.6->note-seq) (1.16.0)\n",
            "Requirement already satisfied: setuptools>=18.5 in /usr/local/lib/python3.10/dist-packages (from IPython->note-seq) (67.7.2)\n",
            "Collecting jedi>=0.16 (from IPython->note-seq)\n",
            "  Downloading jedi-0.18.2-py2.py3-none-any.whl (1.6 MB)\n",
            "\u001b[2K     \u001b[90m━━━━━━━━━━━━━━━━━━━━━━━━━━━━━━━━━━━━━━━━\u001b[0m \u001b[32m1.6/1.6 MB\u001b[0m \u001b[31m61.9 MB/s\u001b[0m eta \u001b[36m0:00:00\u001b[0m\n",
            "\u001b[?25hRequirement already satisfied: pickleshare in /usr/local/lib/python3.10/dist-packages (from IPython->note-seq) (0.7.5)\n",
            "Requirement already satisfied: traitlets>=4.2 in /usr/local/lib/python3.10/dist-packages (from IPython->note-seq) (5.7.1)\n",
            "Requirement already satisfied: prompt-toolkit!=3.0.0,!=3.0.1,<3.1.0,>=2.0.0 in /usr/local/lib/python3.10/dist-packages (from IPython->note-seq) (3.0.38)\n",
            "Requirement already satisfied: pygments in /usr/local/lib/python3.10/dist-packages (from IPython->note-seq) (2.14.0)\n",
            "Requirement already satisfied: backcall in /usr/local/lib/python3.10/dist-packages (from IPython->note-seq) (0.2.0)\n",
            "Requirement already satisfied: matplotlib-inline in /usr/local/lib/python3.10/dist-packages (from IPython->note-seq) (0.1.6)\n",
            "Requirement already satisfied: pexpect>4.3 in /usr/local/lib/python3.10/dist-packages (from IPython->note-seq) (4.8.0)\n",
            "Requirement already satisfied: parso<0.9.0,>=0.8.0 in /usr/local/lib/python3.10/dist-packages (from jedi>=0.16->IPython->note-seq) (0.8.3)\n",
            "Requirement already satisfied: MarkupSafe>=2.0 in /usr/local/lib/python3.10/dist-packages (from Jinja2>=2.9->bokeh>=0.12.0->note-seq) (2.1.2)\n",
            "Requirement already satisfied: llvmlite<0.40,>=0.39.0dev0 in /usr/local/lib/python3.10/dist-packages (from numba>=0.51.0->librosa>=0.6.2->note-seq) (0.39.1)\n",
            "Requirement already satisfied: ptyprocess>=0.5 in /usr/local/lib/python3.10/dist-packages (from pexpect>4.3->IPython->note-seq) (0.7.0)\n",
            "Requirement already satisfied: appdirs>=1.3.0 in /usr/local/lib/python3.10/dist-packages (from pooch<1.7,>=1.0->librosa>=0.6.2->note-seq) (1.4.4)\n",
            "Requirement already satisfied: requests>=2.19.0 in /usr/local/lib/python3.10/dist-packages (from pooch<1.7,>=1.0->librosa>=0.6.2->note-seq) (2.27.1)\n",
            "Requirement already satisfied: wcwidth in /usr/local/lib/python3.10/dist-packages (from prompt-toolkit!=3.0.0,!=3.0.1,<3.1.0,>=2.0.0->IPython->note-seq) (0.2.6)\n",
            "Requirement already satisfied: threadpoolctl>=2.0.0 in /usr/local/lib/python3.10/dist-packages (from scikit-learn>=0.20.0->librosa>=0.6.2->note-seq) (3.1.0)\n",
            "Requirement already satisfied: cffi>=1.0 in /usr/local/lib/python3.10/dist-packages (from soundfile>=0.12.1->librosa>=0.6.2->note-seq) (1.15.1)\n",
            "Requirement already satisfied: pycparser in /usr/local/lib/python3.10/dist-packages (from cffi>=1.0->soundfile>=0.12.1->librosa>=0.6.2->note-seq) (2.21)\n",
            "Requirement already satisfied: urllib3<1.27,>=1.21.1 in /usr/local/lib/python3.10/dist-packages (from requests>=2.19.0->pooch<1.7,>=1.0->librosa>=0.6.2->note-seq) (1.26.15)\n",
            "Requirement already satisfied: certifi>=2017.4.17 in /usr/local/lib/python3.10/dist-packages (from requests>=2.19.0->pooch<1.7,>=1.0->librosa>=0.6.2->note-seq) (2022.12.7)\n",
            "Requirement already satisfied: charset-normalizer~=2.0.0 in /usr/local/lib/python3.10/dist-packages (from requests>=2.19.0->pooch<1.7,>=1.0->librosa>=0.6.2->note-seq) (2.0.12)\n",
            "Requirement already satisfied: idna<4,>=2.5 in /usr/local/lib/python3.10/dist-packages (from requests>=2.19.0->pooch<1.7,>=1.0->librosa>=0.6.2->note-seq) (3.4)\n",
            "Building wheels for collected packages: intervaltree, pretty-midi\n",
            "  Building wheel for intervaltree (setup.py) ... \u001b[?25l\u001b[?25hdone\n",
            "  Created wheel for intervaltree: filename=intervaltree-3.1.0-py2.py3-none-any.whl size=26099 sha256=8a714b4bddecd805ba7afadea439e91e10bc4f33a1835ec90498a40816590e87\n",
            "  Stored in directory: /root/.cache/pip/wheels/fa/80/8c/43488a924a046b733b64de3fac99252674c892a4c3801c0a61\n",
            "  Building wheel for pretty-midi (setup.py) ... \u001b[?25l\u001b[?25hdone\n",
            "  Created wheel for pretty-midi: filename=pretty_midi-0.2.10-py3-none-any.whl size=5592289 sha256=04796b55a12e32ddf7ad3c2a9114da32d0bdf2475c93fa41d0b64d150a53fed3\n",
            "  Stored in directory: /root/.cache/pip/wheels/cd/a5/30/7b8b7f58709f5150f67f98fde4b891ebf0be9ef07a8af49f25\n",
            "Successfully built intervaltree pretty-midi\n",
            "Installing collected packages: pydub, protobuf, pretty-midi, jedi, intervaltree, note-seq\n",
            "  Attempting uninstall: protobuf\n",
            "    Found existing installation: protobuf 3.20.3\n",
            "    Uninstalling protobuf-3.20.3:\n",
            "      Successfully uninstalled protobuf-3.20.3\n",
            "Successfully installed intervaltree-3.1.0 jedi-0.18.2 note-seq-0.0.5 pretty-midi-0.2.10 protobuf-4.23.3 pydub-0.25.1\n",
            "Looking in indexes: https://pypi.org/simple, https://us-python.pkg.dev/colab-wheels/public/simple/\n",
            "Collecting pyfluidsynth\n",
            "  Downloading pyFluidSynth-1.3.2-py3-none-any.whl (19 kB)\n",
            "Requirement already satisfied: numpy in /usr/local/lib/python3.10/dist-packages (from pyfluidsynth) (1.22.4)\n",
            "Installing collected packages: pyfluidsynth\n",
            "Successfully installed pyfluidsynth-1.3.2\n",
            "Selecting previously unselected package libinstpatch-1.0-2:amd64.\n",
            "(Reading database ... 122541 files and directories currently installed.)\n",
            "Preparing to unpack .../libinstpatch-1.0-2_1.1.2-2build1_amd64.deb ...\n",
            "Unpacking libinstpatch-1.0-2:amd64 (1.1.2-2build1) ...\n",
            "Selecting previously unselected package timgm6mb-soundfont.\n",
            "Preparing to unpack .../timgm6mb-soundfont_1.3-3_all.deb ...\n",
            "Unpacking timgm6mb-soundfont (1.3-3) ...\n",
            "Selecting previously unselected package libfluidsynth2:amd64.\n",
            "Preparing to unpack .../libfluidsynth2_2.1.1-2_amd64.deb ...\n",
            "Unpacking libfluidsynth2:amd64 (2.1.1-2) ...\n",
            "Setting up timgm6mb-soundfont (1.3-3) ...\n",
            "update-alternatives: using /usr/share/sounds/sf2/TimGM6mb.sf2 to provide /usr/share/sounds/sf2/default-GM.sf2 (default-GM.sf2) in auto mode\n",
            "update-alternatives: using /usr/share/sounds/sf2/TimGM6mb.sf2 to provide /usr/share/sounds/sf3/default-GM.sf3 (default-GM.sf3) in auto mode\n",
            "Setting up libinstpatch-1.0-2:amd64 (1.1.2-2build1) ...\n",
            "Setting up libfluidsynth2:amd64 (2.1.1-2) ...\n",
            "Processing triggers for libc-bin (2.31-0ubuntu9.9) ...\n",
            "Cloning into 'getmusic'...\n",
            "fatal: could not read Username for 'https://github.com': No such device or address\n"
          ]
        },
        {
          "output_type": "stream",
          "name": "stderr",
          "text": [
            "Downloading...\n",
            "From: https://drive.google.com/uc?id=1Ub45GMApdXJAGt0_RRbPWwlhIVIHVcT7\n",
            "To: /content/checkpoint.pth\n",
            "100%|██████████| 1.45G/1.45G [00:15<00:00, 92.9MB/s]\n",
            "Downloading...\n",
            "From: https://drive.google.com/uc?id=1wVauTFZFFCqbiFzRAK2Th_Kn0p5HzOiG\n",
            "To: /content/MuseScore_General.sf2\n",
            "100%|██████████| 216M/216M [00:02<00:00, 82.3MB/s]\n"
          ]
        },
        {
          "output_type": "execute_result",
          "data": {
            "text/plain": [
              "'MuseScore_General.sf2'"
            ],
            "application/vnd.google.colaboratory.intrinsic+json": {
              "type": "string"
            }
          },
          "metadata": {},
          "execution_count": 1
        }
      ],
      "source": [
        "!pip install torch==1.13 numpy tensorboard miditoolkit scipy matplotlib tqdm transformers einops\n",
        "!git clone https://github.com/microsoft/muzic.git\n",
        "\n",
        "#!gsutil -q -m cp gs://magentadata/soundfonts/SGM-v2.01-Sal-Guit-Bass-V1.3.sf2 .\n",
        "!pip install note-seq\n",
        "!pip install pyfluidsynth\n",
        "!apt-get update -qq && apt-get install -qq libfluidsynth2 build-essential libasound2-dev libjack-dev\n",
        "\n",
        "!git clone https://github.com/noriakihanya/getmusic.git\n",
        "#import shutil\n",
        "#shutil.copy(\"/content/singingai/lyrics_to_melody.py\",\"/content/muzic/roc/\")\n",
        "\n",
        "import gdown\n",
        "gdown.download('https://drive.google.com/uc?id=1Ub45GMApdXJAGt0_RRbPWwlhIVIHVcT7', 'checkpoint.pth', quiet=False)\n",
        "gdown.download('https://drive.google.com/uc?id=1wVauTFZFFCqbiFzRAK2Th_Kn0p5HzOiG', 'MuseScore_General.sf2', quiet=False)"
      ]
    },
    {
      "cell_type": "code",
      "source": [
        "!git clone https://github.com/noriakihanya/getmusic.git"
      ],
      "metadata": {
        "colab": {
          "base_uri": "https://localhost:8080/"
        },
        "id": "2uEUxjnl7oU5",
        "outputId": "dfd2d618-de27-4cff-fd76-abf5ee07c16a"
      },
      "id": "2uEUxjnl7oU5",
      "execution_count": 2,
      "outputs": [
        {
          "output_type": "stream",
          "name": "stdout",
          "text": [
            "Cloning into 'getmusic'...\n",
            "fatal: could not read Username for 'https://github.com': No such device or address\n"
          ]
        }
      ]
    },
    {
      "cell_type": "code",
      "execution_count": null,
      "id": "vr13iIMrD9QI",
      "metadata": {
        "id": "vr13iIMrD9QI"
      },
      "outputs": [],
      "source": [
        "import os\n",
        "os.makedirs(\"/content/muzic/getmusic/example_data/input\", exist_ok=True)\n",
        "os.makedirs(\"/content/muzic/getmusic/example_data/output_midi\", exist_ok=True)"
      ]
    },
    {
      "cell_type": "code",
      "execution_count": null,
      "id": "03f9db46",
      "metadata": {
        "colab": {
          "base_uri": "https://localhost:8080/"
        },
        "id": "03f9db46",
        "outputId": "ed8451ba-8f9e-492e-8e34-45f507e93ea7",
        "scrolled": true
      },
      "outputs": [
        {
          "name": "stdout",
          "output_type": "stream",
          "text": [
            "/content/muzic/getmusic\n",
            "Global seed set to 0\n",
            "<class 'getmusic.modeling.models.dfm.DFM'>\n",
            "<class 'getmusic.modeling.roformer.diffusion_roformer.DiffusionRFM'>\n",
            "<class 'getmusic.modeling.roformer.roformer_utils.DiffusionRoformerModel'>\n",
            "Load dictionary: 11879 tokens.\n",
            "<class 'getmusic.engine.clip_grad_norm.ClipGradNorm'>\n",
            "Get lr 3e-06 from base lr 3e-06 with none\n",
            "<class 'torch.optim.adamw.AdamW'>\n",
            "<class 'getmusic.engine.lr_scheduler.LinearDecayLRWithWarmup'>\n",
            "{'overall': {'trainable': '86.49M', 'non_trainable': '96.0K', 'total': '86.59M'}, 'rfm': {'trainable': '86.49M', 'non_trainable': '96.0K', 'total': '86.59M'}}\n",
            "self.device  0\n",
            "inference_cache: global rank 0: prepare solver done!\n",
            "Resume from /content/checkpoint.pth\n",
            "/content/muzic/getmusic/example_data/input/position-よぞらに.mid\n",
            "skip?y\n",
            "/content/muzic/getmusic/example_data/input/よぞらに.mid\n",
            "skip?n\n",
            "Select condition tracks ('b' for bass, 'd' for drums, 'g' for guitar, 'l' for lead, 'p' for piano, 's' for strings, 'c' for chords; multiple choices; input any other key to skip):p\n",
            "Select content tracks ('b' for bass, 'd' for drums, 'g' for guitar, 'l' for lead, 'p' for piano, 's' for strings; multiple choices):bds\n",
            "use ema parameters\n",
            "100% 100/100 [00:40<00:00,  2.50it/s]\n",
            "sampling, the song has 512 time units\n"
          ]
        }
      ],
      "source": [
        "#@title トラックの生成\n",
        "%cd /content/muzic/getmusic\n",
        "\n",
        "!python /content/muzic/getmusic/track_generation.py \\\n",
        "--load_path /content/checkpoint.pth \\\n",
        "--file_path /content/muzic/getmusic/example_data/input\n",
        "--output_midi /content/muzic/getmusic/example_data/output_midi"
      ]
    },
    {
      "cell_type": "code",
      "execution_count": null,
      "id": "dcc59d20",
      "metadata": {
        "colab": {
          "base_uri": "https://localhost:8080/"
        },
        "id": "dcc59d20",
        "outputId": "9a3ffc37-b222-470d-f7b6-1fd2934244ef"
      },
      "outputs": [
        {
          "name": "stdout",
          "output_type": "stream",
          "text": [
            "/content/muzic/getmusic\n",
            "Global seed set to 0\n",
            "/content/muzic/getmusic/position_generation.py:698: UserWarning: You have chosen a specific GPU. This will completely disable ddp.\n",
            "  warnings.warn('You have chosen a specific GPU. This will completely disable ddp.')\n",
            "<class 'getmusic.modeling.models.dfm.DFM'>\n",
            "<class 'getmusic.modeling.roformer.diffusion_roformer.DiffusionRFM'>\n",
            "<class 'getmusic.modeling.roformer.roformer_utils.DiffusionRoformerModel'>\n",
            "Load dictionary: 11879 tokens.\n",
            "<class 'getmusic.engine.clip_grad_norm.ClipGradNorm'>\n",
            "Get lr 3e-06 from base lr 3e-06 with none\n",
            "<class 'torch.optim.adamw.AdamW'>\n",
            "<class 'getmusic.engine.lr_scheduler.LinearDecayLRWithWarmup'>\n",
            "{'overall': {'trainable': '86.49M', 'non_trainable': '96.0K', 'total': '86.59M'}, 'rfm': {'trainable': '86.49M', 'non_trainable': '96.0K', 'total': '86.59M'}}\n",
            "self.device  0\n",
            "inference_cache: global rank 0: prepare solver done!\n",
            "Resume from /content/checkpoint.pth\n",
            "/content/muzic/getmusic/example_data/input/よぞらに.mid\n",
            "skip?n\n",
            "The music has {'piano'} tracks, with 1153 positions\n",
            "Representation Visualization:\n",
            "\t0,1,2,3,4,5,6,7,8,...\n",
            "(0)lead\n",
            "(1)bass\n",
            "(2)drum\n",
            "(3)guitar\n",
            "(4)piano\n",
            "(5)string\n",
            "(6)chord\n",
            "Example: condition on 100 to 200 position of lead, 300 to 400 position of piano, write command like this:'0,100,200;4,300,400\n",
            "Input positions you want to condition on:0,0,200;6,0,\n",
            "Input positions you want to empty:1,0,;4,0,;5,0,\n",
            "1,0,;4,0,;5,0,\n",
            "0,0,200;6,0,\n",
            "use ema parameters\n",
            "100% 100/100 [01:44<00:00,  1.05s/it]\n",
            "sampling, the song has 1153 time units\n"
          ]
        }
      ],
      "source": [
        "#@title 高度な操作\n",
        "%cd /content/muzic/getmusic\n",
        "\n",
        "!python /content/muzic/getmusic/position_generation.py \\\n",
        "--load_path /content/checkpoint.pth \\\n",
        "--file_path /content/muzic/getmusic/example_data/input\n",
        "\n",
        "#Input positions you want to condition on: 0,0,200;6,0,\n",
        "#Input positions you want to empty: 1,0,;4,0,;5,0,"
      ]
    },
    {
      "cell_type": "code",
      "execution_count": null,
      "id": "PLV0URKHwcNc",
      "metadata": {
        "colab": {
          "base_uri": "https://localhost:8080/",
          "height": 292
        },
        "id": "PLV0URKHwcNc",
        "outputId": "76cd6c1e-d448-4d50-8d9c-3179d1ed5680"
      },
      "outputs": [
        {
          "name": "stdout",
          "output_type": "stream",
          "text": [
            "/content/muzic/getmusic/example_data/input/p2bds-よぞらに.mid\n"
          ]
        },
        {
          "data": {
            "text/html": [
              "<div id=\"id_2\"> </div>"
            ],
            "text/plain": [
              "<IPython.core.display.HTML object>"
            ]
          },
          "metadata": {},
          "output_type": "display_data"
        },
        {
          "data": {
            "application/javascript": "(function(root) {\n  function now() {\n    return new Date();\n  }\n\n  const force = true;\n\n  if (typeof root._bokeh_onload_callbacks === \"undefined\" || force === true) {\n    root._bokeh_onload_callbacks = [];\n    root._bokeh_is_loading = undefined;\n  }\n\nconst JS_MIME_TYPE = 'application/javascript';\n  const HTML_MIME_TYPE = 'text/html';\n  const EXEC_MIME_TYPE = 'application/vnd.bokehjs_exec.v0+json';\n  const CLASS_NAME = 'output_bokeh rendered_html';\n\n  /**\n   * Render data to the DOM node\n   */\n  function render(props, node) {\n    const script = document.createElement(\"script\");\n    node.appendChild(script);\n  }\n\n  /**\n   * Handle when an output is cleared or removed\n   */\n  function handleClearOutput(event, handle) {\n    const cell = handle.cell;\n\n    const id = cell.output_area._bokeh_element_id;\n    const server_id = cell.output_area._bokeh_server_id;\n    // Clean up Bokeh references\n    if (id != null && id in Bokeh.index) {\n      Bokeh.index[id].model.document.clear();\n      delete Bokeh.index[id];\n    }\n\n    if (server_id !== undefined) {\n      // Clean up Bokeh references\n      const cmd_clean = \"from bokeh.io.state import curstate; print(curstate().uuid_to_server['\" + server_id + \"'].get_sessions()[0].document.roots[0]._id)\";\n      cell.notebook.kernel.execute(cmd_clean, {\n        iopub: {\n          output: function(msg) {\n            const id = msg.content.text.trim();\n            if (id in Bokeh.index) {\n              Bokeh.index[id].model.document.clear();\n              delete Bokeh.index[id];\n            }\n          }\n        }\n      });\n      // Destroy server and session\n      const cmd_destroy = \"import bokeh.io.notebook as ion; ion.destroy_server('\" + server_id + \"')\";\n      cell.notebook.kernel.execute(cmd_destroy);\n    }\n  }\n\n  /**\n   * Handle when a new output is added\n   */\n  function handleAddOutput(event, handle) {\n    const output_area = handle.output_area;\n    const output = handle.output;\n\n    // limit handleAddOutput to display_data with EXEC_MIME_TYPE content only\n    if ((output.output_type != \"display_data\") || (!Object.prototype.hasOwnProperty.call(output.data, EXEC_MIME_TYPE))) {\n      return\n    }\n\n    const toinsert = output_area.element.find(\".\" + CLASS_NAME.split(' ')[0]);\n\n    if (output.metadata[EXEC_MIME_TYPE][\"id\"] !== undefined) {\n      toinsert[toinsert.length - 1].firstChild.textContent = output.data[JS_MIME_TYPE];\n      // store reference to embed id on output_area\n      output_area._bokeh_element_id = output.metadata[EXEC_MIME_TYPE][\"id\"];\n    }\n    if (output.metadata[EXEC_MIME_TYPE][\"server_id\"] !== undefined) {\n      const bk_div = document.createElement(\"div\");\n      bk_div.innerHTML = output.data[HTML_MIME_TYPE];\n      const script_attrs = bk_div.children[0].attributes;\n      for (let i = 0; i < script_attrs.length; i++) {\n        toinsert[toinsert.length - 1].firstChild.setAttribute(script_attrs[i].name, script_attrs[i].value);\n        toinsert[toinsert.length - 1].firstChild.textContent = bk_div.children[0].textContent\n      }\n      // store reference to server id on output_area\n      output_area._bokeh_server_id = output.metadata[EXEC_MIME_TYPE][\"server_id\"];\n    }\n  }\n\n  function register_renderer(events, OutputArea) {\n\n    function append_mime(data, metadata, element) {\n      // create a DOM node to render to\n      const toinsert = this.create_output_subarea(\n        metadata,\n        CLASS_NAME,\n        EXEC_MIME_TYPE\n      );\n      this.keyboard_manager.register_events(toinsert);\n      // Render to node\n      const props = {data: data, metadata: metadata[EXEC_MIME_TYPE]};\n      render(props, toinsert[toinsert.length - 1]);\n      element.append(toinsert);\n      return toinsert\n    }\n\n    /* Handle when an output is cleared or removed */\n    events.on('clear_output.CodeCell', handleClearOutput);\n    events.on('delete.Cell', handleClearOutput);\n\n    /* Handle when a new output is added */\n    events.on('output_added.OutputArea', handleAddOutput);\n\n    /**\n     * Register the mime type and append_mime function with output_area\n     */\n    OutputArea.prototype.register_mime_type(EXEC_MIME_TYPE, append_mime, {\n      /* Is output safe? */\n      safe: true,\n      /* Index of renderer in `output_area.display_order` */\n      index: 0\n    });\n  }\n\n  // register the mime type if in Jupyter Notebook environment and previously unregistered\n  if (root.Jupyter !== undefined) {\n    const events = require('base/js/events');\n    const OutputArea = require('notebook/js/outputarea').OutputArea;\n\n    if (OutputArea.prototype.mime_types().indexOf(EXEC_MIME_TYPE) == -1) {\n      register_renderer(events, OutputArea);\n    }\n  }\n  if (typeof (root._bokeh_timeout) === \"undefined\" || force === true) {\n    root._bokeh_timeout = Date.now() + 5000;\n    root._bokeh_failed_load = false;\n  }\n\n  const NB_LOAD_WARNING = {'data': {'text/html':\n     \"<div style='background-color: #fdd'>\\n\"+\n     \"<p>\\n\"+\n     \"BokehJS does not appear to have successfully loaded. If loading BokehJS from CDN, this \\n\"+\n     \"may be due to a slow or bad network connection. Possible fixes:\\n\"+\n     \"</p>\\n\"+\n     \"<ul>\\n\"+\n     \"<li>re-rerun `output_notebook()` to attempt to load from CDN again, or</li>\\n\"+\n     \"<li>use INLINE resources instead, as so:</li>\\n\"+\n     \"</ul>\\n\"+\n     \"<code>\\n\"+\n     \"from bokeh.resources import INLINE\\n\"+\n     \"output_notebook(resources=INLINE)\\n\"+\n     \"</code>\\n\"+\n     \"</div>\"}};\n\n  function display_loaded() {\n    const el = document.getElementById(null);\n    if (el != null) {\n      el.textContent = \"BokehJS is loading...\";\n    }\n    if (root.Bokeh !== undefined) {\n      if (el != null) {\n        el.textContent = \"BokehJS \" + root.Bokeh.version + \" successfully loaded.\";\n      }\n    } else if (Date.now() < root._bokeh_timeout) {\n      setTimeout(display_loaded, 100)\n    }\n  }\n\n  function run_callbacks() {\n    try {\n      root._bokeh_onload_callbacks.forEach(function(callback) {\n        if (callback != null)\n          callback();\n      });\n    } finally {\n      delete root._bokeh_onload_callbacks\n    }\n    console.debug(\"Bokeh: all callbacks have finished\");\n  }\n\n  function load_libs(css_urls, js_urls, callback) {\n    if (css_urls == null) css_urls = [];\n    if (js_urls == null) js_urls = [];\n\n    root._bokeh_onload_callbacks.push(callback);\n    if (root._bokeh_is_loading > 0) {\n      console.debug(\"Bokeh: BokehJS is being loaded, scheduling callback at\", now());\n      return null;\n    }\n    if (js_urls == null || js_urls.length === 0) {\n      run_callbacks();\n      return null;\n    }\n    console.debug(\"Bokeh: BokehJS not loaded, scheduling load and callback at\", now());\n    root._bokeh_is_loading = css_urls.length + js_urls.length;\n\n    function on_load() {\n      root._bokeh_is_loading--;\n      if (root._bokeh_is_loading === 0) {\n        console.debug(\"Bokeh: all BokehJS libraries/stylesheets loaded\");\n        run_callbacks()\n      }\n    }\n\n    function on_error(url) {\n      console.error(\"failed to load \" + url);\n    }\n\n    for (let i = 0; i < css_urls.length; i++) {\n      const url = css_urls[i];\n      const element = document.createElement(\"link\");\n      element.onload = on_load;\n      element.onerror = on_error.bind(null, url);\n      element.rel = \"stylesheet\";\n      element.type = \"text/css\";\n      element.href = url;\n      console.debug(\"Bokeh: injecting link tag for BokehJS stylesheet: \", url);\n      document.body.appendChild(element);\n    }\n\n    for (let i = 0; i < js_urls.length; i++) {\n      const url = js_urls[i];\n      const element = document.createElement('script');\n      element.onload = on_load;\n      element.onerror = on_error.bind(null, url);\n      element.async = false;\n      element.src = url;\n      console.debug(\"Bokeh: injecting script tag for BokehJS library: \", url);\n      document.head.appendChild(element);\n    }\n  };\n\n  function inject_raw_css(css) {\n    const element = document.createElement(\"style\");\n    element.appendChild(document.createTextNode(css));\n    document.body.appendChild(element);\n  }\n\n  const js_urls = [\"https://cdn.bokeh.org/bokeh/release/bokeh-2.4.3.min.js\", \"https://cdn.bokeh.org/bokeh/release/bokeh-gl-2.4.3.min.js\", \"https://cdn.bokeh.org/bokeh/release/bokeh-widgets-2.4.3.min.js\", \"https://cdn.bokeh.org/bokeh/release/bokeh-tables-2.4.3.min.js\", \"https://cdn.bokeh.org/bokeh/release/bokeh-mathjax-2.4.3.min.js\"];\n  const css_urls = [];\n\n  const inline_js = [    function(Bokeh) {\n      Bokeh.set_log_level(\"info\");\n    },\nfunction(Bokeh) {\n    }\n  ];\n\n  function run_inline_js() {\n    if (root.Bokeh !== undefined || force === true) {\n          for (let i = 0; i < inline_js.length; i++) {\n      inline_js[i].call(root, root.Bokeh);\n    }\n} else if (Date.now() < root._bokeh_timeout) {\n      setTimeout(run_inline_js, 100);\n    } else if (!root._bokeh_failed_load) {\n      console.log(\"Bokeh: BokehJS failed to load within specified timeout.\");\n      root._bokeh_failed_load = true;\n    } else if (force !== true) {\n      const cell = $(document.getElementById(null)).parents('.cell').data().cell;\n      cell.output_area.append_execute_result(NB_LOAD_WARNING)\n    }\n  }\n\n  if (root._bokeh_is_loading === 0) {\n    console.debug(\"Bokeh: BokehJS loaded, going straight to plotting\");\n    run_inline_js();\n  } else {\n    load_libs(css_urls, js_urls, function() {\n      console.debug(\"Bokeh: BokehJS plotting callback run at\", now());\n      run_inline_js();\n    });\n  }\n}(window));",
            "application/vnd.bokehjs_load.v0+json": ""
          },
          "metadata": {},
          "output_type": "display_data"
        },
        {
          "data": {
            "text/html": [
              "\n",
              "  <div class=\"bk-root\" id=\"9c80c752-1f11-4606-a002-6d9384df9c01\" data-root-id=\"1153\"></div>\n"
            ]
          },
          "metadata": {},
          "output_type": "display_data"
        },
        {
          "data": {
            "application/javascript": "(function(root) {\n  function embed_document(root) {\n  const docs_json = {\"03487d3f-cc56-4818-8132-c54bb1240041\":{\"defs\":[],\"roots\":{\"references\":[{\"attributes\":{\"below\":[{\"id\":\"1162\"}],\"center\":[{\"id\":\"1165\"},{\"id\":\"1169\"}],\"height\":200,\"left\":[{\"id\":\"1166\"}],\"renderers\":[{\"id\":\"1190\"},{\"id\":\"1197\"},{\"id\":\"1204\"}],\"title\":{\"id\":\"1206\"},\"toolbar\":{\"id\":\"1176\"},\"width\":500,\"x_range\":{\"id\":\"1154\"},\"x_scale\":{\"id\":\"1158\"},\"y_range\":{\"id\":\"1156\"},\"y_scale\":{\"id\":\"1160\"}},\"id\":\"1153\",\"subtype\":\"Figure\",\"type\":\"Plot\"},{\"attributes\":{},\"id\":\"1156\",\"type\":\"DataRange1d\"},{\"attributes\":{\"interval\":12},\"id\":\"1182\",\"type\":\"SingleIntervalTicker\"},{\"attributes\":{\"callback\":null,\"tooltips\":[[\"pitch\",\"@pitch\"],[\"program\",\"@program\"],[\"velo\",\"@velocity\"],[\"duration\",\"@duration\"],[\"start_time\",\"@start_time\"],[\"end_time\",\"@end_time\"],[\"velocity\",\"@velocity\"],[\"fill_alpha\",\"@fill_alpha\"]]},\"id\":\"1170\",\"type\":\"HoverTool\"},{\"attributes\":{\"axis_label\":\"time (sec)\",\"coordinates\":null,\"formatter\":{\"id\":\"1211\"},\"group\":null,\"major_label_policy\":{\"id\":\"1212\"},\"ticker\":{\"id\":\"1163\"}},\"id\":\"1162\",\"type\":\"LinearAxis\"},{\"attributes\":{\"source\":{\"id\":\"1185\"}},\"id\":\"1191\",\"type\":\"CDSView\"},{\"attributes\":{\"axis_label\":\"pitch (MIDI)\",\"coordinates\":null,\"formatter\":{\"id\":\"1208\"},\"group\":null,\"major_label_policy\":{\"id\":\"1209\"},\"ticker\":{\"id\":\"1182\"}},\"id\":\"1166\",\"type\":\"LinearAxis\"},{\"attributes\":{\"bottom\":{\"field\":\"bottom\"},\"fill_alpha\":{\"value\":0.2},\"fill_color\":{\"value\":\"#d53e4f\"},\"hatch_alpha\":{\"value\":0.2},\"left\":{\"field\":\"start_time\"},\"line_alpha\":{\"value\":0.2},\"right\":{\"field\":\"end_time\"},\"top\":{\"field\":\"top\"}},\"id\":\"1189\",\"type\":\"Quad\"},{\"attributes\":{},\"id\":\"1174\",\"type\":\"SaveTool\"},{\"attributes\":{},\"id\":\"1163\",\"type\":\"BasicTicker\"},{\"attributes\":{\"bottom\":{\"field\":\"bottom\"},\"fill_alpha\":{\"value\":0.2},\"fill_color\":{\"value\":\"#f46d43\"},\"hatch_alpha\":{\"value\":0.2},\"left\":{\"field\":\"start_time\"},\"line_alpha\":{\"value\":0.2},\"right\":{\"field\":\"end_time\"},\"top\":{\"field\":\"top\"}},\"id\":\"1203\",\"type\":\"Quad\"},{\"attributes\":{\"axis\":{\"id\":\"1166\"},\"coordinates\":null,\"dimension\":1,\"group\":null,\"ticker\":{\"id\":\"1184\"}},\"id\":\"1169\",\"type\":\"Grid\"},{\"attributes\":{\"bottom\":{\"field\":\"bottom\"},\"fill_alpha\":{\"value\":0.1},\"fill_color\":{\"value\":\"#d53e4f\"},\"hatch_alpha\":{\"value\":0.1},\"left\":{\"field\":\"start_time\"},\"line_alpha\":{\"value\":0.1},\"right\":{\"field\":\"end_time\"},\"top\":{\"field\":\"top\"}},\"id\":\"1188\",\"type\":\"Quad\"},{\"attributes\":{},\"id\":\"1154\",\"type\":\"DataRange1d\"},{\"attributes\":{},\"id\":\"1171\",\"type\":\"PanTool\"},{\"attributes\":{},\"id\":\"1216\",\"type\":\"Selection\"},{\"attributes\":{\"coordinates\":null,\"data_source\":{\"id\":\"1192\"},\"glyph\":{\"id\":\"1194\"},\"group\":null,\"hover_glyph\":null,\"muted_glyph\":{\"id\":\"1196\"},\"nonselection_glyph\":{\"id\":\"1195\"},\"view\":{\"id\":\"1198\"}},\"id\":\"1197\",\"type\":\"GlyphRenderer\"},{\"attributes\":{},\"id\":\"1209\",\"type\":\"AllLabels\"},{\"attributes\":{},\"id\":\"1212\",\"type\":\"AllLabels\"},{\"attributes\":{},\"id\":\"1214\",\"type\":\"Selection\"},{\"attributes\":{\"data\":{\"bottom\":{\"__ndarray__\":\"mpmZmZmZPkCamZmZmZk+QJqZmZmZmT1AmpmZmZmZNkDNzMzMzExAQJqZmZmZmT5AzczMzMxMQUDNzMzMzExBQM3MzMzMTEFAzczMzMxMQUDNzMzMzExFQJqZmZmZmTJAmpmZmZmZPkCamZmZmZk+QJqZmZmZmT5AmpmZmZmZPkCamZmZmZk+QJqZmZmZmT5AmpmZmZmZPkCamZmZmZk+QJqZmZmZmT5AmpmZmZmZPkCamZmZmZk+QJqZmZmZmT5AmpmZmZmZPkCamZmZmZk+QJqZmZmZmT5AmpmZmZmZPkCamZmZmZk+QJqZmZmZmT5AmpmZmZmZPkCamZmZmZk+QJqZmZmZmT5AmpmZmZmZN0CamZmZmZk3QJqZmZmZmT5AmpmZmZmZPkCamZmZmZk+QJqZmZmZmTNAmpmZmZmZM0CamZmZmZkzQJqZmZmZmTNAmpmZmZmZM0CamZmZmZkzQJqZmZmZmTNAmpmZmZmZM0CamZmZmZkzQJqZmZmZmTNAmpmZmZmZM0CamZmZmZkzQJqZmZmZmTNAmpmZmZmZM0CamZmZmZk+QJqZmZmZmT5AmpmZmZmZPkCamZmZmZk+QJqZmZmZmT5AmpmZmZmZPkCamZmZmZk+QJqZmZmZmT5AmpmZmZmZPkCamZmZmZk+QJqZmZmZmT5AmpmZmZmZPkCamZmZmZk+QJqZmZmZmT5AmpmZmZmZPkCamZmZmZk+QJqZmZmZmT5AmpmZmZmZPkCamZmZmZk3QJqZmZmZmTdAmpmZmZmZN0CamZmZmZk3QJqZmZmZmTdAmpmZmZmZPkCamZmZmZk+QJqZmZmZmT5AmpmZmZmZPkCamZmZmZk+QJqZmZmZmT5AmpmZmZmZPkCamZmZmZkzQJqZmZmZmTNAmpmZmZmZM0CamZmZmZkzQJqZmZmZmTNAmpmZmZmZM0CamZmZmZk4QJqZmZmZmTNAmpmZmZmZOECamZmZmZkzQJqZmZmZmThAmpmZmZmZOECamZmZmZk4QJqZmZmZmTNAmpmZmZmZM0CamZmZmZkzQJqZmZmZmTNAmpmZmZmZOECamZmZmZkzQJqZmZmZmThAmpmZmZmZM0CamZmZmZk4QJqZmZmZmThAmpmZmZmZOECamZmZmZk4QJqZmZmZmThAmpmZmZmZM0CamZmZmZk+QJqZmZmZmT5AmpmZmZmZMkCamZmZmZk+QJqZmZmZmTJAmpmZmZmZN0DNzMzMzMxBQM3MzMzMzEFAzczMzMzMQUDNzMzMzMxBQM3MzMzMzEFAzczMzMzMQUDNzMzMzMxBQJqZmZmZmTdAmpmZmZmZPkCamZmZmZk+QJqZmZmZmT5AmpmZmZmZPkCamZmZmZkyQJqZmZmZmT5AmpmZmZmZMkCamZmZmZk3QM3MzMzMzEFAzczMzMzMQUDNzMzMzMxBQM3MzMzMzEFAzczMzMzMQUDNzMzMzMxBQM3MzMzMzEFAmpmZmZmZN0CamZmZmZk+QJqZmZmZmT5AmpmZmZmZN0CamZmZmZk+QM3MzMzMTEBAzczMzMxMQECamZmZmZk5QJqZmZmZmTlAmpmZmZmZOUCamZmZmZk5QJqZmZmZmTlAmpmZmZmZMkCamZmZmZkyQJqZmZmZmT5AmpmZmZmZPkCamZmZmZk+QJqZmZmZmT5AmpmZmZmZMkCamZmZmZk3QM3MzMzMzEFAzczMzMzMQUDNzMzMzMxBQM3MzMzMzEFAzczMzMzMQUCamZmZmZk+QJqZmZmZmT5AmpmZmZmZPkCamZmZmZk+QJqZmZmZmT5AmpmZmZmZPkCamZmZmZk+QJqZmZmZmT5AmpmZmZmZPkA=\",\"dtype\":\"float64\",\"order\":\"little\",\"shape\":[172]},\"duration\":{\"__ndarray__\":\"Ql2kUBZ+9T8CJ9vAHajsP0RdpFAWfvU/QF2kUBZ+9T9EXaRQFn71P0RdpFAWfvU/ACfbwB2o7D8AJ9vAHajcPwAn28AdqOw/ACfbwB2o3D9IXaRQFn71P0BdpFAWfvU/ACfbwB2o7D8AJ9vAHajsPwAn28AdqNw/ACfbwB2o3D8AJ9vAHajcPwAn28AdqOw/ACfbwB2o3D8AJ9vAHajcPwAn28AdqNw/ACfbwB2o3D9AXaRQFn7lPwAn28AdqMw/ACfbwB2o3D8AJ9vAHajcP0An28AdqNw/ACfbwB2o3D8AJ9vAHajcPwAn28AdqNw/ACfbwB2o3D8AJ9vAHajcP0BdpFAWfvU/ACfbwB2o7D8AJ9vAHajcPwAn28AdqNw/ACfbwB2o3D8AJ9vAHajcPyAn28AdqOw/ACfbwB2o7D8AJ9vAHajcPwAn28AdqNw/ACfbwB2o3D9AXaRQFn71P0BdpFAWfgVAACfbwB2o7D8AJ9vAHajsPwAn28AdqOw/QF2kUBZ+9T9AXaRQFn4FQAAn28AdqNw/QF2kUBZ+9T+AJ9vAHajcPwAn28AdqNw/ACfbwB2o3D8AJ9vAHajcPwAn28AdqNw/ACfbwB2o3D8AJ9vAHajsPwAn28AdqOw/ACfbwB2o3D8AJ9vAHajcPwAn28AdqNw/QF2kUBZ+9T8AJ9vAHajcPwAn28AdqNw/ACfbwB2o3D8AJ9vAHajcPwAn28AdqNw/ACfbwB2o3D8AJ9vAHajsPwAn28AdqOw/ACfbwB2o3D8AJ9vAHajcPwAn28AdqNw/YF2kUBZ+9T8AJ9vAHajcPwAn28AdqNw/ACfbwB2o3D8AJ9vAHajcPwAn28AdqNw/ACfbwB2o3D8AJ9vAHajsPwAn28AdqOw/ACfbwB2o3D8AJ9vAHajcPwAn28AdqNw/ACfbwB2o7D8AJ9vAHajcPwAn28AdqNw/ACfbwB2o3D8AJ9vAHajcPwAn28AdqNw/ACfbwB2o3D8AJ9vAHajcPwAn28AdqOw/ACfbwB2o7D8AJ9vAHajcPwAn28AdqNw/ACfbwB2o3D8AJ9vAHajsPwAn28AdqNw/ACfbwB2o3D8AJ9vAHajcPwAn28AdqNw/ACfbwB2o3D8AJ9vAHajcPwAn28AdqNw/ACfbwB2o3D8AJ9vAHajcPwAn28AdqNw/ACfbwB2o3D8AJ9vAHajcPwAn28AdqNw/ACfbwB2o3D8AJ9vAHajcPwAn28AdqNw/ACfbwB2o3D8AJ9vAHajcPwAn28AdqNw/ACfbwB2o3D8AJ9vAHajcPwAn28AdqNw/ACfbwB2o3D8AJ9vAHajcPwAn28AdqNw/ACfbwB2o3D8AJ9vAHajcPwAn28AdqNw/ACfbwB2o3D8AJ9vAHajcPwAn28AdqNw/ACfbwB2o3D8AJ9vAHajcPwAn28AdqNw/ACfbwB2o3D8AJ9vAHajcPwAn28AdqNw/ACfbwB2o3D8AJ9vAHajcPwAn28AdqOw/ACfbwB2o7D8AJ9vAHajcPwAn28AdqNw/ACfbwB2o3D8AJ9vAHajcPwAn28AdqNw/ACfbwB2o3D8AKNvAHajcPwAn28AdqNw/ACfbwB2o3D8AJ9vAHajcPwAn28AdqOw/ACfbwB2o3D8AJ9vAHajcPwAn28AdqNw/ACfbwB2o3D8AJ9vAHajcPwAn28AdqNw/ACfbwB2o7D8AJ9vAHajcPwAn28AdqNw/ACfbwB2o3D8AXaRQFn7lP4BdpFAWfuU/ACfbwB2o7D8AJ9vAHajcPwAn28AdqNw/ACfbwB2o3D8AJ9vAHajcPwAn28AdqNw/ACfbwB2o/D8=\",\"dtype\":\"float64\",\"order\":\"little\",\"shape\":[172]},\"end_time\":{\"__ndarray__\":\"Ql2kUBZ+9T9CXaRQFn4FQPJFe7yQHhBAQl2kUBZ+FUCTdM3km90aQCofgqrRAyFAQl2kUBZ+JUB6Nqs+V2MmQOrouBrZLShAIsK/CBoTKUDyRXu8kB4wQMaLhSFydjFA/mSMD7NbMkA2PpP980AzQNKqlnSUszNAbhea6zQmNEAKhJ1i1Zg0QEJdpFAWfjVA3smnx7bwNUB6Nqs+V2M2QBajrrX31TZAsg+yLJhIN0CcMjffiPQ3QOrouBrZLThAhlW8kXmgOEAiwr8IGhM5QL8uw3+6hTlAW5vG9lr4OUD3B8pt+2o6QJN0zeSb3TpAL+HQWzxQO0DLTdTS3MI7QJ+T3je+Gj1A12zlJf//PUBz2eicn3I+QA9G7BNA5T5Aq7LviuBXP0BHH/MBgco/QED8/PfgV0BA3GgAb4HKQEAqH4Kq0QNBQHjVA+YhPUFAxouFIXJ2QUCwrgrUYiJCQIT0FDlEekNAbhea6zQmREAKhJ1i1ZhEQKbwoNl1C0VAkBMmjGa3RUBkWTDxRw9HQADGM2jogUdA6ui4GtktSEC/LsN/uoVJQA3lRLsKv0lAW5vG9lr4SUCpUUgyqzFKQPcHym37akpARb5LqUukSkDhKk8g7BZLQH2XUpeMiUtAy03U0tzCS0AZBFYOLfxLQGe610l9NUxAUd1c/G3hTECfk943vhpNQO1JYHMOVE1AOwDirl6NTUCJtmPqrsZNQNds5SX//01AJSNnYU85TkDBj2rY76tOQF38bU+QHk9Aq7LviuBXT0D5aHHGMJFPQEcf8wGByk9AGSE82jg7UEBA/Pz34FdQQGfXvRWJdFBAjrJ+MzGRUEC1jT9R2a1QQNxoAG+BylBAA0TBjCnnUEBR+kLIeSBRQJ+wxAPKWVFAxouFIXJ2UUDtZkY/GpNRQBRCB13Cr1FAYviImBLpUUCJ00m2ugVSQLCuCtRiIlJA14nL8Qo/UkD+ZIwPs1tSQCVATS1beFJATBsOSwOVUkBz9s5oq7FSQMGsUKT76lJAD2PS30skU0A2PpP980BTQF0ZVBucXVNAhPQUOUR6U0DSqpZ0lLNTQPmFV5I80FNAIGEYsOTsU0BHPNnNjAlUQG4Xmus0JlRAlfJaCd1CVEC8zRsnhV9UQOOo3EQtfFRACoSdYtWYVEAxX16AfbVUQFg6H54l0lRAfxXgu83uVECm8KDZdQtVQM3LYfcdKFVA9KYiFcZEVUAbguMybmFVQEJdpFAWflVAaThlbr6aVUCQEyaMZrdVQLfu5qkO1FVA3smnx7bwVUAFpWjlXg1WQCyAKQMHKlZAU1vqIK9GVkB6Nqs+V2NWQKERbFz/f1ZAyOwseqecVkDvx+2XT7lWQBajrrX31VZAPX5v05/yVkBkWTDxRw9XQIs08Q7wK1dAsg+yLJhIV0DZ6nJKQGVXQADGM2jogVdAJ6H0hZCeV0BOfLWjOLtXQHVXdsHg11dAnDI334j0V0DDDfj8MBFYQBHEeTiBSlhAhlW8kXmgWECtMH2vIb1YQNQLPs3J2VhAIsK/CBoTWUBJnYAmwi9ZQHB4QURqTFlAl1MCYhJpWUC/LsN/uoVZQOYJhJ1iollADeVEuwq/WUA0wAXZsttZQIJ2hxQDFVpAqVFIMqsxWkDQLAlQU05aQPcHym37alpAHuOKi6OHWkBFvkupS6RaQGyZDMfzwFpAuk+OAkT6WkDhKk8g7BZbQAgGED6UM1tAL+HQWzxQW0DpKXKIOHtbQKRyE7U0pltA8iiV8ITfW0AZBFYOLfxbQEDfFizVGFxAZ7rXSX01XECOlZhnJVJcQLVwWYXNblxAUd1c/G3hXEA=\",\"dtype\":\"float64\",\"order\":\"little\",\"shape\":[172]},\"fill_alpha\":{\"__ndarray__\":\"AAAAAAAA8D8AAAAAAADwPwAAAAAAAPA/AAAAAAAA8D8AAAAAAADwPwAAAAAAAPA/AAAAAAAA8D8AAAAAAADwPwAAAAAAAPA/AAAAAAAA8D8AAAAAAADwPwAAAAAAAPA/AAAAAAAA8D8AAAAAAADwPwAAAAAAAPA/AAAAAAAA8D8AAAAAAADwPwAAAAAAAPA/AAAAAAAA8D8AAAAAAADwPwAAAAAAAPA/AAAAAAAA8D8AAAAAAADwPwAAAAAAAPA/AAAAAAAA8D8AAAAAAADwPwAAAAAAAPA/AAAAAAAA8D8AAAAAAADwPwAAAAAAAPA/AAAAAAAA8D8AAAAAAADwPwAAAAAAAPA/AAAAAAAA8D8AAAAAAADwPwAAAAAAAPA/AAAAAAAA8D8AAAAAAADwPwAAAAAAAPA/AAAAAAAA8D8AAAAAAADwPwAAAAAAAPA/AAAAAAAA8D8AAAAAAADwPwAAAAAAAPA/AAAAAAAA8D8AAAAAAADwPwAAAAAAAPA/AAAAAAAA8D8AAAAAAADwPwAAAAAAAPA/AAAAAAAA8D8AAAAAAADwPwAAAAAAAPA/AAAAAAAA8D8AAAAAAADwPwAAAAAAAPA/AAAAAAAA8D8AAAAAAADwPwAAAAAAAPA/AAAAAAAA8D8AAAAAAADwPwAAAAAAAPA/AAAAAAAA8D8AAAAAAADwPwAAAAAAAPA/AAAAAAAA8D8AAAAAAADwPwAAAAAAAPA/AAAAAAAA8D8AAAAAAADwPwAAAAAAAPA/AAAAAAAA8D8AAAAAAADwPwAAAAAAAPA/AAAAAAAA8D8AAAAAAADwPwAAAAAAAPA/AAAAAAAA8D8AAAAAAADwPwAAAAAAAPA/AAAAAAAA8D8AAAAAAADwPwAAAAAAAPA/AAAAAAAA8D8AAAAAAADwPwAAAAAAAPA/AAAAAAAA8D8AAAAAAADwPwAAAAAAAPA/AAAAAAAA8D8AAAAAAADwPwAAAAAAAPA/AAAAAAAA8D8AAAAAAADwPwAAAAAAAPA/AAAAAAAA8D8AAAAAAADwPwAAAAAAAPA/AAAAAAAA8D8AAAAAAADwPwAAAAAAAPA/AAAAAAAA8D8AAAAAAADwPwAAAAAAAPA/AAAAAAAA8D8AAAAAAADwPwAAAAAAAPA/AAAAAAAA8D8AAAAAAADwPwAAAAAAAPA/AAAAAAAA8D8AAAAAAADwPwAAAAAAAPA/AAAAAAAA8D8AAAAAAADwPwAAAAAAAPA/AAAAAAAA8D8AAAAAAADwPwAAAAAAAPA/AAAAAAAA8D8AAAAAAADwPwAAAAAAAPA/AAAAAAAA8D8AAAAAAADwPwAAAAAAAPA/AAAAAAAA8D8AAAAAAADwPwAAAAAAAPA/AAAAAAAA8D8AAAAAAADwPwAAAAAAAPA/AAAAAAAA8D8AAAAAAADwPwAAAAAAAPA/AAAAAAAA8D8AAAAAAADwPwAAAAAAAPA/AAAAAAAA8D8AAAAAAADwPwAAAAAAAPA/AAAAAAAA8D8AAAAAAADwPwAAAAAAAPA/AAAAAAAA8D8AAAAAAADwPwAAAAAAAPA/AAAAAAAA8D8AAAAAAADwPwAAAAAAAPA/AAAAAAAA8D8AAAAAAADwPwAAAAAAAPA/AAAAAAAA8D8AAAAAAADwPwAAAAAAAPA/AAAAAAAA8D8AAAAAAADwPwAAAAAAAPA/AAAAAAAA8D8AAAAAAADwPwAAAAAAAPA/AAAAAAAA8D8AAAAAAADwPwAAAAAAAPA/AAAAAAAA8D8AAAAAAADwPwAAAAAAAPA/AAAAAAAA8D8AAAAAAADwPwAAAAAAAPA/AAAAAAAA8D8=\",\"dtype\":\"float64\",\"order\":\"little\",\"shape\":[172]},\"index\":[212,213,214,215,216,217,218,219,220,221,222,223,224,225,226,227,228,229,230,231,232,233,234,235,236,237,238,239,240,241,242,243,244,245,246,247,248,249,250,251,252,253,254,255,256,257,258,259,260,261,262,263,264,265,266,267,268,269,270,271,272,273,274,275,276,277,278,279,280,281,282,283,284,285,286,287,288,289,290,291,292,293,294,295,296,297,298,299,300,301,302,303,304,305,306,307,308,309,310,311,312,313,314,315,316,317,318,319,320,321,322,323,324,325,326,327,328,329,330,331,332,333,334,335,336,337,338,339,340,341,342,343,344,345,346,347,348,349,350,351,352,353,354,355,356,357,358,359,360,361,362,363,364,365,366,367,368,369,370,371,372,373,374,375,376,377,378,379,380,381,382,383],\"instrument\":[1,1,1,1,1,1,1,1,1,1,1,1,1,1,1,1,1,1,1,1,1,1,1,1,1,1,1,1,1,1,1,1,1,1,1,1,1,1,1,1,1,1,1,1,1,1,1,1,1,1,1,1,1,1,1,1,1,1,1,1,1,1,1,1,1,1,1,1,1,1,1,1,1,1,1,1,1,1,1,1,1,1,1,1,1,1,1,1,1,1,1,1,1,1,1,1,1,1,1,1,1,1,1,1,1,1,1,1,1,1,1,1,1,1,1,1,1,1,1,1,1,1,1,1,1,1,1,1,1,1,1,1,1,1,1,1,1,1,1,1,1,1,1,1,1,1,1,1,1,1,1,1,1,1,1,1,1,1,1,1,1,1,1,1,1,1,1,1,1,1,1,1],\"pitch\":[31,31,30,23,33,31,35,35,35,35,43,19,31,31,31,31,31,31,31,31,31,31,31,31,31,31,31,31,31,31,31,31,31,24,24,31,31,31,20,20,20,20,20,20,20,20,20,20,20,20,20,20,31,31,31,31,31,31,31,31,31,31,31,31,31,31,31,31,31,31,24,24,24,24,24,31,31,31,31,31,31,31,20,20,20,20,20,20,25,20,25,20,25,25,25,20,20,20,20,25,20,25,20,25,25,25,25,25,20,31,31,19,31,19,24,36,36,36,36,36,36,36,24,31,31,31,31,19,31,19,24,36,36,36,36,36,36,36,24,31,31,24,31,33,33,26,26,26,26,26,19,19,31,31,31,31,19,24,36,36,36,36,36,31,31,31,31,31,31,31,31,31],\"program\":[32,32,32,32,32,32,32,32,32,32,32,32,32,32,32,32,32,32,32,32,32,32,32,32,32,32,32,32,32,32,32,32,32,32,32,32,32,32,32,32,32,32,32,32,32,32,32,32,32,32,32,32,32,32,32,32,32,32,32,32,32,32,32,32,32,32,32,32,32,32,32,32,32,32,32,32,32,32,32,32,32,32,32,32,32,32,32,32,32,32,32,32,32,32,32,32,32,32,32,32,32,32,32,32,32,32,32,32,32,32,32,32,32,32,32,32,32,32,32,32,32,32,32,32,32,32,32,32,32,32,32,32,32,32,32,32,32,32,32,32,32,32,32,32,32,32,32,32,32,32,32,32,32,32,32,32,32,32,32,32,32,32,32,32,32,32,32,32,32,32,32,32],\"start_time\":{\"__ndarray__\":\"AAAAAAAAAAADJ9vAHaj8P0JdpFAWfgVA8kV7vJAeEEBCXaRQFn4VQAMn28AdqBxA0qqWdJSzI0BCXaRQFn4lQHo2qz5XYyZA6ui4GtktKEA7AOKuXo0tQPJFe7yQHjBAxouFIXJ2MUD+ZIwPs1syQDY+k/3zQDNA0qqWdJSzM0BuF5rrNCY0QAqEnWLVmDRAQl2kUBZ+NUDeyafHtvA1QHo2qz5XYzZAFqOutffVNkCyD7IsmEg3QJwyN9+I9DdA6ui4GtktOECGVbyReaA4QCLCvwgaEzlAvy7Df7qFOUBbm8b2Wvg5QPcHym37ajpAk3TN5JvdOkAv4dBbPFA7QMtN1NLcwjtAn5PeN74aPUDXbOUl//89QHPZ6Jyfcj5AD0bsE0DlPkCrsu+K4Fc/QEcf8wGByj9AQPz89+BXQEDcaABvgcpAQCofgqrRA0FAeNUD5iE9QUDGi4UhcnZBQLCuCtRiIkJA0qqWdJSzQ0BuF5rrNCZEQAqEnWLVmERApvCg2XULRUCQEyaMZrdFQLIPsiyYSEdAAMYzaOiBR0BweEFEakxJQL8uw3+6hUlADeVEuwq/SUBbm8b2WvhJQKlRSDKrMUpA9wfKbftqSkBFvkupS6RKQOEqTyDsFktAfZdSl4yJS0DLTdTS3MJLQBkEVg4t/EtAZ7rXSX01TEBR3Vz8beFMQJ+T3je+Gk1A7Ulgcw5UTUA7AOKuXo1NQIm2Y+quxk1A12zlJf//TUAlI2dhTzlOQMGPatjvq05AXfxtT5AeT0Crsu+K4FdPQPloccYwkU9ARx/zAYHKT0AZITzaODtQQED8/PfgV1BAZ9e9FYl0UECOsn4zMZFQQLWNP1HZrVBA3GgAb4HKUEADRMGMKedQQFH6Qsh5IFFAn7DEA8pZUUDGi4UhcnZRQO1mRj8ak1FAFEIHXcKvUUBi+IiYEulRQInTSba6BVJAsK4K1GIiUkDXicvxCj9SQP5kjA+zW1JAJUBNLVt4UkBMGw5LA5VSQHP2zmirsVJAwaxQpPvqUkAPY9LfSyRTQDY+k/3zQFNAXRlUG5xdU0CE9BQ5RHpTQNKqlnSUs1NA+YVXkjzQU0AgYRiw5OxTQEc82c2MCVRAbhea6zQmVECV8loJ3UJUQLzNGyeFX1RA46jcRC18VEAKhJ1i1ZhUQDFfXoB9tVRAWDofniXSVEB/FeC7ze5UQKbwoNl1C1VAzcth9x0oVUD0piIVxkRVQBuC4zJuYVVAQl2kUBZ+VUBpOGVuvppVQJATJoxmt1VAt+7mqQ7UVUDeyafHtvBVQAWlaOVeDVZALIApAwcqVkBTW+ogr0ZWQHo2qz5XY1ZAoRFsXP9/VkDI7Cx6p5xWQO/H7ZdPuVZAFqOutffVVkA9fm/Tn/JWQGRZMPFHD1dAizTxDvArV0CyD7IsmEhXQNnqckpAZVdAAMYzaOiBV0AnofSFkJ5XQE58taM4u1dAdVd2weDXV0CcMjffiPRXQMMN+PwwEVhAOJ86VilnWECGVbyReaBYQK0wfa8hvVhA++b+6nH2WEAiwr8IGhNZQEmdgCbCL1lAcHhBRGpMWUCXUwJiEmlZQL8uw3+6hVlA5gmEnWKiWUAN5US7Cr9ZQDTABdmy21lAgnaHFAMVWkCpUUgyqzFaQNAsCVBTTlpA9wfKbftqWkAe44qLo4daQEW+S6lLpFpAbJkMx/PAWkC6T44CRPpaQOEqTyDsFltACAYQPpQzW0Av4dBbPFBbQOkpcog4e1tApHITtTSmW0DyKJXwhN9bQBkEVg4t/FtAQN8WLNUYXEBnutdJfTVcQI6VmGclUlxAtXBZhc1uXEA=\",\"dtype\":\"float64\",\"order\":\"little\",\"shape\":[172]},\"top\":{\"__ndarray__\":\"ZmZmZmZmP0BmZmZmZmY/QGZmZmZmZj5AZmZmZmZmN0AzMzMzM7NAQGZmZmZmZj9AMzMzMzOzQUAzMzMzM7NBQDMzMzMzs0FAMzMzMzOzQUAzMzMzM7NFQGZmZmZmZjNAZmZmZmZmP0BmZmZmZmY/QGZmZmZmZj9AZmZmZmZmP0BmZmZmZmY/QGZmZmZmZj9AZmZmZmZmP0BmZmZmZmY/QGZmZmZmZj9AZmZmZmZmP0BmZmZmZmY/QGZmZmZmZj9AZmZmZmZmP0BmZmZmZmY/QGZmZmZmZj9AZmZmZmZmP0BmZmZmZmY/QGZmZmZmZj9AZmZmZmZmP0BmZmZmZmY/QGZmZmZmZj9AZmZmZmZmOEBmZmZmZmY4QGZmZmZmZj9AZmZmZmZmP0BmZmZmZmY/QGZmZmZmZjRAZmZmZmZmNEBmZmZmZmY0QGZmZmZmZjRAZmZmZmZmNEBmZmZmZmY0QGZmZmZmZjRAZmZmZmZmNEBmZmZmZmY0QGZmZmZmZjRAZmZmZmZmNEBmZmZmZmY0QGZmZmZmZjRAZmZmZmZmNEBmZmZmZmY/QGZmZmZmZj9AZmZmZmZmP0BmZmZmZmY/QGZmZmZmZj9AZmZmZmZmP0BmZmZmZmY/QGZmZmZmZj9AZmZmZmZmP0BmZmZmZmY/QGZmZmZmZj9AZmZmZmZmP0BmZmZmZmY/QGZmZmZmZj9AZmZmZmZmP0BmZmZmZmY/QGZmZmZmZj9AZmZmZmZmP0BmZmZmZmY4QGZmZmZmZjhAZmZmZmZmOEBmZmZmZmY4QGZmZmZmZjhAZmZmZmZmP0BmZmZmZmY/QGZmZmZmZj9AZmZmZmZmP0BmZmZmZmY/QGZmZmZmZj9AZmZmZmZmP0BmZmZmZmY0QGZmZmZmZjRAZmZmZmZmNEBmZmZmZmY0QGZmZmZmZjRAZmZmZmZmNEBmZmZmZmY5QGZmZmZmZjRAZmZmZmZmOUBmZmZmZmY0QGZmZmZmZjlAZmZmZmZmOUBmZmZmZmY5QGZmZmZmZjRAZmZmZmZmNEBmZmZmZmY0QGZmZmZmZjRAZmZmZmZmOUBmZmZmZmY0QGZmZmZmZjlAZmZmZmZmNEBmZmZmZmY5QGZmZmZmZjlAZmZmZmZmOUBmZmZmZmY5QGZmZmZmZjlAZmZmZmZmNEBmZmZmZmY/QGZmZmZmZj9AZmZmZmZmM0BmZmZmZmY/QGZmZmZmZjNAZmZmZmZmOEAzMzMzMzNCQDMzMzMzM0JAMzMzMzMzQkAzMzMzMzNCQDMzMzMzM0JAMzMzMzMzQkAzMzMzMzNCQGZmZmZmZjhAZmZmZmZmP0BmZmZmZmY/QGZmZmZmZj9AZmZmZmZmP0BmZmZmZmYzQGZmZmZmZj9AZmZmZmZmM0BmZmZmZmY4QDMzMzMzM0JAMzMzMzMzQkAzMzMzMzNCQDMzMzMzM0JAMzMzMzMzQkAzMzMzMzNCQDMzMzMzM0JAZmZmZmZmOEBmZmZmZmY/QGZmZmZmZj9AZmZmZmZmOEBmZmZmZmY/QDMzMzMzs0BAMzMzMzOzQEBmZmZmZmY6QGZmZmZmZjpAZmZmZmZmOkBmZmZmZmY6QGZmZmZmZjpAZmZmZmZmM0BmZmZmZmYzQGZmZmZmZj9AZmZmZmZmP0BmZmZmZmY/QGZmZmZmZj9AZmZmZmZmM0BmZmZmZmY4QDMzMzMzM0JAMzMzMzMzQkAzMzMzMzNCQDMzMzMzM0JAMzMzMzMzQkBmZmZmZmY/QGZmZmZmZj9AZmZmZmZmP0BmZmZmZmY/QGZmZmZmZj9AZmZmZmZmP0BmZmZmZmY/QGZmZmZmZj9AZmZmZmZmP0A=\",\"dtype\":\"float64\",\"order\":\"little\",\"shape\":[172]},\"velocity\":[98,98,98,98,98,98,98,98,98,98,98,98,98,98,98,98,98,98,98,98,98,98,98,98,98,98,98,98,98,98,98,98,98,98,98,98,98,98,98,98,98,98,98,98,98,98,98,98,98,98,98,98,98,98,98,98,98,98,98,98,98,98,98,98,98,98,98,98,98,98,98,98,98,98,98,98,98,98,98,98,98,98,98,98,98,98,98,98,98,98,98,98,98,98,98,98,98,98,98,98,98,98,98,98,98,98,98,98,98,98,98,98,98,98,98,98,98,98,98,98,98,98,98,98,98,98,98,98,98,98,98,98,98,98,98,98,98,98,98,98,98,98,98,98,98,98,98,98,98,98,98,98,98,98,98,98,98,98,98,98,98,98,98,98,98,98,98,98,98,98,98,98]},\"selected\":{\"id\":\"1216\"},\"selection_policy\":{\"id\":\"1215\"}},\"id\":\"1192\",\"type\":\"ColumnDataSource\"},{\"attributes\":{\"source\":{\"id\":\"1199\"}},\"id\":\"1205\",\"type\":\"CDSView\"},{\"attributes\":{\"tools\":[{\"id\":\"1170\"},{\"id\":\"1171\"},{\"id\":\"1172\"},{\"id\":\"1173\"},{\"id\":\"1174\"}]},\"id\":\"1176\",\"type\":\"Toolbar\"},{\"attributes\":{},\"id\":\"1208\",\"type\":\"BasicTickFormatter\"},{\"attributes\":{},\"id\":\"1173\",\"type\":\"ResetTool\"},{\"attributes\":{\"bottom_units\":\"screen\",\"coordinates\":null,\"fill_alpha\":0.5,\"fill_color\":\"lightgrey\",\"group\":null,\"left_units\":\"screen\",\"level\":\"overlay\",\"line_alpha\":1.0,\"line_color\":\"black\",\"line_dash\":[4,4],\"line_width\":2,\"right_units\":\"screen\",\"syncable\":false,\"top_units\":\"screen\"},\"id\":\"1175\",\"type\":\"BoxAnnotation\"},{\"attributes\":{\"bottom\":{\"field\":\"bottom\"},\"fill_alpha\":{\"field\":\"fill_alpha\"},\"fill_color\":{\"value\":\"#f46d43\"},\"left\":{\"field\":\"start_time\"},\"right\":{\"field\":\"end_time\"},\"top\":{\"field\":\"top\"}},\"id\":\"1201\",\"type\":\"Quad\"},{\"attributes\":{\"bottom\":{\"field\":\"bottom\"},\"fill_alpha\":{\"field\":\"fill_alpha\"},\"fill_color\":{\"value\":\"#3288bd\"},\"left\":{\"field\":\"start_time\"},\"right\":{\"field\":\"end_time\"},\"top\":{\"field\":\"top\"}},\"id\":\"1194\",\"type\":\"Quad\"},{\"attributes\":{\"interval\":12},\"id\":\"1184\",\"type\":\"SingleIntervalTicker\"},{\"attributes\":{\"coordinates\":null,\"data_source\":{\"id\":\"1185\"},\"glyph\":{\"id\":\"1187\"},\"group\":null,\"hover_glyph\":null,\"muted_glyph\":{\"id\":\"1189\"},\"nonselection_glyph\":{\"id\":\"1188\"},\"view\":{\"id\":\"1191\"}},\"id\":\"1190\",\"type\":\"GlyphRenderer\"},{\"attributes\":{},\"id\":\"1158\",\"type\":\"LinearScale\"},{\"attributes\":{},\"id\":\"1160\",\"type\":\"LinearScale\"},{\"attributes\":{},\"id\":\"1215\",\"type\":\"UnionRenderers\"},{\"attributes\":{},\"id\":\"1211\",\"type\":\"BasicTickFormatter\"},{\"attributes\":{\"axis\":{\"id\":\"1162\"},\"coordinates\":null,\"group\":null,\"ticker\":null},\"id\":\"1165\",\"type\":\"Grid\"},{\"attributes\":{\"source\":{\"id\":\"1192\"}},\"id\":\"1198\",\"type\":\"CDSView\"},{\"attributes\":{\"bottom\":{\"field\":\"bottom\"},\"fill_alpha\":{\"value\":0.1},\"fill_color\":{\"value\":\"#3288bd\"},\"hatch_alpha\":{\"value\":0.1},\"left\":{\"field\":\"start_time\"},\"line_alpha\":{\"value\":0.1},\"right\":{\"field\":\"end_time\"},\"top\":{\"field\":\"top\"}},\"id\":\"1195\",\"type\":\"Quad\"},{\"attributes\":{\"bottom\":{\"field\":\"bottom\"},\"fill_alpha\":{\"field\":\"fill_alpha\"},\"fill_color\":{\"value\":\"#d53e4f\"},\"left\":{\"field\":\"start_time\"},\"right\":{\"field\":\"end_time\"},\"top\":{\"field\":\"top\"}},\"id\":\"1187\",\"type\":\"Quad\"},{\"attributes\":{\"overlay\":{\"id\":\"1175\"}},\"id\":\"1172\",\"type\":\"BoxZoomTool\"},{\"attributes\":{\"bottom\":{\"field\":\"bottom\"},\"fill_alpha\":{\"value\":0.1},\"fill_color\":{\"value\":\"#f46d43\"},\"hatch_alpha\":{\"value\":0.1},\"left\":{\"field\":\"start_time\"},\"line_alpha\":{\"value\":0.1},\"right\":{\"field\":\"end_time\"},\"top\":{\"field\":\"top\"}},\"id\":\"1202\",\"type\":\"Quad\"},{\"attributes\":{\"data\":{\"bottom\":{\"__ndarray__\":\"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\",\"dtype\":\"float64\",\"order\":\"little\",\"shape\":[212]},\"duration\":{\"__ndarray__\":\"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\",\"dtype\":\"float64\",\"order\":\"little\",\"shape\":[212]},\"end_time\":{\"__ndarray__\":\"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\",\"dtype\":\"float64\",\"order\":\"little\",\"shape\":[212]},\"fill_alpha\":{\"__ndarray__\":\"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\",\"dtype\":\"float64\",\"order\":\"little\",\"shape\":[212]},\"index\":[0,1,2,3,4,5,6,7,8,9,10,11,12,13,14,15,16,17,18,19,20,21,22,23,24,25,26,27,28,29,30,31,32,33,34,35,36,37,38,39,40,41,42,43,44,45,46,47,48,49,50,51,52,53,54,55,56,57,58,59,60,61,62,63,64,65,66,67,68,69,70,71,72,73,74,75,76,77,78,79,80,81,82,83,84,85,86,87,88,89,90,91,92,93,94,95,96,97,98,99,100,101,102,103,104,105,106,107,108,109,110,111,112,113,114,115,116,117,118,119,120,121,122,123,124,125,126,127,128,129,130,131,132,133,134,135,136,137,138,139,140,141,142,143,144,145,146,147,148,149,150,151,152,153,154,155,156,157,158,159,160,161,162,163,164,165,166,167,168,169,170,171,172,173,174,175,176,177,178,179,180,181,182,183,184,185,186,187,188,189,190,191,192,193,194,195,196,197,198,199,200,201,202,203,204,205,206,207,208,209,210,211],\"instrument\":[0,0,0,0,0,0,0,0,0,0,0,0,0,0,0,0,0,0,0,0,0,0,0,0,0,0,0,0,0,0,0,0,0,0,0,0,0,0,0,0,0,0,0,0,0,0,0,0,0,0,0,0,0,0,0,0,0,0,0,0,0,0,0,0,0,0,0,0,0,0,0,0,0,0,0,0,0,0,0,0,0,0,0,0,0,0,0,0,0,0,0,0,0,0,0,0,0,0,0,0,0,0,0,0,0,0,0,0,0,0,0,0,0,0,0,0,0,0,0,0,0,0,0,0,0,0,0,0,0,0,0,0,0,0,0,0,0,0,0,0,0,0,0,0,0,0,0,0,0,0,0,0,0,0,0,0,0,0,0,0,0,0,0,0,0,0,0,0,0,0,0,0,0,0,0,0,0,0,0,0,0,0,0,0,0,0,0,0,0,0,0,0,0,0,0,0,0,0,0,0,0,0,0,0,0,0,0,0,0,0,0,0],\"pitch\":[59,62,66,62,59,62,66,59,62,66,59,62,66,59,62,66,59,62,66,54,59,59,62,66,50,54,59,59,62,66,59,62,66,74,48,51,55,58,59,62,66,67,70,48,51,55,58,72,67,48,51,55,58,48,52,55,70,48,52,55,67,67,65,48,52,55,49,53,56,68,68,49,53,56,67,68,49,53,56,65,49,53,56,68,49,53,56,68,49,53,56,65,67,49,53,56,68,49,53,56,65,67,48,49,52,53,55,56,65,65,60,48,52,55,60,48,52,55,60,60,64,60,50,54,54,57,54,54,55,50,57,57,49,53,56,68,68,49,53,56,67,68,49,53,56,65,49,53,56,68,49,53,56,68,49,53,56,65,67,49,53,56,68,49,53,56,65,67,48,49,52,53,55,56,65,65,60,48,52,55,60,60,50,54,57,50,54,57,81,78,48,52,55,81,78,48,52,55,60,60,64,60,50,54,54,57,54,54,55,50,57,57],\"program\":[0,0,0,0,0,0,0,0,0,0,0,0,0,0,0,0,0,0,0,0,0,0,0,0,0,0,0,0,0,0,0,0,0,0,0,0,0,0,0,0,0,0,0,0,0,0,0,0,0,0,0,0,0,0,0,0,0,0,0,0,0,0,0,0,0,0,0,0,0,0,0,0,0,0,0,0,0,0,0,0,0,0,0,0,0,0,0,0,0,0,0,0,0,0,0,0,0,0,0,0,0,0,0,0,0,0,0,0,0,0,0,0,0,0,0,0,0,0,0,0,0,0,0,0,0,0,0,0,0,0,0,0,0,0,0,0,0,0,0,0,0,0,0,0,0,0,0,0,0,0,0,0,0,0,0,0,0,0,0,0,0,0,0,0,0,0,0,0,0,0,0,0,0,0,0,0,0,0,0,0,0,0,0,0,0,0,0,0,0,0,0,0,0,0,0,0,0,0,0,0,0,0,0,0,0,0,0,0,0,0,0,0],\"start_time\":{\"__ndarray__\":\"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\",\"dtype\":\"float64\",\"order\":\"little\",\"shape\":[212]},\"top\":{\"__ndarray__\":\"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\",\"dtype\":\"float64\",\"order\":\"little\",\"shape\":[212]},\"velocity\":[98,98,98,98,98,98,98,98,98,98,98,98,98,98,98,98,98,98,98,98,98,98,98,98,98,98,98,98,98,98,98,98,98,98,98,98,98,98,98,98,98,98,98,98,98,98,98,98,98,98,98,98,98,98,98,98,98,98,98,98,98,98,98,98,98,98,98,98,98,98,98,98,98,98,98,98,98,98,98,98,98,98,98,98,98,98,98,98,98,98,98,98,98,98,98,98,98,98,98,98,98,98,98,98,98,98,98,98,98,98,98,98,98,98,98,98,98,98,98,98,98,98,98,98,98,98,98,98,98,98,98,98,98,98,98,98,98,98,98,98,98,98,98,98,98,98,98,98,98,98,98,98,98,98,98,98,98,98,98,98,98,98,98,98,98,98,98,98,98,98,98,98,98,98,98,98,98,98,98,98,98,98,98,98,98,98,98,98,98,98,98,98,98,98,98,98,98,98,98,98,98,98,98,98,98,98,98,98,98,98,98,98]},\"selected\":{\"id\":\"1214\"},\"selection_policy\":{\"id\":\"1213\"}},\"id\":\"1185\",\"type\":\"ColumnDataSource\"},{\"attributes\":{\"coordinates\":null,\"data_source\":{\"id\":\"1199\"},\"glyph\":{\"id\":\"1201\"},\"group\":null,\"hover_glyph\":null,\"muted_glyph\":{\"id\":\"1203\"},\"nonselection_glyph\":{\"id\":\"1202\"},\"view\":{\"id\":\"1205\"}},\"id\":\"1204\",\"type\":\"GlyphRenderer\"},{\"attributes\":{\"data\":{\"bottom\":{\"__ndarray__\":\"zczMzMxMQUDNzMzMzExCQM3MzMzMTEFAzczMzMxMQkDNzMzMzExCQM3MzMzMTEFAzczMzMxMQkDNzMzMzMxEQM3MzMzMTEFAzczMzMzMREDNzMzMzExBQM3MzMzMTEJAzczMzMzMREDNzMzMzExBQM3MzMzMTEFAzczMzMxMQkDNzMzMzMxEQM3MzMzMzERAzczMzMxMQUDNzMzMzExCQM3MzMzMzEJAzczMzMzMREDNzMzMzExBQM3MzMzMTEFAzczMzMxMQUDNzMzMzExBQM3MzMzMzEJAzczMzMzMSkDNzMzMzExBQM3MzMzMTEFAzczMzMxMQUDNzMzMzExIQM3MzMzMTEFAzczMzMxMQUDNzMzMzMxEQM3MzMzMzERAzczMzMxMQUDNzMzMzExCQM3MzMzMTEFAzczMzMzMQkDNzMzMzExBQM3MzMzMTEJAzczMzMxMQkDNzMzMzExBQM3MzMzMTEJAzczMzMzMQkDNzMzMzExIQM3MzMzMTEJAzczMzMzMQUDNzMzMzExCQM3MzMzMTEFAzczMzMxMQkDNzMzMzMxEQM3MzMzMTEFAzczMzMxMQkDNzMzMzExCQM3MzMzMTEFAzczMzMxMQUDNzMzMzExCQM3MzMzMTEJAzczMzMxMQUDNzMzMzExIQM3MzMzMTEFAzczMzMxMQkDNzMzMzExBQM3MzMzMTEJAzczMzMxMQkDNzMzMzExBQM3MzMzMzEFAzczMzMxMQkDNzMzMzMxEQM3MzMzMTEFAzczMzMxMQkDNzMzMzMxEQM3MzMzMzEFAzczMzMxMQkDNzMzMzExCQM3MzMzMzEFAzczMzMxMQkDNzMzMzExCQM3MzMzMzEFAzczMzMxMQkDNzMzMzExCQM3MzMzMzEFAzczMzMxMQkDNzMzMzExCQM3MzMzMTEJAzczMzMxMQkDNzMzMzMxBQM3MzMzMzERAzczMzMxMQUDNzMzMzExCQM3MzMzMzEFAzczMzMzMREDNzMzMzExCQM3MzMzMzEFAzczMzMzMREDNzMzMzExBQM3MzMzMTEJAzczMzMzMQUDNzMzMzMxEQM3MzMzMTEJAzczMzMzMQUDNzMzMzMxEQM3MzMzMzEFAzczMzMxMQUDNzMzMzExCQM3MzMzMzEFAzczMzMxMQkDNzMzMzMxBQM3MzMzMzERAzczMzMxMQUDNzMzMzExCQM3MzMzMzEFAzczMzMxMQkDNzMzMzExCQM3MzMzMzEFAzczMzMzMREDNzMzMzMxBQM3MzMzMTEFAzczMzMxMQkDNzMzMzExCQM3MzMzMzEFAzczMzMxMQUDNzMzMzExCQM3MzMzMTEJAzczMzMzMQUDNzMzMzMxBQM3MzMzMTEJAzczMzMxMQUDNzMzMzExCQM3MzMzMzEFAzczMzMzMQUDNzMzMzExBQM3MzMzMTEJAzczMzMxMQkDNzMzMzMxBQM3MzMzMzEFAzczMzMxMQUDNzMzMzExCQM3MzMzMzERAzczMzMxMQUDNzMzMzExCQM3MzMzMTEFAzczMzMxMQkA=\",\"dtype\":\"float64\",\"order\":\"little\",\"shape\":[145]},\"duration\":{\"__ndarray__\":\"Ql2kUBZ+9T9CXaRQFn71PwQn28AdqNw/BCfbwB2o3D8EJ9vAHajcPwAn28AdqNw/ACfbwB2o3D8AJ9vAHajcPwgn28AdqNw/CCfbwB2o3D8IJ9vAHajcPwgn28AdqNw/ACfbwB2o3D8AJ9vAHajsPwAn28AdqNw/ACfbwB2o7D8AJ9vAHajsPwAn28AdqNw/RF2kUBZ+9T9EXaRQFn71PxAn28AdqNw/ECfbwB2o3D8AJ9vAHajcP0RdpFAWfvU/ACfbwB2ozD8AJ9vAHajMPwAn28AdqNw/ACfbwB2o3D8AJ9vAHajcP0BdpFAWfvU/ACfbwB2o3D9AXaRQFn71PwAn28AdqOw/ACfbwB2o3D8AJ9vAHajsPwAn28AdqNw/ACfbwB2o3D8AJ9vAHajsPxAn28AdqOw/ACfbwB2o7D8AJ9vAHajsPwAn28AdqOw/ACfbwB2o3D8QJ9vAHajsPxAn28AdqOw/ECfbwB2o7D8AJ9vAHajcPwAn28AdqOw/ACfbwB2o3D8AJ9vAHajsPwAn28AdqOw/ACfbwB2o7D8AJ9vAHajsPwAn28AdqNw/ACfbwB2o7D8AJ9vAHajcPwAn28AdqNw/ACfbwB2o3D8AJ9vAHajsPwAn28AdqNw/ACfbwB2o3D8AJ9vAHajcPwAn28AdqNw/ACfbwB2o7D9AXaRQFn71P0BdpFAWfvU/ACfbwB2o3D8AJ9vAHajsPwAn28AdqNw/ACfbwB2o7D8AJ9vAHajsPyAn28AdqOw/ICfbwB2o7D8gJ9vAHajsPwAn28AdqNw/ACfbwB2o7D8AJ9vAHajsPwAn28AdqNw/ACfbwB2o7D8AJ9vAHajsPwAn28AdqNw/ACfbwB2o7D8AJ9vAHajsPwAn28AdqNw/ACfbwB2o7D8AJ9vAHajsPwAn28AdqOw/ACfbwB2o7D8AJ9vAHajcPwAn28AdqOw/ACfbwB2o7D8AJ9vAHajsPwAn28AdqNw/ACfbwB2o7D8AJ9vAHajsPwAn28AdqNw/ACfbwB2o7D8AJ9vAHajsPwAn28AdqOw/ACfbwB2o3D8AJ9vAHajsP0An28AdqOw/ACfbwB2o3D8AJ9vAHajsPwAn28AdqNw/ACfbwB2o7D8AJ9vAHajsPwAn28AdqNw/ACfbwB2o7D8AJ9vAHajcPwAn28AdqOw/ACfbwB2o7D8AJ9vAHajsPwAn28AdqNw/ACfbwB2o7D8AJ9vAHajsPwAn28AdqNw/ACfbwB2o7D8AJ9vAHajcPwAn28AdqOw/ACfbwB2o7D8AJ9vAHajsPwAn28AdqNw/ACfbwB2o7D8AJ9vAHajsPwAn28AdqOw/ACfbwB2o3D8AJ9vAHajcPwAn28AdqOw/ACfbwB2o7D8AJ9vAHajsPwAo28AdqNw/ACfbwB2o3D8AJ9vAHajsPwAn28AdqOw/ACfbwB2o7D8AJ9vAHajcPwAn28AdqNw/ACfbwB2o7D8AJ9vAHajsPwAn28AdqOw/ACfbwB2o7D8AJ9vAHajsPwAn28AdqOw/ACfbwB2o7D8=\",\"dtype\":\"float64\",\"order\":\"little\",\"shape\":[145]},\"end_time\":{\"__ndarray__\":\"Ql2kUBZ+9T9CXaRQFn71PwMn28AdqPw/AyfbwB2o/D9i+IiYEukBQCLCvwgaEwlAIsK/CBoTCUAiwr8IGhMJQAMn28AdqAxAAyfbwB2oDEDyRXu8kB4QQPJFe7yQHhBAYviImBLpEUBCXaRQFn4VQEJdpFAWfhVAQl2kUBZ+FUBCXaRQFn4VQEJdpFAWfhVAk3TN5JvdGkCTdM3km90aQJN0zeSb3RpAk3TN5JvdGkADJ9vAHagcQCofgqrRAyFAxouFIXJ2IUBi+IiYEukhQJrRj4ZTziJAmtGPhlPOIkDSqpZ0lLMjQHo2qz5XYyZAejarPldjJkB6Nqs+V2MmQOrouBrZLShA6ui4GtktKEDq6Lga2S0oQOrouBrZLShAIsK/CBoTKUAiwr8IGhMpQJN0zeSb3SpAy03U0tzCK0Bz2eicn3IuQHPZ6Jyfci5Ac9nonJ9yLkDyRXu8kB4wQPJFe7yQHjBAjrJ+MzGRMEAqH4Kq0QMxQGL4iJgS6TFA0qqWdJSzM0DSqpZ0lLMzQAqEnWLVmDRACoSdYtWYNEAKhJ1i1Zg0QEJdpFAWfjVAQl2kUBZ+NUDeyafHtvA1QHo2qz5XYzZAsg+yLJhIN0CyD7IsmEg3QIZVvJF5oDhAIsK/CBoTOUAiwr8IGhM5QJN0zeSb3TpAk3TN5JvdOkBnutdJfTU8QGe610l9NTxAZ7rXSX01PEBz2eicn3I+QHPZ6Jyfcj5Ac9nonJ9yPkBz2eicn3I+QPJFe7yQHkBA8kV7vJAeQEDyRXu8kB5AQCofgqrRA0FAKh+CqtEDQUBi+IiYEulBQJrRj4ZTzkJAmtGPhlPOQkDSqpZ0lLNDQAqEnWLVmERACoSdYtWYREBCXaRQFn5FQHo2qz5XY0ZAejarPldjRkCyD7IsmEhHQOrouBrZLUhAIsK/CBoTSUBbm8b2WvhJQFubxvZa+ElAk3TN5JvdSkCTdM3km91KQMtN1NLcwktAy03U0tzCS0ADJ9vAHahMQDsA4q5ejU1AOwDirl6NTUBz2eicn3JOQHPZ6Jyfck5Aq7LviuBXT0Crsu+K4FdPQPJFe7yQHlBAjrJ+MzGRUECOsn4zMZFQQNxoAG+BylBAKh+CqtEDUUAqH4Kq0QNRQMaLhSFydlFAYviImBLpUUD+ZIwPs1tSQP5kjA+zW1JAmtGPhlPOUkCa0Y+GU85SQDY+k/3zQFNANj6T/fNAU0DSqpZ0lLNTQG4Xmus0JlRAbhea6zQmVEC8zRsnhV9UQAqEnWLVmFRACoSdYtWYVEBCXaRQFn5VQN7Jp8e28FVAejarPldjVkB6Nqs+V2NWQLIPsiyYSFdATny1ozi7V0CcMjffiPRXQOrouBrZLVhAIsK/CBoTWUAiwr8IGhNZQL8uw3+6hVlADeVEuwq/WUBbm8b2WvhZQFubxvZa+FlAk3TN5JvdWkAv4dBbPFBbQH2XUpeMiVtAy03U0tzCW0DLTdTS3MJbQGe610l9NVxAtXBZhc1uXEC1cFmFzW5cQAMn28AdqFxAAyfbwB2oXEA=\",\"dtype\":\"float64\",\"order\":\"little\",\"shape\":[145]},\"fill_alpha\":{\"__ndarray__\":\"AAAAAAAA8D8AAAAAAADwPwAAAAAAAPA/AAAAAAAA8D8AAAAAAADwPwAAAAAAAPA/AAAAAAAA8D8AAAAAAADwPwAAAAAAAPA/AAAAAAAA8D8AAAAAAADwPwAAAAAAAPA/AAAAAAAA8D8AAAAAAADwPwAAAAAAAPA/AAAAAAAA8D8AAAAAAADwPwAAAAAAAPA/AAAAAAAA8D8AAAAAAADwPwAAAAAAAPA/AAAAAAAA8D8AAAAAAADwPwAAAAAAAPA/AAAAAAAA8D8AAAAAAADwPwAAAAAAAPA/AAAAAAAA8D8AAAAAAADwPwAAAAAAAPA/AAAAAAAA8D8AAAAAAADwPwAAAAAAAPA/AAAAAAAA8D8AAAAAAADwPwAAAAAAAPA/AAAAAAAA8D8AAAAAAADwPwAAAAAAAPA/AAAAAAAA8D8AAAAAAADwPwAAAAAAAPA/AAAAAAAA8D8AAAAAAADwPwAAAAAAAPA/AAAAAAAA8D8AAAAAAADwPwAAAAAAAPA/AAAAAAAA8D8AAAAAAADwPwAAAAAAAPA/AAAAAAAA8D8AAAAAAADwPwAAAAAAAPA/AAAAAAAA8D8AAAAAAADwPwAAAAAAAPA/AAAAAAAA8D8AAAAAAADwPwAAAAAAAPA/AAAAAAAA8D8AAAAAAADwPwAAAAAAAPA/AAAAAAAA8D8AAAAAAADwPwAAAAAAAPA/AAAAAAAA8D8AAAAAAADwPwAAAAAAAPA/AAAAAAAA8D8AAAAAAADwPwAAAAAAAPA/AAAAAAAA8D8AAAAAAADwPwAAAAAAAPA/AAAAAAAA8D8AAAAAAADwPwAAAAAAAPA/AAAAAAAA8D8AAAAAAADwPwAAAAAAAPA/AAAAAAAA8D8AAAAAAADwPwAAAAAAAPA/AAAAAAAA8D8AAAAAAADwPwAAAAAAAPA/AAAAAAAA8D8AAAAAAADwPwAAAAAAAPA/AAAAAAAA8D8AAAAAAADwPwAAAAAAAPA/AAAAAAAA8D8AAAAAAADwPwAAAAAAAPA/AAAAAAAA8D8AAAAAAADwPwAAAAAAAPA/AAAAAAAA8D8AAAAAAADwPwAAAAAAAPA/AAAAAAAA8D8AAAAAAADwPwAAAAAAAPA/AAAAAAAA8D8AAAAAAADwPwAAAAAAAPA/AAAAAAAA8D8AAAAAAADwPwAAAAAAAPA/AAAAAAAA8D8AAAAAAADwPwAAAAAAAPA/AAAAAAAA8D8AAAAAAADwPwAAAAAAAPA/AAAAAAAA8D8AAAAAAADwPwAAAAAAAPA/AAAAAAAA8D8AAAAAAADwPwAAAAAAAPA/AAAAAAAA8D8AAAAAAADwPwAAAAAAAPA/AAAAAAAA8D8AAAAAAADwPwAAAAAAAPA/AAAAAAAA8D8AAAAAAADwPwAAAAAAAPA/AAAAAAAA8D8AAAAAAADwPwAAAAAAAPA/AAAAAAAA8D8AAAAAAADwPwAAAAAAAPA/AAAAAAAA8D8AAAAAAADwPwAAAAAAAPA/AAAAAAAA8D8AAAAAAADwPwAAAAAAAPA/AAAAAAAA8D8=\",\"dtype\":\"float64\",\"order\":\"little\",\"shape\":[145]},\"index\":[384,385,386,387,388,389,390,391,392,393,394,395,396,397,398,399,400,401,402,403,404,405,406,407,408,409,410,411,412,413,414,415,416,417,418,419,420,421,422,423,424,425,426,427,428,429,430,431,432,433,434,435,436,437,438,439,440,441,442,443,444,445,446,447,448,449,450,451,452,453,454,455,456,457,458,459,460,461,462,463,464,465,466,467,468,469,470,471,472,473,474,475,476,477,478,479,480,481,482,483,484,485,486,487,488,489,490,491,492,493,494,495,496,497,498,499,500,501,502,503,504,505,506,507,508,509,510,511,512,513,514,515,516,517,518,519,520,521,522,523,524,525,526,527,528],\"instrument\":[2,2,2,2,2,2,2,2,2,2,2,2,2,2,2,2,2,2,2,2,2,2,2,2,2,2,2,2,2,2,2,2,2,2,2,2,2,2,2,2,2,2,2,2,2,2,2,2,2,2,2,2,2,2,2,2,2,2,2,2,2,2,2,2,2,2,2,2,2,2,2,2,2,2,2,2,2,2,2,2,2,2,2,2,2,2,2,2,2,2,2,2,2,2,2,2,2,2,2,2,2,2,2,2,2,2,2,2,2,2,2,2,2,2,2,2,2,2,2,2,2,2,2,2,2,2,2,2,2,2,2,2,2,2,2,2,2,2,2,2,2,2,2,2,2],\"pitch\":[35,37,35,37,37,35,37,42,35,42,35,37,42,35,35,37,42,42,35,37,38,42,35,35,35,35,38,54,35,35,35,49,35,35,42,42,35,37,35,38,35,37,37,35,37,38,49,37,36,37,35,37,42,35,37,37,35,35,37,37,35,49,35,37,35,37,37,35,36,37,42,35,37,42,36,37,37,36,37,37,36,37,37,36,37,37,37,37,36,42,35,37,36,42,37,36,42,35,37,36,42,37,36,42,36,35,37,36,37,36,42,35,37,36,37,37,36,42,36,35,37,37,36,35,37,37,36,36,37,35,37,36,36,35,37,37,36,36,35,37,42,35,37,35,37],\"program\":[0,0,0,0,0,0,0,0,0,0,0,0,0,0,0,0,0,0,0,0,0,0,0,0,0,0,0,0,0,0,0,0,0,0,0,0,0,0,0,0,0,0,0,0,0,0,0,0,0,0,0,0,0,0,0,0,0,0,0,0,0,0,0,0,0,0,0,0,0,0,0,0,0,0,0,0,0,0,0,0,0,0,0,0,0,0,0,0,0,0,0,0,0,0,0,0,0,0,0,0,0,0,0,0,0,0,0,0,0,0,0,0,0,0,0,0,0,0,0,0,0,0,0,0,0,0,0,0,0,0,0,0,0,0,0,0,0,0,0,0,0,0,0,0,0],\"start_time\":{\"__ndarray__\":\"AAAAAAAAAAAAAAAAAAAAAEJdpFAWfvU/Ql2kUBZ+9T8DJ9vAHaj8P0JdpFAWfgVAQl2kUBZ+BUBCXaRQFn4FQCLCvwgaEwlAIsK/CBoTCUADJ9vAHagMQAMn28AdqAxA8kV7vJAeEEBi+IiYEukRQNKqlnSUsxNAYviImBLpEUBi+IiYEukRQNKqlnSUsxNAQl2kUBZ+FUBCXaRQFn4VQCLCvwgaExlAIsK/CBoTGUCTdM3km90aQAMn28AdqBxAKh+CqtEDIUDGi4UhcnYhQGL4iJgS6SFAYviImBLpIUCa0Y+GU84iQNKqlnSUsyNAQl2kUBZ+JUDSqpZ0lLMjQHo2qz5XYyZAsg+yLJhIJ0B6Nqs+V2MmQLIPsiyYSCdA6ui4GtktKECyD7IsmEgnQCLCvwgaEylAW5vG9lr4KUADJ9vAHagsQAMn28AdqCxAOwDirl6NLUBz2eicn3IuQHPZ6Jyfci5Aq7LviuBXL0COsn4zMZEwQCofgqrRAzFANj6T/fNAM0Ca0Y+GU84yQNKqlnSUszNA0qqWdJSzM0DSqpZ0lLMzQKbwoNl1CzVACoSdYtWYNEBCXaRQFn41QN7Jp8e28DVAFqOutffVNkB6Nqs+V2M2QOrouBrZLThAhlW8kXmgOECGVbyReaA4QPcHym37ajpAW5vG9lr4OUCTdM3km906QJN0zeSb3TpAy03U0tzCO0A7AOKuXo09QNds5SX//z1AOwDirl6NPUA7AOKuXo09QKuy74rgVz9Aq7LviuBXP0Crsu+K4Fc/QNxoAG+BykBAjrJ+MzGRQEDGi4UhcnZBQEwbDksDlUJA/mSMD7NbQkA2PpP980BDQLzNGyeFX0RAbhea6zQmRECm8KDZdQtFQCyAKQMHKkZA3smnx7bwRUAWo66199VGQE58taM4u0dAhlW8kXmgSEAN5US7Cr9JQL8uw3+6hUlA9wfKbftqSkD3B8pt+2pKQH2XUpeMiUtAL+HQWzxQS0BnutdJfTVMQO1JYHMOVE1An5PeN74aTUDXbOUl//9NQNds5SX//01AXfxtT5AeT0APRuwTQOVOQEcf8wGByk9AZ9e9FYl0UEBA/Pz34FdQQLWNP1HZrVBA3GgAb4HKUEDcaABvgcpQQJ+wxAPKWVFAFEIHXcKvUUDXicvxCj9SQLCuCtRiIlJATBsOSwOVUkBMGw5LA5VSQA9j0t9LJFNA6IcRwqMHU0CE9BQ5RHpTQEc82c2MCVRAIGEYsOTsU0CV8loJ3UJUQLzNGyeFX1RAvM0bJ4VfVED0piIVxkRVQLfu5qkO1FVALIApAwcqVkAsgCkDBypWQGRZMPFHD1dAJ6H0hZCeV0B1V3bB4NdXQJwyN9+I9FdA1As+zcnZWEDUCz7NydlYQJdTAmISaVlA5gmEnWKiWUAN5US7Cr9ZQA3lRLsKv1lARb5LqUukWkAIBhA+lDNbQFa8kXnkbFtAfZdSl4yJW0B9l1KXjIlbQBkEVg4t/FtAZ7rXSX01XEBnutdJfTVcQLVwWYXNblxAtXBZhc1uXEA=\",\"dtype\":\"float64\",\"order\":\"little\",\"shape\":[145]},\"top\":{\"__ndarray__\":\"MzMzMzOzQUAzMzMzM7NCQDMzMzMzs0FAMzMzMzOzQkAzMzMzM7NCQDMzMzMzs0FAMzMzMzOzQkAzMzMzMzNFQDMzMzMzs0FAMzMzMzMzRUAzMzMzM7NBQDMzMzMzs0JAMzMzMzMzRUAzMzMzM7NBQDMzMzMzs0FAMzMzMzOzQkAzMzMzMzNFQDMzMzMzM0VAMzMzMzOzQUAzMzMzM7NCQDMzMzMzM0NAMzMzMzMzRUAzMzMzM7NBQDMzMzMzs0FAMzMzMzOzQUAzMzMzM7NBQDMzMzMzM0NAMzMzMzMzS0AzMzMzM7NBQDMzMzMzs0FAMzMzMzOzQUAzMzMzM7NIQDMzMzMzs0FAMzMzMzOzQUAzMzMzMzNFQDMzMzMzM0VAMzMzMzOzQUAzMzMzM7NCQDMzMzMzs0FAMzMzMzMzQ0AzMzMzM7NBQDMzMzMzs0JAMzMzMzOzQkAzMzMzM7NBQDMzMzMzs0JAMzMzMzMzQ0AzMzMzM7NIQDMzMzMzs0JAMzMzMzMzQkAzMzMzM7NCQDMzMzMzs0FAMzMzMzOzQkAzMzMzMzNFQDMzMzMzs0FAMzMzMzOzQkAzMzMzM7NCQDMzMzMzs0FAMzMzMzOzQUAzMzMzM7NCQDMzMzMzs0JAMzMzMzOzQUAzMzMzM7NIQDMzMzMzs0FAMzMzMzOzQkAzMzMzM7NBQDMzMzMzs0JAMzMzMzOzQkAzMzMzM7NBQDMzMzMzM0JAMzMzMzOzQkAzMzMzMzNFQDMzMzMzs0FAMzMzMzOzQkAzMzMzMzNFQDMzMzMzM0JAMzMzMzOzQkAzMzMzM7NCQDMzMzMzM0JAMzMzMzOzQkAzMzMzM7NCQDMzMzMzM0JAMzMzMzOzQkAzMzMzM7NCQDMzMzMzM0JAMzMzMzOzQkAzMzMzM7NCQDMzMzMzs0JAMzMzMzOzQkAzMzMzMzNCQDMzMzMzM0VAMzMzMzOzQUAzMzMzM7NCQDMzMzMzM0JAMzMzMzMzRUAzMzMzM7NCQDMzMzMzM0JAMzMzMzMzRUAzMzMzM7NBQDMzMzMzs0JAMzMzMzMzQkAzMzMzMzNFQDMzMzMzs0JAMzMzMzMzQkAzMzMzMzNFQDMzMzMzM0JAMzMzMzOzQUAzMzMzM7NCQDMzMzMzM0JAMzMzMzOzQkAzMzMzMzNCQDMzMzMzM0VAMzMzMzOzQUAzMzMzM7NCQDMzMzMzM0JAMzMzMzOzQkAzMzMzM7NCQDMzMzMzM0JAMzMzMzMzRUAzMzMzMzNCQDMzMzMzs0FAMzMzMzOzQkAzMzMzM7NCQDMzMzMzM0JAMzMzMzOzQUAzMzMzM7NCQDMzMzMzs0JAMzMzMzMzQkAzMzMzMzNCQDMzMzMzs0JAMzMzMzOzQUAzMzMzM7NCQDMzMzMzM0JAMzMzMzMzQkAzMzMzM7NBQDMzMzMzs0JAMzMzMzOzQkAzMzMzMzNCQDMzMzMzM0JAMzMzMzOzQUAzMzMzM7NCQDMzMzMzM0VAMzMzMzOzQUAzMzMzM7NCQDMzMzMzs0FAMzMzMzOzQkA=\",\"dtype\":\"float64\",\"order\":\"little\",\"shape\":[145]},\"velocity\":[98,98,98,98,98,98,98,98,98,98,98,98,98,98,98,98,98,98,98,98,98,98,98,98,98,98,98,98,98,98,98,98,98,98,98,98,98,98,98,98,98,98,98,98,98,98,98,98,98,98,98,98,98,98,98,98,98,98,98,98,98,98,98,98,98,98,98,98,98,98,98,98,98,98,98,98,98,98,98,98,98,98,98,98,98,98,98,98,98,98,98,98,98,98,98,98,98,98,98,98,98,98,98,98,98,98,98,98,98,98,98,98,98,98,98,98,98,98,98,98,98,98,98,98,98,98,98,98,98,98,98,98,98,98,98,98,98,98,98,98,98,98,98,98,98]},\"selected\":{\"id\":\"1218\"},\"selection_policy\":{\"id\":\"1217\"}},\"id\":\"1199\",\"type\":\"ColumnDataSource\"},{\"attributes\":{},\"id\":\"1217\",\"type\":\"UnionRenderers\"},{\"attributes\":{\"coordinates\":null,\"group\":null},\"id\":\"1206\",\"type\":\"Title\"},{\"attributes\":{},\"id\":\"1218\",\"type\":\"Selection\"},{\"attributes\":{\"bottom\":{\"field\":\"bottom\"},\"fill_alpha\":{\"value\":0.2},\"fill_color\":{\"value\":\"#3288bd\"},\"hatch_alpha\":{\"value\":0.2},\"left\":{\"field\":\"start_time\"},\"line_alpha\":{\"value\":0.2},\"right\":{\"field\":\"end_time\"},\"top\":{\"field\":\"top\"}},\"id\":\"1196\",\"type\":\"Quad\"},{\"attributes\":{},\"id\":\"1213\",\"type\":\"UnionRenderers\"}],\"root_ids\":[\"1153\"]},\"title\":\"Bokeh Application\",\"version\":\"2.4.3\"}};\n  const render_items = [{\"docid\":\"03487d3f-cc56-4818-8132-c54bb1240041\",\"root_ids\":[\"1153\"],\"roots\":{\"1153\":\"9c80c752-1f11-4606-a002-6d9384df9c01\"}}];\n  root.Bokeh.embed.embed_items_notebook(docs_json, render_items);\n  }\n  if (root.Bokeh !== undefined) {\n    embed_document(root);\n  } else {\n    let attempts = 0;\n    const timer = setInterval(function(root) {\n      if (root.Bokeh !== undefined) {\n        clearInterval(timer);\n        embed_document(root);\n      } else {\n        attempts++;\n        if (attempts > 100) {\n          clearInterval(timer);\n          console.log(\"Bokeh: ERROR: Unable to run BokehJS code because BokehJS library is missing\");\n        }\n      }\n    }, 10, root)\n  }\n})(window);",
            "application/vnd.bokehjs_exec.v0+json": ""
          },
          "metadata": {
            "application/vnd.bokehjs_exec.v0+json": {
              "id": "1153"
            }
          },
          "output_type": "display_data"
        }
      ],
      "source": [
        "import note_seq\n",
        "\n",
        "SAMPLE_RATE = 16000\n",
        "SF2_PATH = '/content/MuseScore_General.sf2'\n",
        "\n",
        "import glob\n",
        "for i in glob.glob(f'/content/muzic/getmusic/example_data/input/p2*-*.mid'):\n",
        "#for i in glob.glob(f'/content/muzic/getmusic/example_data/input/position-*.mid'):\n",
        "    print(i)\n",
        "    midi_scr = i\n",
        "\n",
        "est_ns = note_seq.midi_file_to_note_sequence(midi_scr)\n",
        "\n",
        "note_seq.play_sequence(est_ns, synth=note_seq.fluidsynth, sample_rate=SAMPLE_RATE, sf2_path=SF2_PATH)\n",
        "note_seq.plot_sequence(est_ns)"
      ]
    }
  ],
  "metadata": {
    "accelerator": "GPU",
    "colab": {
      "gpuType": "T4",
      "provenance": [],
      "include_colab_link": true
    },
    "kernelspec": {
      "display_name": "Python 3",
      "name": "python3"
    },
    "language_info": {
      "codemirror_mode": {
        "name": "ipython",
        "version": 3
      },
      "file_extension": ".py",
      "mimetype": "text/x-python",
      "name": "python",
      "nbconvert_exporter": "python",
      "pygments_lexer": "ipython3",
      "version": "3.8.16"
    }
  },
  "nbformat": 4,
  "nbformat_minor": 5
}