{
  "cells": [
    {
      "cell_type": "markdown",
      "metadata": {
        "id": "view-in-github",
        "colab_type": "text"
      },
      "source": [
        "<a href=\"https://colab.research.google.com/github/noriakihanya/getmusic/blob/main/Getmusic_colab.ipynb\" target=\"_parent\"><img src=\"https://colab.research.google.com/assets/colab-badge.svg\" alt=\"Open In Colab\"/></a>"
      ]
    },
    {
      "cell_type": "code",
      "execution_count": null,
      "id": "2d417e17",
      "metadata": {
        "id": "2d417e17",
        "scrolled": true
      },
      "outputs": [],
      "source": [
        "!pip install torch==1.13 numpy tensorboard miditoolkit scipy matplotlib tqdm transformers einops\n",
        "!git clone https://github.com/microsoft/muzic.git\n",
        "\n",
        "#!gsutil -q -m cp gs://magentadata/soundfonts/SGM-v2.01-Sal-Guit-Bass-V1.3.sf2 .\n",
        "!pip install note-seq\n",
        "!pip install pyfluidsynth\n",
        "!pip install midi2audio\n",
        "!apt-get update -qq && apt-get install -qq libfluidsynth2 build-essential libasound2-dev libjack-dev fluidsynth\n",
        "\n",
        "!git clone https://github.com/noriakihanya/getmusic.git\n",
        "import shutil\n",
        "shutil.copy(\"/content/getmusic/track_generation.py\",\"/content/muzic/getmusic/\")\n",
        "\n",
        "import gdown\n",
        "gdown.download('https://drive.google.com/uc?id=1Ub45GMApdXJAGt0_RRbPWwlhIVIHVcT7', 'checkpoint.pth', quiet=False)\n",
        "gdown.download('https://drive.google.com/uc?id=1wVauTFZFFCqbiFzRAK2Th_Kn0p5HzOiG', 'MuseScore_General.sf2', quiet=False)"
      ]
    },
    {
      "cell_type": "code",
      "source": [
        "import os\n",
        "os.makedirs(\"/content/01_input\", exist_ok=True)\n",
        "os.makedirs(\"/content/02_output_midi\", exist_ok=True)\n",
        "os.makedirs(\"/content/03_output_mp3\", exist_ok=True)"
      ],
      "metadata": {
        "id": "_OSZ13tTS1zJ"
      },
      "id": "_OSZ13tTS1zJ",
      "execution_count": 2,
      "outputs": []
    },
    {
      "cell_type": "code",
      "source": [
        "#@title ファイルのアップロード\n",
        "%cd /content/01_input\n",
        "\n",
        "from google.colab import files\n",
        "uploaded = files.upload()"
      ],
      "metadata": {
        "id": "81sCOr1HJkUL"
      },
      "id": "81sCOr1HJkUL",
      "execution_count": null,
      "outputs": []
    },
    {
      "cell_type": "code",
      "execution_count": null,
      "id": "03f9db46",
      "metadata": {
        "colab": {
          "base_uri": "https://localhost:8080/"
        },
        "id": "03f9db46",
        "outputId": "0134d3c0-b198-40e0-f0b2-3c6cb2da3516",
        "scrolled": true
      },
      "outputs": [
        {
          "output_type": "stream",
          "name": "stdout",
          "text": [
            "/content/muzic/getmusic\n",
            "Global seed set to 0\n",
            "<class 'getmusic.modeling.models.dfm.DFM'>\n",
            "<class 'getmusic.modeling.roformer.diffusion_roformer.DiffusionRFM'>\n",
            "<class 'getmusic.modeling.roformer.roformer_utils.DiffusionRoformerModel'>\n",
            "Load dictionary: 11879 tokens.\n",
            "<class 'getmusic.engine.clip_grad_norm.ClipGradNorm'>\n",
            "Get lr 3e-06 from base lr 3e-06 with none\n",
            "<class 'torch.optim.adamw.AdamW'>\n",
            "<class 'getmusic.engine.lr_scheduler.LinearDecayLRWithWarmup'>\n",
            "{'overall': {'trainable': '86.49M', 'non_trainable': '96.0K', 'total': '86.59M'}, 'rfm': {'trainable': '86.49M', 'non_trainable': '96.0K', 'total': '86.59M'}}\n",
            "self.device  0\n",
            "inference_cache: global rank 0: prepare solver done!\n",
            "Resume from /content/checkpoint.pth\n",
            "/content/input/よぞらに.mid\n",
            "skip?n\n",
            "Select condition tracks ('b' for bass, 'd' for drums, 'g' for guitar, 'l' for lead, 'p' for piano, 's' for strings, 'c' for chords; multiple choices; input any other key to skip):p\n",
            "Select content tracks ('b' for bass, 'd' for drums, 'g' for guitar, 'l' for lead, 'p' for piano, 's' for strings; multiple choices):bdgs\n",
            "use ema parameters\n",
            "100% 100/100 [01:46<00:00,  1.07s/it]\n",
            "sampling, the song has 1153 time units\n"
          ]
        }
      ],
      "source": [
        "#@title トラックの生成\n",
        "%cd /content/muzic/getmusic\n",
        "\n",
        "!python /content/muzic/getmusic/track_generation.py \\\n",
        "--load_path /content/checkpoint.pth \\\n",
        "--file_path /content/input \\\n",
        "--output_midi /content/output_midi\n",
        "--select_condition_tracks p \\\n",
        "--select_content_tracks bdgs"
      ]
    },
    {
      "cell_type": "code",
      "execution_count": null,
      "id": "dcc59d20",
      "metadata": {
        "id": "dcc59d20",
        "cellView": "form"
      },
      "outputs": [],
      "source": [
        "#@title 高度な操作\n",
        "%cd /content/muzic/getmusic\n",
        "\n",
        "!python /content/muzic/getmusic/position_generation.py \\\n",
        "--load_path /content/checkpoint.pth \\\n",
        "--file_path /content/muzic/getmusic/example_data/input\n",
        "\n",
        "#Input positions you want to condition on: 0,0,200;6,0,\n",
        "#Input positions you want to empty: 1,0,;4,0,;5,0,"
      ]
    },
    {
      "cell_type": "code",
      "execution_count": null,
      "id": "PLV0URKHwcNc",
      "metadata": {
        "colab": {
          "base_uri": "https://localhost:8080/",
          "height": 292
        },
        "id": "PLV0URKHwcNc",
        "outputId": "84ac11bc-6f17-4709-aee6-f1bb93a9471b"
      },
      "outputs": [
        {
          "output_type": "stream",
          "name": "stdout",
          "text": [
            "/content/input/よぞらに.mid\n"
          ]
        },
        {
          "output_type": "display_data",
          "data": {
            "text/plain": [
              "<IPython.core.display.HTML object>"
            ],
            "text/html": [
              "<div id=\"id_3\"> </div>"
            ]
          },
          "metadata": {}
        },
        {
          "output_type": "display_data",
          "data": {
            "application/javascript": [
              "(function(root) {\n",
              "  function now() {\n",
              "    return new Date();\n",
              "  }\n",
              "\n",
              "  const force = true;\n",
              "\n",
              "  if (typeof root._bokeh_onload_callbacks === \"undefined\" || force === true) {\n",
              "    root._bokeh_onload_callbacks = [];\n",
              "    root._bokeh_is_loading = undefined;\n",
              "  }\n",
              "\n",
              "const JS_MIME_TYPE = 'application/javascript';\n",
              "  const HTML_MIME_TYPE = 'text/html';\n",
              "  const EXEC_MIME_TYPE = 'application/vnd.bokehjs_exec.v0+json';\n",
              "  const CLASS_NAME = 'output_bokeh rendered_html';\n",
              "\n",
              "  /**\n",
              "   * Render data to the DOM node\n",
              "   */\n",
              "  function render(props, node) {\n",
              "    const script = document.createElement(\"script\");\n",
              "    node.appendChild(script);\n",
              "  }\n",
              "\n",
              "  /**\n",
              "   * Handle when an output is cleared or removed\n",
              "   */\n",
              "  function handleClearOutput(event, handle) {\n",
              "    const cell = handle.cell;\n",
              "\n",
              "    const id = cell.output_area._bokeh_element_id;\n",
              "    const server_id = cell.output_area._bokeh_server_id;\n",
              "    // Clean up Bokeh references\n",
              "    if (id != null && id in Bokeh.index) {\n",
              "      Bokeh.index[id].model.document.clear();\n",
              "      delete Bokeh.index[id];\n",
              "    }\n",
              "\n",
              "    if (server_id !== undefined) {\n",
              "      // Clean up Bokeh references\n",
              "      const cmd_clean = \"from bokeh.io.state import curstate; print(curstate().uuid_to_server['\" + server_id + \"'].get_sessions()[0].document.roots[0]._id)\";\n",
              "      cell.notebook.kernel.execute(cmd_clean, {\n",
              "        iopub: {\n",
              "          output: function(msg) {\n",
              "            const id = msg.content.text.trim();\n",
              "            if (id in Bokeh.index) {\n",
              "              Bokeh.index[id].model.document.clear();\n",
              "              delete Bokeh.index[id];\n",
              "            }\n",
              "          }\n",
              "        }\n",
              "      });\n",
              "      // Destroy server and session\n",
              "      const cmd_destroy = \"import bokeh.io.notebook as ion; ion.destroy_server('\" + server_id + \"')\";\n",
              "      cell.notebook.kernel.execute(cmd_destroy);\n",
              "    }\n",
              "  }\n",
              "\n",
              "  /**\n",
              "   * Handle when a new output is added\n",
              "   */\n",
              "  function handleAddOutput(event, handle) {\n",
              "    const output_area = handle.output_area;\n",
              "    const output = handle.output;\n",
              "\n",
              "    // limit handleAddOutput to display_data with EXEC_MIME_TYPE content only\n",
              "    if ((output.output_type != \"display_data\") || (!Object.prototype.hasOwnProperty.call(output.data, EXEC_MIME_TYPE))) {\n",
              "      return\n",
              "    }\n",
              "\n",
              "    const toinsert = output_area.element.find(\".\" + CLASS_NAME.split(' ')[0]);\n",
              "\n",
              "    if (output.metadata[EXEC_MIME_TYPE][\"id\"] !== undefined) {\n",
              "      toinsert[toinsert.length - 1].firstChild.textContent = output.data[JS_MIME_TYPE];\n",
              "      // store reference to embed id on output_area\n",
              "      output_area._bokeh_element_id = output.metadata[EXEC_MIME_TYPE][\"id\"];\n",
              "    }\n",
              "    if (output.metadata[EXEC_MIME_TYPE][\"server_id\"] !== undefined) {\n",
              "      const bk_div = document.createElement(\"div\");\n",
              "      bk_div.innerHTML = output.data[HTML_MIME_TYPE];\n",
              "      const script_attrs = bk_div.children[0].attributes;\n",
              "      for (let i = 0; i < script_attrs.length; i++) {\n",
              "        toinsert[toinsert.length - 1].firstChild.setAttribute(script_attrs[i].name, script_attrs[i].value);\n",
              "        toinsert[toinsert.length - 1].firstChild.textContent = bk_div.children[0].textContent\n",
              "      }\n",
              "      // store reference to server id on output_area\n",
              "      output_area._bokeh_server_id = output.metadata[EXEC_MIME_TYPE][\"server_id\"];\n",
              "    }\n",
              "  }\n",
              "\n",
              "  function register_renderer(events, OutputArea) {\n",
              "\n",
              "    function append_mime(data, metadata, element) {\n",
              "      // create a DOM node to render to\n",
              "      const toinsert = this.create_output_subarea(\n",
              "        metadata,\n",
              "        CLASS_NAME,\n",
              "        EXEC_MIME_TYPE\n",
              "      );\n",
              "      this.keyboard_manager.register_events(toinsert);\n",
              "      // Render to node\n",
              "      const props = {data: data, metadata: metadata[EXEC_MIME_TYPE]};\n",
              "      render(props, toinsert[toinsert.length - 1]);\n",
              "      element.append(toinsert);\n",
              "      return toinsert\n",
              "    }\n",
              "\n",
              "    /* Handle when an output is cleared or removed */\n",
              "    events.on('clear_output.CodeCell', handleClearOutput);\n",
              "    events.on('delete.Cell', handleClearOutput);\n",
              "\n",
              "    /* Handle when a new output is added */\n",
              "    events.on('output_added.OutputArea', handleAddOutput);\n",
              "\n",
              "    /**\n",
              "     * Register the mime type and append_mime function with output_area\n",
              "     */\n",
              "    OutputArea.prototype.register_mime_type(EXEC_MIME_TYPE, append_mime, {\n",
              "      /* Is output safe? */\n",
              "      safe: true,\n",
              "      /* Index of renderer in `output_area.display_order` */\n",
              "      index: 0\n",
              "    });\n",
              "  }\n",
              "\n",
              "  // register the mime type if in Jupyter Notebook environment and previously unregistered\n",
              "  if (root.Jupyter !== undefined) {\n",
              "    const events = require('base/js/events');\n",
              "    const OutputArea = require('notebook/js/outputarea').OutputArea;\n",
              "\n",
              "    if (OutputArea.prototype.mime_types().indexOf(EXEC_MIME_TYPE) == -1) {\n",
              "      register_renderer(events, OutputArea);\n",
              "    }\n",
              "  }\n",
              "  if (typeof (root._bokeh_timeout) === \"undefined\" || force === true) {\n",
              "    root._bokeh_timeout = Date.now() + 5000;\n",
              "    root._bokeh_failed_load = false;\n",
              "  }\n",
              "\n",
              "  const NB_LOAD_WARNING = {'data': {'text/html':\n",
              "     \"<div style='background-color: #fdd'>\\n\"+\n",
              "     \"<p>\\n\"+\n",
              "     \"BokehJS does not appear to have successfully loaded. If loading BokehJS from CDN, this \\n\"+\n",
              "     \"may be due to a slow or bad network connection. Possible fixes:\\n\"+\n",
              "     \"</p>\\n\"+\n",
              "     \"<ul>\\n\"+\n",
              "     \"<li>re-rerun `output_notebook()` to attempt to load from CDN again, or</li>\\n\"+\n",
              "     \"<li>use INLINE resources instead, as so:</li>\\n\"+\n",
              "     \"</ul>\\n\"+\n",
              "     \"<code>\\n\"+\n",
              "     \"from bokeh.resources import INLINE\\n\"+\n",
              "     \"output_notebook(resources=INLINE)\\n\"+\n",
              "     \"</code>\\n\"+\n",
              "     \"</div>\"}};\n",
              "\n",
              "  function display_loaded() {\n",
              "    const el = document.getElementById(null);\n",
              "    if (el != null) {\n",
              "      el.textContent = \"BokehJS is loading...\";\n",
              "    }\n",
              "    if (root.Bokeh !== undefined) {\n",
              "      if (el != null) {\n",
              "        el.textContent = \"BokehJS \" + root.Bokeh.version + \" successfully loaded.\";\n",
              "      }\n",
              "    } else if (Date.now() < root._bokeh_timeout) {\n",
              "      setTimeout(display_loaded, 100)\n",
              "    }\n",
              "  }\n",
              "\n",
              "  function run_callbacks() {\n",
              "    try {\n",
              "      root._bokeh_onload_callbacks.forEach(function(callback) {\n",
              "        if (callback != null)\n",
              "          callback();\n",
              "      });\n",
              "    } finally {\n",
              "      delete root._bokeh_onload_callbacks\n",
              "    }\n",
              "    console.debug(\"Bokeh: all callbacks have finished\");\n",
              "  }\n",
              "\n",
              "  function load_libs(css_urls, js_urls, callback) {\n",
              "    if (css_urls == null) css_urls = [];\n",
              "    if (js_urls == null) js_urls = [];\n",
              "\n",
              "    root._bokeh_onload_callbacks.push(callback);\n",
              "    if (root._bokeh_is_loading > 0) {\n",
              "      console.debug(\"Bokeh: BokehJS is being loaded, scheduling callback at\", now());\n",
              "      return null;\n",
              "    }\n",
              "    if (js_urls == null || js_urls.length === 0) {\n",
              "      run_callbacks();\n",
              "      return null;\n",
              "    }\n",
              "    console.debug(\"Bokeh: BokehJS not loaded, scheduling load and callback at\", now());\n",
              "    root._bokeh_is_loading = css_urls.length + js_urls.length;\n",
              "\n",
              "    function on_load() {\n",
              "      root._bokeh_is_loading--;\n",
              "      if (root._bokeh_is_loading === 0) {\n",
              "        console.debug(\"Bokeh: all BokehJS libraries/stylesheets loaded\");\n",
              "        run_callbacks()\n",
              "      }\n",
              "    }\n",
              "\n",
              "    function on_error(url) {\n",
              "      console.error(\"failed to load \" + url);\n",
              "    }\n",
              "\n",
              "    for (let i = 0; i < css_urls.length; i++) {\n",
              "      const url = css_urls[i];\n",
              "      const element = document.createElement(\"link\");\n",
              "      element.onload = on_load;\n",
              "      element.onerror = on_error.bind(null, url);\n",
              "      element.rel = \"stylesheet\";\n",
              "      element.type = \"text/css\";\n",
              "      element.href = url;\n",
              "      console.debug(\"Bokeh: injecting link tag for BokehJS stylesheet: \", url);\n",
              "      document.body.appendChild(element);\n",
              "    }\n",
              "\n",
              "    for (let i = 0; i < js_urls.length; i++) {\n",
              "      const url = js_urls[i];\n",
              "      const element = document.createElement('script');\n",
              "      element.onload = on_load;\n",
              "      element.onerror = on_error.bind(null, url);\n",
              "      element.async = false;\n",
              "      element.src = url;\n",
              "      console.debug(\"Bokeh: injecting script tag for BokehJS library: \", url);\n",
              "      document.head.appendChild(element);\n",
              "    }\n",
              "  };\n",
              "\n",
              "  function inject_raw_css(css) {\n",
              "    const element = document.createElement(\"style\");\n",
              "    element.appendChild(document.createTextNode(css));\n",
              "    document.body.appendChild(element);\n",
              "  }\n",
              "\n",
              "  const js_urls = [\"https://cdn.bokeh.org/bokeh/release/bokeh-2.4.3.min.js\", \"https://cdn.bokeh.org/bokeh/release/bokeh-gl-2.4.3.min.js\", \"https://cdn.bokeh.org/bokeh/release/bokeh-widgets-2.4.3.min.js\", \"https://cdn.bokeh.org/bokeh/release/bokeh-tables-2.4.3.min.js\", \"https://cdn.bokeh.org/bokeh/release/bokeh-mathjax-2.4.3.min.js\"];\n",
              "  const css_urls = [];\n",
              "\n",
              "  const inline_js = [    function(Bokeh) {\n",
              "      Bokeh.set_log_level(\"info\");\n",
              "    },\n",
              "function(Bokeh) {\n",
              "    }\n",
              "  ];\n",
              "\n",
              "  function run_inline_js() {\n",
              "    if (root.Bokeh !== undefined || force === true) {\n",
              "          for (let i = 0; i < inline_js.length; i++) {\n",
              "      inline_js[i].call(root, root.Bokeh);\n",
              "    }\n",
              "} else if (Date.now() < root._bokeh_timeout) {\n",
              "      setTimeout(run_inline_js, 100);\n",
              "    } else if (!root._bokeh_failed_load) {\n",
              "      console.log(\"Bokeh: BokehJS failed to load within specified timeout.\");\n",
              "      root._bokeh_failed_load = true;\n",
              "    } else if (force !== true) {\n",
              "      const cell = $(document.getElementById(null)).parents('.cell').data().cell;\n",
              "      cell.output_area.append_execute_result(NB_LOAD_WARNING)\n",
              "    }\n",
              "  }\n",
              "\n",
              "  if (root._bokeh_is_loading === 0) {\n",
              "    console.debug(\"Bokeh: BokehJS loaded, going straight to plotting\");\n",
              "    run_inline_js();\n",
              "  } else {\n",
              "    load_libs(css_urls, js_urls, function() {\n",
              "      console.debug(\"Bokeh: BokehJS plotting callback run at\", now());\n",
              "      run_inline_js();\n",
              "    });\n",
              "  }\n",
              "}(window));"
            ],
            "application/vnd.bokehjs_load.v0+json": "(function(root) {\n  function now() {\n    return new Date();\n  }\n\n  const force = true;\n\n  if (typeof root._bokeh_onload_callbacks === \"undefined\" || force === true) {\n    root._bokeh_onload_callbacks = [];\n    root._bokeh_is_loading = undefined;\n  }\n\n\n  if (typeof (root._bokeh_timeout) === \"undefined\" || force === true) {\n    root._bokeh_timeout = Date.now() + 5000;\n    root._bokeh_failed_load = false;\n  }\n\n  const NB_LOAD_WARNING = {'data': {'text/html':\n     \"<div style='background-color: #fdd'>\\n\"+\n     \"<p>\\n\"+\n     \"BokehJS does not appear to have successfully loaded. If loading BokehJS from CDN, this \\n\"+\n     \"may be due to a slow or bad network connection. Possible fixes:\\n\"+\n     \"</p>\\n\"+\n     \"<ul>\\n\"+\n     \"<li>re-rerun `output_notebook()` to attempt to load from CDN again, or</li>\\n\"+\n     \"<li>use INLINE resources instead, as so:</li>\\n\"+\n     \"</ul>\\n\"+\n     \"<code>\\n\"+\n     \"from bokeh.resources import INLINE\\n\"+\n     \"output_notebook(resources=INLINE)\\n\"+\n     \"</code>\\n\"+\n     \"</div>\"}};\n\n  function display_loaded() {\n    const el = document.getElementById(null);\n    if (el != null) {\n      el.textContent = \"BokehJS is loading...\";\n    }\n    if (root.Bokeh !== undefined) {\n      if (el != null) {\n        el.textContent = \"BokehJS \" + root.Bokeh.version + \" successfully loaded.\";\n      }\n    } else if (Date.now() < root._bokeh_timeout) {\n      setTimeout(display_loaded, 100)\n    }\n  }\n\n  function run_callbacks() {\n    try {\n      root._bokeh_onload_callbacks.forEach(function(callback) {\n        if (callback != null)\n          callback();\n      });\n    } finally {\n      delete root._bokeh_onload_callbacks\n    }\n    console.debug(\"Bokeh: all callbacks have finished\");\n  }\n\n  function load_libs(css_urls, js_urls, callback) {\n    if (css_urls == null) css_urls = [];\n    if (js_urls == null) js_urls = [];\n\n    root._bokeh_onload_callbacks.push(callback);\n    if (root._bokeh_is_loading > 0) {\n      console.debug(\"Bokeh: BokehJS is being loaded, scheduling callback at\", now());\n      return null;\n    }\n    if (js_urls == null || js_urls.length === 0) {\n      run_callbacks();\n      return null;\n    }\n    console.debug(\"Bokeh: BokehJS not loaded, scheduling load and callback at\", now());\n    root._bokeh_is_loading = css_urls.length + js_urls.length;\n\n    function on_load() {\n      root._bokeh_is_loading--;\n      if (root._bokeh_is_loading === 0) {\n        console.debug(\"Bokeh: all BokehJS libraries/stylesheets loaded\");\n        run_callbacks()\n      }\n    }\n\n    function on_error(url) {\n      console.error(\"failed to load \" + url);\n    }\n\n    for (let i = 0; i < css_urls.length; i++) {\n      const url = css_urls[i];\n      const element = document.createElement(\"link\");\n      element.onload = on_load;\n      element.onerror = on_error.bind(null, url);\n      element.rel = \"stylesheet\";\n      element.type = \"text/css\";\n      element.href = url;\n      console.debug(\"Bokeh: injecting link tag for BokehJS stylesheet: \", url);\n      document.body.appendChild(element);\n    }\n\n    for (let i = 0; i < js_urls.length; i++) {\n      const url = js_urls[i];\n      const element = document.createElement('script');\n      element.onload = on_load;\n      element.onerror = on_error.bind(null, url);\n      element.async = false;\n      element.src = url;\n      console.debug(\"Bokeh: injecting script tag for BokehJS library: \", url);\n      document.head.appendChild(element);\n    }\n  };\n\n  function inject_raw_css(css) {\n    const element = document.createElement(\"style\");\n    element.appendChild(document.createTextNode(css));\n    document.body.appendChild(element);\n  }\n\n  const js_urls = [\"https://cdn.bokeh.org/bokeh/release/bokeh-2.4.3.min.js\", \"https://cdn.bokeh.org/bokeh/release/bokeh-gl-2.4.3.min.js\", \"https://cdn.bokeh.org/bokeh/release/bokeh-widgets-2.4.3.min.js\", \"https://cdn.bokeh.org/bokeh/release/bokeh-tables-2.4.3.min.js\", \"https://cdn.bokeh.org/bokeh/release/bokeh-mathjax-2.4.3.min.js\"];\n  const css_urls = [];\n\n  const inline_js = [    function(Bokeh) {\n      Bokeh.set_log_level(\"info\");\n    },\nfunction(Bokeh) {\n    }\n  ];\n\n  function run_inline_js() {\n    if (root.Bokeh !== undefined || force === true) {\n          for (let i = 0; i < inline_js.length; i++) {\n      inline_js[i].call(root, root.Bokeh);\n    }\n} else if (Date.now() < root._bokeh_timeout) {\n      setTimeout(run_inline_js, 100);\n    } else if (!root._bokeh_failed_load) {\n      console.log(\"Bokeh: BokehJS failed to load within specified timeout.\");\n      root._bokeh_failed_load = true;\n    } else if (force !== true) {\n      const cell = $(document.getElementById(null)).parents('.cell').data().cell;\n      cell.output_area.append_execute_result(NB_LOAD_WARNING)\n    }\n  }\n\n  if (root._bokeh_is_loading === 0) {\n    console.debug(\"Bokeh: BokehJS loaded, going straight to plotting\");\n    run_inline_js();\n  } else {\n    load_libs(css_urls, js_urls, function() {\n      console.debug(\"Bokeh: BokehJS plotting callback run at\", now());\n      run_inline_js();\n    });\n  }\n}(window));"
          },
          "metadata": {}
        },
        {
          "output_type": "display_data",
          "data": {
            "text/html": [
              "\n",
              "  <div class=\"bk-root\" id=\"1c57aea6-e1ca-4350-bdfb-92a75fbe94bb\" data-root-id=\"1383\"></div>\n"
            ]
          },
          "metadata": {}
        },
        {
          "output_type": "display_data",
          "data": {
            "application/javascript": [
              "(function(root) {\n",
              "  function embed_document(root) {\n",
              "  const docs_json = {\"33cee97f-5e7f-4454-a83a-16c2f03a3b46\":{\"defs\":[],\"roots\":{\"references\":[{\"attributes\":{\"below\":[{\"id\":\"1392\"}],\"center\":[{\"id\":\"1395\"},{\"id\":\"1399\"}],\"height\":200,\"left\":[{\"id\":\"1396\"}],\"renderers\":[{\"id\":\"1420\"},{\"id\":\"1427\"}],\"title\":{\"id\":\"1429\"},\"toolbar\":{\"id\":\"1406\"},\"width\":500,\"x_range\":{\"id\":\"1384\"},\"x_scale\":{\"id\":\"1388\"},\"y_range\":{\"id\":\"1386\"},\"y_scale\":{\"id\":\"1390\"}},\"id\":\"1383\",\"subtype\":\"Figure\",\"type\":\"Plot\"},{\"attributes\":{},\"id\":\"1384\",\"type\":\"DataRange1d\"},{\"attributes\":{},\"id\":\"1437\",\"type\":\"Selection\"},{\"attributes\":{\"axis_label\":\"time (sec)\",\"coordinates\":null,\"formatter\":{\"id\":\"1434\"},\"group\":null,\"major_label_policy\":{\"id\":\"1435\"},\"ticker\":{\"id\":\"1393\"}},\"id\":\"1392\",\"type\":\"LinearAxis\"},{\"attributes\":{},\"id\":\"1435\",\"type\":\"AllLabels\"},{\"attributes\":{\"coordinates\":null,\"data_source\":{\"id\":\"1422\"},\"glyph\":{\"id\":\"1424\"},\"group\":null,\"hover_glyph\":null,\"muted_glyph\":{\"id\":\"1426\"},\"nonselection_glyph\":{\"id\":\"1425\"},\"view\":{\"id\":\"1428\"}},\"id\":\"1427\",\"type\":\"GlyphRenderer\"},{\"attributes\":{\"data\":{\"bottom\":{\"__ndarray__\":\"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\",\"dtype\":\"float64\",\"order\":\"little\",\"shape\":[542]},\"duration\":{\"__ndarray__\":\"xR1v8lt04T/FHW/yW3ThP8Udb/JbdOE/xR1v8lt04T/FHW/yW3ThP8Udb/JbdOE/xh1v8lt04T/GHW/yW3ThP8Ydb/JbdOE/xB1v8lt04T/EHW/yW3ThP8Qdb/JbdOE/xh1v8lt08T/GHW/yW3TxP8Ydb/JbdPE/yB1v8lt04T/IHW/yW3ThP8gdb/JbdOE/yB1v8lt04T/IHW/yW3ThP8gdb/JbdOE/wB1v8lt04T/AHW/yW3ThP8Adb/JbdOE/yB1v8lt04T/IHW/yW3ThP8gdb/JbdOE/yB1v8lt08T/IHW/yW3TxP8gdb/JbdPE/0B1v8lt04T/QHW/yW3ThP9Adb/JbdOE/wB1v8lt04T/AHW/yW3ThP8Adb/JbdOE/0B1v8lt04T/QHW/yW3ThP9Adb/JbdOE/0B1v8lt04T/IHW/yW3TxP8gdb/JbdPE/yB1v8lt08T/AHW/yW3TxP8Adb/JbdPE/wB1v8lt08T/AHW/yW3TxP8Adb/JbdOE/wB1v8lt04T/AHW/yW3ThP8Adb/JbdOE/0B1v8lt04T/QHW/yW3ThP9Adb/JbdOE/0B1v8lt04T/AHW/yW3ThP8Adb/JbdOE/0B1v8lt04T/IHW/yW3TxP9Adb/JbdOE/0B1v8lt04T/IHW/yW3TxP8Adb/JbdPE/wB1v8lt08T/AHW/yW3TxP+Adb/JbdOE/4B1v8lt04T/gHW/yW3ThP8Adb/JbdOE/wB1v8lt04T/AHW/yW3ThP8Adb/JbdPE/wB1v8lt04T/AHW/yW3TxP8Adb/JbdOE/wB1v8lt08T/AHW/yW3ThP8Adb/JbdPE/wB1v8lt08T/AHW/yW3TxP8Adb/JbdOE/wB1v8lt04T/AHW/yW3ThP8Adb/JbdOE/wB1v8lt04T/AHW/yW3ThP8Adb/JbdOE/wB1v8lt04T/AHW/yW3ThP8Adb/JbdOE/wB1v8lt04T/AHW/yW3ThP9Adb/JbdPE/0B1v8lt08T/QHW/yW3TxP8Adb/JbdOE/wB1v8lt04T/AHW/yW3ThP8Adb/JbdOE/wB1v8lt04T/AHW/yW3ThP+Adb/JbdOE/4B1v8lt04T/gHW/yW3ThP8Adb/JbdOE/wB1v8lt04T/AHW/yW3ThP8Adb/JbdOE/wB1v8lt08T/AHW/yW3ThP8Adb/JbdPE/wB1v8lt04T/AHW/yW3TxP8Adb/JbdOE/wB1v8lt04T/AHW/yW3ThP9Adb/JbdPE/0B1v8lt08T/QHW/yW3TxP8Adb/JbdOE/wB1v8lt04T/AHW/yW3ThP8Adb/JbdOE/wB1v8lt04T/AHW/yW3ThP8Adb/JbdOE/wB1v8lt04T/AHW/yW3ThP8Adb/JbdOE/wB1v8lt04T/AHW/yW3ThP+Adb/JbdPE/4B1v8lt08T/gHW/yW3TxP8Adb/JbdOE/wB1v8lt04T/AHW/yW3ThP8Adb/JbdPE/wB1v8lt08T/AHW/yW3TxP8Adb/JbdOE/wB1v8lt04T/AHW/yW3ThP8Adb/JbdPE/wB1v8lt08T/AHW/yW3TxPwAeb/JbdOE/AB5v8lt04T8AHm/yW3ThP8Adb/JbdOE/wB1v8lt04T/AHW/yW3ThP8Adb/JbdOE/wB1v8lt04T/AHW/yW3ThP8Adb/JbdOE/wB1v8lt04T/AHW/yW3ThP8Adb/JbdPE/wB1v8lt08T/AHW/yW3TxP8Adb/JbdOE/wB1v8lt04T/AHW/yW3ThP8Adb/JbdOE/wB1v8lt04T/AHW/yW3ThP8Adb/JbdOE/wB1v8lt04T/AHW/yW3ThP8Adb/JbdOE/wB1v8lt04T/AHW/yW3ThP8Adb/JbdOE/4B1v8lt08T/AHW/yW3ThP+Adb/JbdPE/wB1v8lt04T/gHW/yW3TxP8Adb/JbdOE/wB1v8lt04T/AHW/yW3ThP8Adb/JbdPE/wB1v8lt08T/AHW/yW3TxP8Adb/JbdOE/wB1v8lt04T/AHW/yW3ThP8Adb/JbdOE/wB1v8lt04T/AHW/yW3ThP8Adb/JbdOE/wB1v8lt04T/AHW/yW3ThP8Adb/JbdOE/wB1v8lt04T/AHW/yW3ThP+Adb/JbdPE/4B1v8lt08T/gHW/yW3TxP8Adb/JbdOE/wB1v8lt04T/AHW/yW3ThP8Adb/JbdPE/wB1v8lt04T/AHW/yW3TxP8Adb/JbdOE/wB1v8lt08T/AHW/yW3ThP8Adb/JbdOE/wB1v8lt04T/AHW/yW3ThP8Adb/JbdPE/wB1v8lt08T/AHW/yW3TxP8Adb/JbdOE/wB1v8lt04T/AHW/yW3ThP8Adb/JbdOE/wB1v8lt04T/AHW/yW3ThP8Adb/JbdOE/wB1v8lt08T/AHW/yW3ThP8Adb/JbdPE/wB1v8lt04T/AHW/yW3TxP8Adb/JbdPE/wB1v8lt08T/AHW/yW3TxPwAeb/JbdOE/AB5v8lt04T8AHm/yW3ThP8Adb/JbdPE/wB1v8lt08T/AHW/yW3TxPwAeb/JbdOE/AB5v8lt04T8AHm/yW3ThP8Adb/JbdPE/wB1v8lt08T/AHW/yW3TxPwAeb/JbdOE/AB5v8lt04T8AHm/yW3ThPwAeb/JbdOE/AB5v8lt04T8AHm/yW3ThP4Adb/JbdOE/gB1v8lt04T+AHW/yW3ThPwAeb/JbdOE/AB5v8lt04T8AHm/yW3ThP8Adb/JbdPE/wB1v8lt08T/AHW/yW3TxP4Adb/JbdOE/gB1v8lt04T+AHW/yW3ThPwAeb/JbdOE/AB5v8lt04T8AHm/yW3ThP4Adb/JbdOE/gB1v8lt04T+AHW/yW3ThPwAeb/JbdOE/AB5v8lt04T8AHm/yW3ThP8Adb/JbdPE/wB1v8lt08T/AHW/yW3TxPwAeb/JbdOE/AB5v8lt04T8AHm/yW3ThP4Adb/JbdOE/gB1v8lt04T+AHW/yW3ThPwAeb/JbdOE/AB5v8lt04T8AHm/yW3ThP4Adb/JbdOE/gB1v8lt04T+AHW/yW3ThP8Adb/JbdPE/wB1v8lt08T/AHW/yW3TxPwAeb/JbdOE/AB5v8lt04T8AHm/yW3ThPwAeb/JbdOE/AB5v8lt04T8AHm/yW3ThP4Adb/JbdOE/gB1v8lt04T+AHW/yW3ThPwAeb/JbdOE/AB5v8lt04T8AHm/yW3ThP8Adb/JbdPE/wB1v8lt08T/AHW/yW3TxP4Adb/JbdOE/gB1v8lt04T+AHW/yW3ThPwAeb/JbdOE/AB5v8lt04T8AHm/yW3ThP4Adb/JbdOE/gB1v8lt04T+AHW/yW3ThPwAeb/JbdOE/AB5v8lt04T8AHm/yW3ThP4Adb/JbdOE/wB1v8lt08T+AHW/yW3ThP8Adb/JbdPE/gB1v8lt04T/AHW/yW3TxPwAeb/JbdOE/AB5v8lt04T8AHm/yW3ThP8Adb/JbdPE/wB1v8lt08T/AHW/yW3TxPwAeb/JbdOE/AB5v8lt04T8AHm/yW3ThP4Adb/JbdOE/gB1v8lt04T+AHW/yW3ThPwAeb/JbdOE/AB5v8lt04T8AHm/yW3ThP4Adb/JbdOE/gB1v8lt04T+AHW/yW3ThPwAeb/JbdPE/AB5v8lt08T8AHm/yW3TxP4Adb/JbdOE/gB1v8lt04T+AHW/yW3ThP8Adb/JbdPE/wB1v8lt08T/AHW/yW3TxP4Adb/JbdOE/gB1v8lt04T+AHW/yW3ThP8Adb/JbdPE/wB1v8lt08T/AHW/yW3TxPwAeb/JbdOE/AB5v8lt04T8AHm/yW3ThP4Adb/JbdOE/gB1v8lt04T+AHW/yW3ThPwAeb/JbdOE/AB5v8lt04T8AHm/yW3ThP4Adb/JbdOE/gB1v8lt04T+AHW/yW3ThP8Adb/JbdPE/wB1v8lt08T/AHW/yW3TxPwAeb/JbdOE/AB5v8lt04T8AHm/yW3ThP4Adb/JbdOE/gB1v8lt04T+AHW/yW3ThPwAeb/JbdOE/AB5v8lt04T8AHm/yW3ThP4Adb/JbdOE/gB1v8lt04T+AHW/yW3ThPwAeb/JbdOE/AB5v8lt04T8AHm/yW3ThPwAeb/JbdOE/AB5v8lt04T8AHm/yW3ThP4Adb/JbdOE/gB1v8lt04T+AHW/yW3ThP8Adb/JbdPE/wB1v8lt08T/AHW/yW3TxP4Adb/JbdOE/gB1v8lt04T+AHW/yW3ThPwAeb/JbdOE/AB5v8lt04T8AHm/yW3ThP4Adb/JbdOE/gB1v8lt04T+AHW/yW3ThPwAeb/JbdOE/AB5v8lt04T8AHm/yW3ThP8Adb/JbdPE/wB1v8lt08T/AHW/yW3TxPwAeb/JbdOE/AB5v8lt04T8AHm/yW3ThP4Adb/JbdOE/gB1v8lt04T+AHW/yW3ThPwAeb/JbdOE/AB5v8lt04T8AHm/yW3ThP4Adb/JbdOE/gB1v8lt04T+AHW/yW3ThP8Adb/JbdPE/wB1v8lt08T/AHW/yW3TxP4Adb/JbdOE/gB1v8lt04T+AHW/yW3ThPwAeb/JbdOE/AB5v8lt04T8AHm/yW3ThPwAeb/JbdOE/wB1v8lt08T8AHm/yW3ThP8Adb/JbdPE/AB5v8lt04T/AHW/yW3TxP8Adb/JbdPE/wB1v8lt08T/AHW/yW3TxP4Adb/JbdOE/gB1v8lt04T+AHW/yW3ThPwAeb/JbdOE/AB5v8lt04T8AHm/yW3ThP4Adb/JbdOE/gB1v8lt04T+AHW/yW3ThPwAeb/JbdOE/AB5v8lt04T8AHm/yW3ThPwAeb/JbdPE/AB5v8lt08T8AHm/yW3TxPwAeb/JbdOE/AB5v8lt04T8AHm/yW3ThP4Adb/JbdPE/gB1v8lt08T+AHW/yW3TxPwAeb/JbdOE/AB5v8lt04T8AHm/yW3ThP4Adb/JbdPE/gB1v8lt08T+AHW/yW3TxPwAeb/JbdOE/AB5v8lt04T8AHm/yW3ThPwAeb/JbdOE/AB5v8lt04T8AHm/yW3ThPwAeb/JbdOE/AB5v8lt04T8AHm/yW3ThPwAdb/JbdOE/AB1v8lt04T8AHW/yW3ThPwAeb/JbdPE/AB5v8lt08T8AHm/yW3TxPwAeb/JbdOE/AB5v8lt04T8AHm/yW3ThPwAeb/JbdOE/AB5v8lt04T8AHm/yW3ThPwAeb/JbdOE/AB5v8lt04T8AHm/yW3ThPwAeb/JbdOE/AB5v8lt04T8AHm/yW3ThPwAeb/JbdOE/gB1v8lt08T8AHm/yW3ThP4Adb/JbdPE/AB5v8lt04T+AHW/yW3TxPwAeb/JbdOE/AB5v8lt04T8AHm/yW3ThP4Adb/JbdPE/gB1v8lt08T+AHW/yW3TxPwAdb/JbdOE/AB1v8lt04T8AHW/yW3ThPwAeb/JbdOE/AB5v8lt04T8AHm/yW3ThPwAeb/JbdOE/AB5v8lt04T8AHm/yW3ThPwAeb/JbdOE/AB5v8lt04T8AHm/yW3ThP4Adb/JbdPE/gB1v8lt08T+AHW/yW3TxPwAeb/JbdOE/AB5v8lt04T8AHm/yW3ThP4Adb/JbdPE/AB5v8lt04T+AHW/yW3TxPwAeb/JbdOE/gB1v8lt08T8AHm/yW3ThPwAeb/JbdOE/AB5v8lt04T8AHm/yW3ThP4Adb/JbdPE/gB1v8lt08T+AHW/yW3TxPwAeb/JbdOE/AB5v8lt04T8AHm/yW3ThPwAeb/JbdOE/AB5v8lt04T8AHm/yW3ThP4Adb/JbdPE/gB1v8lt08T+AHW/yW3TxPw==\",\"dtype\":\"float64\",\"order\":\"little\",\"shape\":[542]},\"end_time\":{\"__ndarray__\":\"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\",\"dtype\":\"float64\",\"order\":\"little\",\"shape\":[542]},\"fill_alpha\":{\"__ndarray__\":\"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\",\"dtype\":\"float64\",\"order\":\"little\",\"shape\":[542]},\"index\":[252,253,254,255,256,257,258,259,260,261,262,263,264,265,266,267,268,269,270,271,272,273,274,275,276,277,278,279,280,281,282,283,284,285,286,287,288,289,290,291,292,293,294,295,296,297,298,299,300,301,302,303,304,305,306,307,308,309,310,311,312,313,314,315,316,317,318,319,320,321,322,323,324,325,326,327,328,329,330,331,332,333,334,335,336,337,338,339,340,341,342,343,344,345,346,347,348,349,350,351,352,353,354,355,356,357,358,359,360,361,362,363,364,365,366,367,368,369,370,371,372,373,374,375,376,377,378,379,380,381,382,383,384,385,386,387,388,389,390,391,392,393,394,395,396,397,398,399,400,401,402,403,404,405,406,407,408,409,410,411,412,413,414,415,416,417,418,419,420,421,422,423,424,425,426,427,428,429,430,431,432,433,434,435,436,437,438,439,440,441,442,443,444,445,446,447,448,449,450,451,452,453,454,455,456,457,458,459,460,461,462,463,464,465,466,467,468,469,470,471,472,473,474,475,476,477,478,479,480,481,482,483,484,485,486,487,488,489,490,491,492,493,494,495,496,497,498,499,500,501,502,503,504,505,506,507,508,509,510,511,512,513,514,515,516,517,518,519,520,521,522,523,524,525,526,527,528,529,530,531,532,533,534,535,536,537,538,539,540,541,542,543,544,545,546,547,548,549,550,551,552,553,554,555,556,557,558,559,560,561,562,563,564,565,566,567,568,569,570,571,572,573,574,575,576,577,578,579,580,581,582,583,584,585,586,587,588,589,590,591,592,593,594,595,596,597,598,599,600,601,602,603,604,605,606,607,608,609,610,611,612,613,614,615,616,617,618,619,620,621,622,623,624,625,626,627,628,629,630,631,632,633,634,635,636,637,638,639,640,641,642,643,644,645,646,647,648,649,650,651,652,653,654,655,656,657,658,659,660,661,662,663,664,665,666,667,668,669,670,671,672,673,674,675,676,677,678,679,680,681,682,683,684,685,686,687,688,689,690,691,692,693,694,695,696,697,698,699,700,701,702,703,704,705,706,707,708,709,710,711,712,713,714,715,716,717,718,719,720,721,722,723,724,725,726,727,728,729,730,731,732,733,734,735,736,737,738,739,740,741,742,743,744,745,746,747,748,749,750,751,752,753,754,755,756,757,758,759,760,761,762,763,764,765,766,767,768,769,770,771,772,773,774,775,776,777,778,779,780,781,782,783,784,785,786,787,788,789,790,791,792,793],\"instrument\":[1,1,1,1,1,1,1,1,1,1,1,1,1,1,1,1,1,1,1,1,1,1,1,1,1,1,1,1,1,1,1,1,1,1,1,1,1,1,1,1,1,1,1,1,1,1,1,1,1,1,1,1,1,1,1,1,1,1,1,1,1,1,1,1,1,1,1,1,1,1,1,1,1,1,1,1,1,1,1,1,1,1,1,1,1,1,1,1,1,1,1,1,1,1,1,1,1,1,1,1,1,1,1,1,1,1,1,1,1,1,1,1,1,1,1,1,1,1,1,1,1,1,1,1,1,1,1,1,1,1,1,1,1,1,1,1,1,1,1,1,1,1,1,1,1,1,1,1,1,1,1,1,1,1,1,1,1,1,1,1,1,1,1,1,1,1,1,1,1,1,1,1,1,1,1,1,1,1,1,1,1,1,1,1,1,1,1,1,1,1,1,1,1,1,1,1,1,1,1,1,1,1,1,1,1,1,1,1,1,1,1,1,1,1,1,1,1,1,1,1,1,1,1,1,1,1,1,1,1,1,1,1,1,1,1,1,1,1,1,1,1,1,1,1,1,1,1,1,1,1,1,1,1,1,1,1,1,1,1,1,1,1,1,1,1,1,1,1,1,1,1,1,1,1,1,1,1,1,1,1,1,1,1,1,1,1,1,1,1,1,1,1,1,1,1,1,1,1,1,1,1,1,1,1,1,1,1,1,1,1,1,1,1,1,1,1,1,1,1,1,1,1,1,1,1,1,1,1,1,1,1,1,1,1,1,1,1,1,1,1,1,1,1,1,1,1,1,1,1,1,1,1,1,1,1,1,1,1,1,1,1,1,1,1,1,1,1,1,1,1,1,1,1,1,1,1,1,1,1,1,1,1,1,1,1,1,1,1,1,1,1,1,1,1,1,1,1,1,1,1,1,1,1,1,1,1,1,1,1,1,1,1,1,1,1,1,1,1,1,1,1,1,1,1,1,1,1,1,1,1,1,1,1,1,1,1,1,1,1,1,1,1,1,1,1,1,1,1,1,1,1,1,1,1,1,1,1,1,1,1,1,1,1,1,1,1,1,1,1,1,1,1,1,1,1,1,1,1,1,1,1,1,1,1,1,1,1,1,1,1,1,1,1,1,1,1,1,1,1,1,1,1,1,1,1,1,1,1,1,1,1,1,1,1,1,1,1,1,1,1,1,1,1,1,1,1,1,1,1,1,1,1,1,1,1,1,1,1,1,1,1,1],\"pitch\":[59,62,66,59,62,66,59,62,66,59,62,66,59,62,66,59,62,66,59,62,66,59,62,66,59,62,66,59,62,66,59,62,66,59,62,66,48,51,55,58,59,62,66,48,51,55,58,48,51,55,58,48,51,55,58,48,55,48,51,52,55,58,48,52,55,48,52,55,48,52,55,48,49,52,53,55,56,49,53,56,49,53,56,49,53,56,49,53,56,49,53,56,49,53,56,49,53,56,49,53,56,49,53,56,49,53,56,48,49,52,53,55,56,48,52,55,48,52,55,48,52,55,48,52,55,48,52,55,48,52,55,48,52,55,48,52,55,48,52,55,50,54,57,50,54,57,49,53,56,49,53,56,49,53,56,49,53,56,49,53,56,49,53,56,49,53,56,49,53,56,49,53,56,48,49,52,53,55,56,48,52,55,48,52,55,48,52,55,48,52,55,48,52,55,48,52,55,48,52,55,48,52,55,48,50,52,54,55,57,50,54,57,50,54,57,50,54,57,50,54,57,48,50,52,54,55,57,48,52,55,48,52,55,48,52,55,50,54,57,50,54,57,49,53,56,49,53,56,49,53,56,49,53,56,49,53,56,49,53,56,49,53,56,49,53,56,49,53,56,49,53,56,49,53,56,49,53,56,49,53,56,49,53,56,49,53,56,49,53,56,49,53,56,49,53,56,49,53,56,49,53,56,49,53,56,49,53,56,49,53,56,49,53,56,48,49,52,53,55,56,48,52,55,48,52,55,48,52,55,48,52,55,48,52,55,48,52,55,48,52,55,48,52,55,48,52,55,50,54,57,50,54,57,49,53,56,49,53,56,49,53,56,49,53,56,49,53,56,49,53,56,49,53,56,49,53,56,49,53,56,49,53,56,49,53,56,49,53,56,49,53,56,49,53,56,49,53,56,49,53,56,49,53,56,49,53,56,49,53,56,49,53,56,49,53,56,49,53,56,49,53,56,49,53,56,49,53,56,48,49,52,53,55,56,48,52,55,48,52,55,48,52,55,48,52,55,48,52,55,48,52,55,48,52,55,48,52,55,50,54,57,50,54,57,49,53,56,49,53,56,49,53,56,49,53,56,49,53,56,49,53,56,49,53,56,49,53,56,49,53,56,48,49,52,53,55,56,48,52,55,48,52,55,48,52,55,48,52,55,48,52,55,48,52,55,48,52,55,48,52,55,48,50,52,54,55,57,50,54,57,50,54,57,50,54,57,50,54,57,50,54,57],\"program\":[0,0,0,0,0,0,0,0,0,0,0,0,0,0,0,0,0,0,0,0,0,0,0,0,0,0,0,0,0,0,0,0,0,0,0,0,0,0,0,0,0,0,0,0,0,0,0,0,0,0,0,0,0,0,0,0,0,0,0,0,0,0,0,0,0,0,0,0,0,0,0,0,0,0,0,0,0,0,0,0,0,0,0,0,0,0,0,0,0,0,0,0,0,0,0,0,0,0,0,0,0,0,0,0,0,0,0,0,0,0,0,0,0,0,0,0,0,0,0,0,0,0,0,0,0,0,0,0,0,0,0,0,0,0,0,0,0,0,0,0,0,0,0,0,0,0,0,0,0,0,0,0,0,0,0,0,0,0,0,0,0,0,0,0,0,0,0,0,0,0,0,0,0,0,0,0,0,0,0,0,0,0,0,0,0,0,0,0,0,0,0,0,0,0,0,0,0,0,0,0,0,0,0,0,0,0,0,0,0,0,0,0,0,0,0,0,0,0,0,0,0,0,0,0,0,0,0,0,0,0,0,0,0,0,0,0,0,0,0,0,0,0,0,0,0,0,0,0,0,0,0,0,0,0,0,0,0,0,0,0,0,0,0,0,0,0,0,0,0,0,0,0,0,0,0,0,0,0,0,0,0,0,0,0,0,0,0,0,0,0,0,0,0,0,0,0,0,0,0,0,0,0,0,0,0,0,0,0,0,0,0,0,0,0,0,0,0,0,0,0,0,0,0,0,0,0,0,0,0,0,0,0,0,0,0,0,0,0,0,0,0,0,0,0,0,0,0,0,0,0,0,0,0,0,0,0,0,0,0,0,0,0,0,0,0,0,0,0,0,0,0,0,0,0,0,0,0,0,0,0,0,0,0,0,0,0,0,0,0,0,0,0,0,0,0,0,0,0,0,0,0,0,0,0,0,0,0,0,0,0,0,0,0,0,0,0,0,0,0,0,0,0,0,0,0,0,0,0,0,0,0,0,0,0,0,0,0,0,0,0,0,0,0,0,0,0,0,0,0,0,0,0,0,0,0,0,0,0,0,0,0,0,0,0,0,0,0,0,0,0,0,0,0,0,0,0,0,0,0,0,0,0,0,0,0,0,0,0,0,0,0,0,0,0,0,0,0,0,0,0,0,0,0,0,0,0,0,0,0,0,0,0,0,0,0,0,0,0,0,0,0,0,0,0,0,0,0,0,0,0,0,0,0,0,0,0,0,0,0,0,0,0],\"start_time\":{\"__ndarray__\":\"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\",\"dtype\":\"float64\",\"order\":\"little\",\"shape\":[542]},\"top\":{\"__ndarray__\":\"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\",\"dtype\":\"float64\",\"order\":\"little\",\"shape\":[542]},\"velocity\":[75,75,75,75,75,75,75,75,75,75,75,75,75,75,75,75,75,75,75,75,75,75,75,75,75,75,75,75,75,75,75,75,75,75,75,75,75,75,75,75,75,75,75,75,75,75,75,75,75,75,75,75,75,75,75,75,75,75,75,75,75,75,75,75,75,75,75,75,75,75,75,75,75,75,75,75,75,75,75,75,75,75,75,75,75,75,75,75,75,75,75,75,75,75,75,75,75,75,75,75,75,75,75,75,75,75,75,75,75,75,75,75,75,75,75,75,75,75,75,75,75,75,75,75,75,75,75,75,75,75,75,75,75,75,75,75,75,75,75,75,75,75,75,75,75,75,75,75,75,75,75,75,75,75,75,75,75,75,75,75,75,75,75,75,75,75,75,75,75,75,75,75,75,75,75,75,75,75,75,75,75,75,75,75,75,75,75,75,75,75,75,75,75,75,75,75,75,75,75,75,75,75,75,75,75,75,75,75,75,75,75,75,75,75,75,75,75,75,75,75,75,75,75,75,75,75,75,75,75,75,75,75,75,75,75,75,75,75,75,75,75,75,75,75,75,75,75,75,75,75,75,75,75,75,75,75,75,75,75,75,75,75,75,75,75,75,75,75,75,75,75,75,75,75,75,75,75,75,75,75,75,75,75,75,75,75,75,75,75,75,75,75,75,75,75,75,75,75,75,75,75,75,75,75,75,75,75,75,75,75,75,75,75,75,75,75,75,75,75,75,75,75,75,75,75,75,75,75,75,75,75,75,75,75,75,75,75,75,75,75,75,75,75,75,75,75,75,75,75,75,75,75,75,75,75,75,75,75,75,75,75,75,75,75,75,75,75,75,75,75,75,75,75,75,75,75,75,75,75,75,75,75,75,75,75,75,75,75,75,75,75,75,75,75,75,75,75,75,75,75,75,75,75,75,75,75,75,75,75,75,75,75,75,75,75,75,75,75,75,75,75,75,75,75,75,75,75,75,75,75,75,75,75,75,75,75,75,75,75,75,75,75,75,75,75,75,75,75,75,75,75,75,75,75,75,75,75,75,75,75,75,75,75,75,75,75,75,75,75,75,75,75,75,75,75,75,75,75,75,75,75,75,75,75,75,75,75,75,75,75,75,75,75,75,75,75,75,75,75,75,75,75,75,75,75,75,75,75,75,75,75,75,75,75,75,75,75,75,75,75,75,75,75,75,75,75,75,75,75,75,75,75,75,75,75,75,75,75,75,75,75,75]},\"selected\":{\"id\":\"1439\"},\"selection_policy\":{\"id\":\"1438\"}},\"id\":\"1422\",\"type\":\"ColumnDataSource\"},{\"attributes\":{\"axis_label\":\"pitch (MIDI)\",\"coordinates\":null,\"formatter\":{\"id\":\"1431\"},\"group\":null,\"major_label_policy\":{\"id\":\"1432\"},\"ticker\":{\"id\":\"1412\"}},\"id\":\"1396\",\"type\":\"LinearAxis\"},{\"attributes\":{\"interval\":12},\"id\":\"1412\",\"type\":\"SingleIntervalTicker\"},{\"attributes\":{},\"id\":\"1438\",\"type\":\"UnionRenderers\"},{\"attributes\":{},\"id\":\"1432\",\"type\":\"AllLabels\"},{\"attributes\":{},\"id\":\"1439\",\"type\":\"Selection\"},{\"attributes\":{},\"id\":\"1386\",\"type\":\"DataRange1d\"},{\"attributes\":{},\"id\":\"1390\",\"type\":\"LinearScale\"},{\"attributes\":{},\"id\":\"1434\",\"type\":\"BasicTickFormatter\"},{\"attributes\":{},\"id\":\"1436\",\"type\":\"UnionRenderers\"},{\"attributes\":{},\"id\":\"1388\",\"type\":\"LinearScale\"},{\"attributes\":{},\"id\":\"1431\",\"type\":\"BasicTickFormatter\"},{\"attributes\":{},\"id\":\"1393\",\"type\":\"BasicTicker\"},{\"attributes\":{\"bottom\":{\"field\":\"bottom\"},\"fill_alpha\":{\"value\":0.2},\"fill_color\":{\"value\":\"#d53e4f\"},\"hatch_alpha\":{\"value\":0.2},\"left\":{\"field\":\"start_time\"},\"line_alpha\":{\"value\":0.2},\"right\":{\"field\":\"end_time\"},\"top\":{\"field\":\"top\"}},\"id\":\"1419\",\"type\":\"Quad\"},{\"attributes\":{\"axis\":{\"id\":\"1392\"},\"coordinates\":null,\"group\":null,\"ticker\":null},\"id\":\"1395\",\"type\":\"Grid\"},{\"attributes\":{\"bottom\":{\"field\":\"bottom\"},\"fill_alpha\":{\"value\":0.2},\"fill_color\":{\"value\":\"#3288bd\"},\"hatch_alpha\":{\"value\":0.2},\"left\":{\"field\":\"start_time\"},\"line_alpha\":{\"value\":0.2},\"right\":{\"field\":\"end_time\"},\"top\":{\"field\":\"top\"}},\"id\":\"1426\",\"type\":\"Quad\"},{\"attributes\":{\"axis\":{\"id\":\"1396\"},\"coordinates\":null,\"dimension\":1,\"group\":null,\"ticker\":{\"id\":\"1414\"}},\"id\":\"1399\",\"type\":\"Grid\"},{\"attributes\":{\"data\":{\"bottom\":{\"__ndarray__\":\"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\",\"dtype\":\"float64\",\"order\":\"little\",\"shape\":[252]},\"duration\":{\"__ndarray__\":\"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\",\"dtype\":\"float64\",\"order\":\"little\",\"shape\":[252]},\"end_time\":{\"__ndarray__\":\"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\",\"dtype\":\"float64\",\"order\":\"little\",\"shape\":[252]},\"fill_alpha\":{\"__ndarray__\":\"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\",\"dtype\":\"float64\",\"order\":\"little\",\"shape\":[252]},\"index\":[0,1,2,3,4,5,6,7,8,9,10,11,12,13,14,15,16,17,18,19,20,21,22,23,24,25,26,27,28,29,30,31,32,33,34,35,36,37,38,39,40,41,42,43,44,45,46,47,48,49,50,51,52,53,54,55,56,57,58,59,60,61,62,63,64,65,66,67,68,69,70,71,72,73,74,75,76,77,78,79,80,81,82,83,84,85,86,87,88,89,90,91,92,93,94,95,96,97,98,99,100,101,102,103,104,105,106,107,108,109,110,111,112,113,114,115,116,117,118,119,120,121,122,123,124,125,126,127,128,129,130,131,132,133,134,135,136,137,138,139,140,141,142,143,144,145,146,147,148,149,150,151,152,153,154,155,156,157,158,159,160,161,162,163,164,165,166,167,168,169,170,171,172,173,174,175,176,177,178,179,180,181,182,183,184,185,186,187,188,189,190,191,192,193,194,195,196,197,198,199,200,201,202,203,204,205,206,207,208,209,210,211,212,213,214,215,216,217,218,219,220,221,222,223,224,225,226,227,228,229,230,231,232,233,234,235,236,237,238,239,240,241,242,243,244,245,246,247,248,249,250,251],\"instrument\":[0,0,0,0,0,0,0,0,0,0,0,0,0,0,0,0,0,0,0,0,0,0,0,0,0,0,0,0,0,0,0,0,0,0,0,0,0,0,0,0,0,0,0,0,0,0,0,0,0,0,0,0,0,0,0,0,0,0,0,0,0,0,0,0,0,0,0,0,0,0,0,0,0,0,0,0,0,0,0,0,0,0,0,0,0,0,0,0,0,0,0,0,0,0,0,0,0,0,0,0,0,0,0,0,0,0,0,0,0,0,0,0,0,0,0,0,0,0,0,0,0,0,0,0,0,0,0,0,0,0,0,0,0,0,0,0,0,0,0,0,0,0,0,0,0,0,0,0,0,0,0,0,0,0,0,0,0,0,0,0,0,0,0,0,0,0,0,0,0,0,0,0,0,0,0,0,0,0,0,0,0,0,0,0,0,0,0,0,0,0,0,0,0,0,0,0,0,0,0,0,0,0,0,0,0,0,0,0,0,0,0,0,0,0,0,0,0,0,0,0,0,0,0,0,0,0,0,0,0,0,0,0,0,0,0,0,0,0,0,0,0,0,0,0,0,0,0,0,0,0,0,0],\"pitch\":[59,62,66,62,59,54,59,50,54,59,50,71,74,79,78,72,67,70,72,67,70,67,67,67,67,65,64,64,68,68,68,67,65,68,67,68,65,67,68,65,67,65,65,65,68,64,62,60,64,62,60,60,60,62,64,60,54,54,54,54,55,57,68,68,68,67,65,68,67,68,65,67,68,65,67,65,65,65,68,64,62,60,64,62,60,64,62,60,64,57,54,74,81,79,78,79,81,79,78,60,60,62,64,60,54,54,54,54,55,57,68,68,68,67,65,68,65,65,65,65,67,65,68,67,65,65,65,68,67,65,65,65,61,67,68,65,67,68,65,67,65,65,65,68,64,62,60,64,62,60,60,60,62,64,60,54,54,54,54,55,57,68,68,68,67,65,68,67,65,65,65,68,67,65,65,65,68,65,65,65,65,68,67,65,61,56,53,52,53,53,55,53,55,56,53,55,56,53,64,62,60,64,62,60,60,60,62,64,60,54,54,54,54,55,57,68,68,68,67,65,68,67,68,65,67,68,65,67,65,65,65,68,64,62,60,64,62,60,64,62,60,64,57,54,50,50,50,50,50,52,54,50],\"program\":[0,0,0,0,0,0,0,0,0,0,0,0,0,0,0,0,0,0,0,0,0,0,0,0,0,0,0,0,0,0,0,0,0,0,0,0,0,0,0,0,0,0,0,0,0,0,0,0,0,0,0,0,0,0,0,0,0,0,0,0,0,0,0,0,0,0,0,0,0,0,0,0,0,0,0,0,0,0,0,0,0,0,0,0,0,0,0,0,0,0,0,0,0,0,0,0,0,0,0,0,0,0,0,0,0,0,0,0,0,0,0,0,0,0,0,0,0,0,0,0,0,0,0,0,0,0,0,0,0,0,0,0,0,0,0,0,0,0,0,0,0,0,0,0,0,0,0,0,0,0,0,0,0,0,0,0,0,0,0,0,0,0,0,0,0,0,0,0,0,0,0,0,0,0,0,0,0,0,0,0,0,0,0,0,0,0,0,0,0,0,0,0,0,0,0,0,0,0,0,0,0,0,0,0,0,0,0,0,0,0,0,0,0,0,0,0,0,0,0,0,0,0,0,0,0,0,0,0,0,0,0,0,0,0,0,0,0,0,0,0,0,0,0,0,0,0,0,0,0,0,0,0],\"start_time\":{\"__ndarray__\":\"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\",\"dtype\":\"float64\",\"order\":\"little\",\"shape\":[252]},\"top\":{\"__ndarray__\":\"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\",\"dtype\":\"float64\",\"order\":\"little\",\"shape\":[252]},\"velocity\":[100,100,100,100,100,100,100,100,100,100,100,100,100,100,100,100,100,100,100,100,100,100,100,100,100,100,100,100,100,100,100,100,100,100,100,100,100,100,100,100,100,100,100,100,100,100,100,100,100,100,100,100,100,100,100,100,100,100,100,100,100,100,100,100,100,100,100,100,100,100,100,100,100,100,100,100,100,100,100,100,100,100,100,100,100,100,100,100,100,100,100,100,100,100,100,100,100,100,100,100,100,100,100,100,100,100,100,100,100,100,100,100,100,100,100,100,100,100,100,100,100,100,100,100,100,100,100,100,100,100,100,100,100,100,100,100,100,100,100,100,100,100,100,100,100,100,100,100,100,100,100,100,100,100,100,100,100,100,100,100,100,100,100,100,100,100,100,100,100,100,100,100,100,100,100,100,100,100,100,100,100,100,100,100,100,100,100,100,100,100,100,100,100,100,100,100,100,100,100,100,100,100,100,100,100,100,100,100,100,100,100,100,100,100,100,100,100,100,100,100,100,100,100,100,100,100,100,100,100,100,100,100,100,100,100,100,100,100,100,100,100,100,100,100,100,100,100,100,100,100,100,100]},\"selected\":{\"id\":\"1437\"},\"selection_policy\":{\"id\":\"1436\"}},\"id\":\"1415\",\"type\":\"ColumnDataSource\"},{\"attributes\":{\"coordinates\":null,\"group\":null},\"id\":\"1429\",\"type\":\"Title\"},{\"attributes\":{\"bottom\":{\"field\":\"bottom\"},\"fill_alpha\":{\"field\":\"fill_alpha\"},\"fill_color\":{\"value\":\"#3288bd\"},\"left\":{\"field\":\"start_time\"},\"right\":{\"field\":\"end_time\"},\"top\":{\"field\":\"top\"}},\"id\":\"1424\",\"type\":\"Quad\"},{\"attributes\":{},\"id\":\"1404\",\"type\":\"SaveTool\"},{\"attributes\":{},\"id\":\"1401\",\"type\":\"PanTool\"},{\"attributes\":{\"source\":{\"id\":\"1415\"}},\"id\":\"1421\",\"type\":\"CDSView\"},{\"attributes\":{\"callback\":null,\"tooltips\":[[\"pitch\",\"@pitch\"],[\"program\",\"@program\"],[\"velo\",\"@velocity\"],[\"duration\",\"@duration\"],[\"start_time\",\"@start_time\"],[\"end_time\",\"@end_time\"],[\"velocity\",\"@velocity\"],[\"fill_alpha\",\"@fill_alpha\"]]},\"id\":\"1400\",\"type\":\"HoverTool\"},{\"attributes\":{\"bottom\":{\"field\":\"bottom\"},\"fill_alpha\":{\"value\":0.1},\"fill_color\":{\"value\":\"#d53e4f\"},\"hatch_alpha\":{\"value\":0.1},\"left\":{\"field\":\"start_time\"},\"line_alpha\":{\"value\":0.1},\"right\":{\"field\":\"end_time\"},\"top\":{\"field\":\"top\"}},\"id\":\"1418\",\"type\":\"Quad\"},{\"attributes\":{\"overlay\":{\"id\":\"1405\"}},\"id\":\"1402\",\"type\":\"BoxZoomTool\"},{\"attributes\":{},\"id\":\"1403\",\"type\":\"ResetTool\"},{\"attributes\":{\"bottom_units\":\"screen\",\"coordinates\":null,\"fill_alpha\":0.5,\"fill_color\":\"lightgrey\",\"group\":null,\"left_units\":\"screen\",\"level\":\"overlay\",\"line_alpha\":1.0,\"line_color\":\"black\",\"line_dash\":[4,4],\"line_width\":2,\"right_units\":\"screen\",\"syncable\":false,\"top_units\":\"screen\"},\"id\":\"1405\",\"type\":\"BoxAnnotation\"},{\"attributes\":{\"interval\":12},\"id\":\"1414\",\"type\":\"SingleIntervalTicker\"},{\"attributes\":{\"source\":{\"id\":\"1422\"}},\"id\":\"1428\",\"type\":\"CDSView\"},{\"attributes\":{\"tools\":[{\"id\":\"1400\"},{\"id\":\"1401\"},{\"id\":\"1402\"},{\"id\":\"1403\"},{\"id\":\"1404\"}]},\"id\":\"1406\",\"type\":\"Toolbar\"},{\"attributes\":{\"bottom\":{\"field\":\"bottom\"},\"fill_alpha\":{\"value\":0.1},\"fill_color\":{\"value\":\"#3288bd\"},\"hatch_alpha\":{\"value\":0.1},\"left\":{\"field\":\"start_time\"},\"line_alpha\":{\"value\":0.1},\"right\":{\"field\":\"end_time\"},\"top\":{\"field\":\"top\"}},\"id\":\"1425\",\"type\":\"Quad\"},{\"attributes\":{\"bottom\":{\"field\":\"bottom\"},\"fill_alpha\":{\"field\":\"fill_alpha\"},\"fill_color\":{\"value\":\"#d53e4f\"},\"left\":{\"field\":\"start_time\"},\"right\":{\"field\":\"end_time\"},\"top\":{\"field\":\"top\"}},\"id\":\"1417\",\"type\":\"Quad\"},{\"attributes\":{\"coordinates\":null,\"data_source\":{\"id\":\"1415\"},\"glyph\":{\"id\":\"1417\"},\"group\":null,\"hover_glyph\":null,\"muted_glyph\":{\"id\":\"1419\"},\"nonselection_glyph\":{\"id\":\"1418\"},\"view\":{\"id\":\"1421\"}},\"id\":\"1420\",\"type\":\"GlyphRenderer\"}],\"root_ids\":[\"1383\"]},\"title\":\"Bokeh Application\",\"version\":\"2.4.3\"}};\n",
              "  const render_items = [{\"docid\":\"33cee97f-5e7f-4454-a83a-16c2f03a3b46\",\"root_ids\":[\"1383\"],\"roots\":{\"1383\":\"1c57aea6-e1ca-4350-bdfb-92a75fbe94bb\"}}];\n",
              "  root.Bokeh.embed.embed_items_notebook(docs_json, render_items);\n",
              "  }\n",
              "  if (root.Bokeh !== undefined) {\n",
              "    embed_document(root);\n",
              "  } else {\n",
              "    let attempts = 0;\n",
              "    const timer = setInterval(function(root) {\n",
              "      if (root.Bokeh !== undefined) {\n",
              "        clearInterval(timer);\n",
              "        embed_document(root);\n",
              "      } else {\n",
              "        attempts++;\n",
              "        if (attempts > 100) {\n",
              "          clearInterval(timer);\n",
              "          console.log(\"Bokeh: ERROR: Unable to run BokehJS code because BokehJS library is missing\");\n",
              "        }\n",
              "      }\n",
              "    }, 10, root)\n",
              "  }\n",
              "})(window);"
            ],
            "application/vnd.bokehjs_exec.v0+json": ""
          },
          "metadata": {
            "application/vnd.bokehjs_exec.v0+json": {
              "id": "1383"
            }
          }
        }
      ],
      "source": [
        "#@title MIDIの表示\n",
        "import note_seq\n",
        "\n",
        "SAMPLE_RATE = 16000\n",
        "SF2_PATH = '/content/MuseScore_General.sf2'\n",
        "\n",
        "import glob\n",
        "for i in glob.glob(f'/content/input/よぞらに.mid'):\n",
        "#for i in glob.glob(f'/content/muzic/getmusic/example_data/input/position-*.mid'):\n",
        "    print(i)\n",
        "    midi_scr = i\n",
        "\n",
        "est_ns = note_seq.midi_file_to_note_sequence(midi_scr)\n",
        "\n",
        "note_seq.play_sequence(est_ns, synth=note_seq.fluidsynth, sample_rate=SAMPLE_RATE, sf2_path=SF2_PATH)\n",
        "note_seq.plot_sequence(est_ns)"
      ]
    },
    {
      "cell_type": "code",
      "source": [
        "#@title 伴奏を抽出\n",
        "import mido\n",
        "from mido import Message, MidiFile, MidiTrack\n",
        "\n",
        "for i in glob.glob(f'/content/output_midi/*.mid'):\n",
        "#for i in glob.glob(f'/content/muzic/getmusic/example_data/input/position-*.mid'):\n",
        "    print(i)\n",
        "    midi = mido.MidiFile(i)\n",
        "\n",
        "gomi = MidiFile()\n",
        "mid = MidiFile()\n",
        "track = MidiTrack()\n",
        "\n",
        "i = 0\n",
        "for t in midi.tracks:\n",
        "  i += 1\n",
        "  gomi.tracks.append(t)\n",
        "  if i >=3:\n",
        "    mid.tracks.append(t)\n",
        "\n",
        "mid.save('/content/output_midi/acp_tracks.mid')"
      ],
      "metadata": {
        "colab": {
          "base_uri": "https://localhost:8080/"
        },
        "id": "61HTBwqhUokA",
        "outputId": "d739191f-d0b3-4f4b-a4cd-df3e3bd96f21"
      },
      "id": "61HTBwqhUokA",
      "execution_count": null,
      "outputs": [
        {
          "output_type": "stream",
          "name": "stdout",
          "text": [
            "/content/output_midi/p2bdgs-よぞらに.mid\n"
          ]
        }
      ]
    },
    {
      "cell_type": "code",
      "source": [
        "#@title MIDIをオーディオフファイルに変換\n",
        "from pydub import AudioSegment\n",
        "from midi2audio import FluidSynth\n",
        "import glob\n",
        "import math\n",
        "\n",
        "for i in glob.glob(f'/content/output_midi/acp_tracks.mid'):\n",
        "#for i in glob.glob(f'/content/muzic/getmusic/example_data/input/position-*.mid'):\n",
        "    print(i)\n",
        "    MTF_FILE = i\n",
        "\n",
        "fs = FluidSynth(sound_font=\"/content/MuseScore_General.sf2\")\n",
        "MTF_mp3 = \"/content/output_mp3/acp.mp3\"\n",
        "fs.midi_to_audio(MTF_FILE, MTF_mp3)\n",
        "\n",
        "audio = AudioSegment.from_file(MTF_mp3)\n",
        "# 音量(%)\n",
        "volume_percent = 500\n",
        "\n",
        "# 音量を調整して再生\n",
        "mtf = audio + (20 * math.log10(volume_percent/100))\n",
        "mtf.export(MTF_mp3, format='mp3')"
      ],
      "metadata": {
        "colab": {
          "base_uri": "https://localhost:8080/"
        },
        "id": "dz0GhzsTonK-",
        "outputId": "cbc1986f-771e-426d-a3b2-28b5cc9b669e"
      },
      "id": "dz0GhzsTonK-",
      "execution_count": null,
      "outputs": [
        {
          "output_type": "stream",
          "name": "stdout",
          "text": [
            "/content/output_midi/acp_tracks.mid\n"
          ]
        },
        {
          "output_type": "execute_result",
          "data": {
            "text/plain": [
              "<_io.BufferedRandom name='/content/output_mp3/acp.mp3'>"
            ]
          },
          "metadata": {},
          "execution_count": 7
        }
      ]
    }
  ],
  "metadata": {
    "accelerator": "GPU",
    "colab": {
      "gpuType": "T4",
      "provenance": [],
      "include_colab_link": true
    },
    "kernelspec": {
      "display_name": "Python 3",
      "name": "python3"
    },
    "language_info": {
      "codemirror_mode": {
        "name": "ipython",
        "version": 3
      },
      "file_extension": ".py",
      "mimetype": "text/x-python",
      "name": "python",
      "nbconvert_exporter": "python",
      "pygments_lexer": "ipython3",
      "version": "3.8.16"
    }
  },
  "nbformat": 4,
  "nbformat_minor": 5
}