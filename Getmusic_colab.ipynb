{
  "cells": [
    {
      "cell_type": "markdown",
      "metadata": {
        "id": "view-in-github",
        "colab_type": "text"
      },
      "source": [
        "<a href=\"https://colab.research.google.com/github/noriakihanya/getmusic/blob/main/Getmusic_colab.ipynb\" target=\"_parent\"><img src=\"https://colab.research.google.com/assets/colab-badge.svg\" alt=\"Open In Colab\"/></a>"
      ]
    },
    {
      "cell_type": "code",
      "execution_count": null,
      "id": "2d417e17",
      "metadata": {
        "id": "2d417e17",
        "scrolled": true
      },
      "outputs": [],
      "source": [
        "!pip install torch==1.13 numpy tensorboard miditoolkit scipy matplotlib tqdm transformers einops\n",
        "!git clone https://github.com/microsoft/muzic.git\n",
        "\n",
        "#!gsutil -q -m cp gs://magentadata/soundfonts/SGM-v2.01-Sal-Guit-Bass-V1.3.sf2 .\n",
        "!pip install note-seq\n",
        "!pip install pyfluidsynth\n",
        "!pip install midi2audio\n",
        "!apt-get update -qq && apt-get install -qq libfluidsynth2 build-essential libasound2-dev libjack-dev fluidsynth\n",
        "\n",
        "!git clone https://github.com/noriakihanya/getmusic.git\n",
        "import shutil\n",
        "shutil.copy(\"/content/getmusic/track_generation.py\",\"/content/muzic/getmusic/\")\n",
        "\n",
        "import gdown\n",
        "gdown.download('https://drive.google.com/uc?id=1Ub45GMApdXJAGt0_RRbPWwlhIVIHVcT7', 'checkpoint.pth', quiet=False)\n",
        "gdown.download('https://drive.google.com/uc?id=1wVauTFZFFCqbiFzRAK2Th_Kn0p5HzOiG', 'MuseScore_General.sf2', quiet=False)"
      ]
    },
    {
      "cell_type": "code",
      "source": [
        "import os\n",
        "os.makedirs(\"/content/01_input\", exist_ok=True)\n",
        "os.makedirs(\"/content/02_output_midi\", exist_ok=True)\n",
        "os.makedirs(\"/content/03_output_mp3\", exist_ok=True)"
      ],
      "metadata": {
        "id": "_OSZ13tTS1zJ"
      },
      "id": "_OSZ13tTS1zJ",
      "execution_count": 2,
      "outputs": []
    },
    {
      "cell_type": "code",
      "source": [
        "filepath = \"/content/01_input/basic_pitch_transcription.mid\"\n",
        "midi = mido.MidiFile(filepath)\n",
        "print(midi.tracks[1][:10])"
      ],
      "metadata": {
        "id": "rEDDfSSuZfAI"
      },
      "id": "rEDDfSSuZfAI",
      "execution_count": null,
      "outputs": []
    },
    {
      "cell_type": "code",
      "source": [
        "import mido\n",
        "from mido import Message, MidiFile, MidiTrack, MetaMessage\n",
        "\n",
        "filepath = \"/content/01_input/basic_pitch_transcription.mid\"\n",
        "midi = mido.MidiFile(filepath)\n",
        "# 音符などの情報はmidi.tracks[0]にある\n",
        "#print(midi.tracks[1][:10])\n",
        "\n",
        "new_mid = MidiFile()\n",
        "new_track = MidiTrack()\n",
        "new_mid.tracks.append(new_track)\n",
        "\n",
        "new_track.append(MetaMessage('track_name', name='Piano\\x00', time=0))\n",
        "\n",
        "for m in midi.tracks[1][1:]:\n",
        "  new_track.append(m)\n",
        "\n",
        "new_mid.save('/content/01_input/new_basic_pitch_transcription.mid')"
      ],
      "metadata": {
        "id": "Ezv65we2TAej"
      },
      "id": "Ezv65we2TAej",
      "execution_count": 35,
      "outputs": []
    },
    {
      "cell_type": "code",
      "source": [
        "filepath = \"/content/01_input/new_basic_pitch_transcription.mid\"\n",
        "midi = mido.MidiFile(filepath)\n",
        "# 音符などの情報はmidi.tracks[0]にある\n",
        "#print(midi.tracks[1][:10])\n",
        "messages = [m.dict() for m in midi.tracks[0]]\n",
        "for m in messages[:10]:\n",
        "  #m[\"name\"] = \"Piano\"\n",
        "  print(m)"
      ],
      "metadata": {
        "id": "ZlvQj3S8QCRZ",
        "outputId": "38808422-3de7-457c-e02a-d6491c500714",
        "colab": {
          "base_uri": "https://localhost:8080/"
        }
      },
      "id": "ZlvQj3S8QCRZ",
      "execution_count": 36,
      "outputs": [
        {
          "output_type": "stream",
          "name": "stdout",
          "text": [
            "{'type': 'track_name', 'name': 'Piano\\x00', 'time': 0}\n",
            "{'type': 'program_change', 'time': 0, 'program': 4, 'channel': 0}\n",
            "{'type': 'note_on', 'time': 1170, 'note': 64, 'velocity': 104, 'channel': 0}\n",
            "{'type': 'note_on', 'time': 223, 'note': 62, 'velocity': 91, 'channel': 0}\n",
            "{'type': 'note_off', 'time': 22, 'note': 64, 'velocity': 0, 'channel': 0}\n",
            "{'type': 'note_off', 'time': 123, 'note': 62, 'velocity': 0, 'channel': 0}\n",
            "{'type': 'note_on', 'time': 56, 'note': 60, 'velocity': 98, 'channel': 0}\n",
            "{'type': 'note_off', 'time': 279, 'note': 60, 'velocity': 0, 'channel': 0}\n",
            "{'type': 'note_on', 'time': 11, 'note': 62, 'velocity': 104, 'channel': 0}\n",
            "{'type': 'note_on', 'time': 179, 'note': 62, 'velocity': 99, 'channel': 0}\n"
          ]
        }
      ]
    },
    {
      "cell_type": "code",
      "execution_count": 38,
      "id": "03f9db46",
      "metadata": {
        "colab": {
          "base_uri": "https://localhost:8080/"
        },
        "id": "03f9db46",
        "outputId": "747d82d5-6907-497f-afec-697020a3e9d9",
        "scrolled": true
      },
      "outputs": [
        {
          "output_type": "stream",
          "name": "stdout",
          "text": [
            "/content/muzic/getmusic\n",
            "Global seed set to 0\n",
            "<class 'getmusic.modeling.models.dfm.DFM'>\n",
            "<class 'getmusic.modeling.roformer.diffusion_roformer.DiffusionRFM'>\n",
            "<class 'getmusic.modeling.roformer.roformer_utils.DiffusionRoformerModel'>\n",
            "Load dictionary: 11879 tokens.\n",
            "<class 'getmusic.engine.clip_grad_norm.ClipGradNorm'>\n",
            "Get lr 3e-06 from base lr 3e-06 with none\n",
            "<class 'torch.optim.adamw.AdamW'>\n",
            "<class 'getmusic.engine.lr_scheduler.LinearDecayLRWithWarmup'>\n",
            "{'overall': {'trainable': '86.49M', 'non_trainable': '96.0K', 'total': '86.59M'}, 'rfm': {'trainable': '86.49M', 'non_trainable': '96.0K', 'total': '86.59M'}}\n",
            "self.device  0\n",
            "inference_cache: global rank 0: prepare solver done!\n",
            "Resume from /content/checkpoint.pth\n",
            "/content/01_input/basic_pitch_transcription.mid\n",
            "skip?y\n",
            "/content/01_input/new_basic_pitch_transcription.mid\n",
            "skip?n\n",
            "use ema parameters\n",
            "100% 100/100 [01:29<00:00,  1.11it/s]\n",
            "sampling, the song has 1035 time units\n",
            "/content/01_input/worldend.mid\n",
            "skip?y\n"
          ]
        }
      ],
      "source": [
        "#@title トラックの生成\n",
        "%cd /content/muzic/getmusic\n",
        "\n",
        "!python /content/muzic/getmusic/track_generation.py \\\n",
        "--load_path /content/checkpoint.pth \\\n",
        "--file_path /content/01_input \\\n",
        "--output_midi /content/02_output_midi \\\n",
        "--select_condition_tracks p \\\n",
        "--select_content_tracks bcdgps"
      ]
    },
    {
      "cell_type": "code",
      "execution_count": null,
      "id": "dcc59d20",
      "metadata": {
        "id": "dcc59d20"
      },
      "outputs": [],
      "source": [
        "#@title 高度な操作\n",
        "%cd /content/muzic/getmusic\n",
        "\n",
        "!python /content/muzic/getmusic/position_generation.py \\\n",
        "--load_path /content/checkpoint.pth \\\n",
        "--file_path /content/01_input\n",
        "\n",
        "#--file_path /content/01_input\n",
        "#--file_path /content/muzic/getmusic/example_data/inference\n",
        "\n",
        "#Input positions you want to condition on: 4,0,\n",
        "#Input positions you want to empty: 0,0,;6,0,"
      ]
    },
    {
      "cell_type": "code",
      "execution_count": 8,
      "id": "PLV0URKHwcNc",
      "metadata": {
        "colab": {
          "base_uri": "https://localhost:8080/"
        },
        "id": "PLV0URKHwcNc",
        "outputId": "b9382f2f-3408-48ac-c4b1-4ae5ccd03e72"
      },
      "outputs": [
        {
          "output_type": "stream",
          "name": "stdout",
          "text": [
            "/content/02_output_midi/p2bcdgps-世界が終わるまでは_half.mid\n"
          ]
        },
        {
          "output_type": "display_data",
          "data": {
            "text/plain": [
              "<IPython.core.display.HTML object>"
            ],
            "text/html": [
              "<div id=\"id_1\"> </div>"
            ]
          },
          "metadata": {}
        },
        {
          "output_type": "display_data",
          "data": {
            "application/javascript": [
              "(function(root) {\n",
              "  function now() {\n",
              "    return new Date();\n",
              "  }\n",
              "\n",
              "  const force = true;\n",
              "\n",
              "  if (typeof root._bokeh_onload_callbacks === \"undefined\" || force === true) {\n",
              "    root._bokeh_onload_callbacks = [];\n",
              "    root._bokeh_is_loading = undefined;\n",
              "  }\n",
              "\n",
              "const JS_MIME_TYPE = 'application/javascript';\n",
              "  const HTML_MIME_TYPE = 'text/html';\n",
              "  const EXEC_MIME_TYPE = 'application/vnd.bokehjs_exec.v0+json';\n",
              "  const CLASS_NAME = 'output_bokeh rendered_html';\n",
              "\n",
              "  /**\n",
              "   * Render data to the DOM node\n",
              "   */\n",
              "  function render(props, node) {\n",
              "    const script = document.createElement(\"script\");\n",
              "    node.appendChild(script);\n",
              "  }\n",
              "\n",
              "  /**\n",
              "   * Handle when an output is cleared or removed\n",
              "   */\n",
              "  function handleClearOutput(event, handle) {\n",
              "    const cell = handle.cell;\n",
              "\n",
              "    const id = cell.output_area._bokeh_element_id;\n",
              "    const server_id = cell.output_area._bokeh_server_id;\n",
              "    // Clean up Bokeh references\n",
              "    if (id != null && id in Bokeh.index) {\n",
              "      Bokeh.index[id].model.document.clear();\n",
              "      delete Bokeh.index[id];\n",
              "    }\n",
              "\n",
              "    if (server_id !== undefined) {\n",
              "      // Clean up Bokeh references\n",
              "      const cmd_clean = \"from bokeh.io.state import curstate; print(curstate().uuid_to_server['\" + server_id + \"'].get_sessions()[0].document.roots[0]._id)\";\n",
              "      cell.notebook.kernel.execute(cmd_clean, {\n",
              "        iopub: {\n",
              "          output: function(msg) {\n",
              "            const id = msg.content.text.trim();\n",
              "            if (id in Bokeh.index) {\n",
              "              Bokeh.index[id].model.document.clear();\n",
              "              delete Bokeh.index[id];\n",
              "            }\n",
              "          }\n",
              "        }\n",
              "      });\n",
              "      // Destroy server and session\n",
              "      const cmd_destroy = \"import bokeh.io.notebook as ion; ion.destroy_server('\" + server_id + \"')\";\n",
              "      cell.notebook.kernel.execute(cmd_destroy);\n",
              "    }\n",
              "  }\n",
              "\n",
              "  /**\n",
              "   * Handle when a new output is added\n",
              "   */\n",
              "  function handleAddOutput(event, handle) {\n",
              "    const output_area = handle.output_area;\n",
              "    const output = handle.output;\n",
              "\n",
              "    // limit handleAddOutput to display_data with EXEC_MIME_TYPE content only\n",
              "    if ((output.output_type != \"display_data\") || (!Object.prototype.hasOwnProperty.call(output.data, EXEC_MIME_TYPE))) {\n",
              "      return\n",
              "    }\n",
              "\n",
              "    const toinsert = output_area.element.find(\".\" + CLASS_NAME.split(' ')[0]);\n",
              "\n",
              "    if (output.metadata[EXEC_MIME_TYPE][\"id\"] !== undefined) {\n",
              "      toinsert[toinsert.length - 1].firstChild.textContent = output.data[JS_MIME_TYPE];\n",
              "      // store reference to embed id on output_area\n",
              "      output_area._bokeh_element_id = output.metadata[EXEC_MIME_TYPE][\"id\"];\n",
              "    }\n",
              "    if (output.metadata[EXEC_MIME_TYPE][\"server_id\"] !== undefined) {\n",
              "      const bk_div = document.createElement(\"div\");\n",
              "      bk_div.innerHTML = output.data[HTML_MIME_TYPE];\n",
              "      const script_attrs = bk_div.children[0].attributes;\n",
              "      for (let i = 0; i < script_attrs.length; i++) {\n",
              "        toinsert[toinsert.length - 1].firstChild.setAttribute(script_attrs[i].name, script_attrs[i].value);\n",
              "        toinsert[toinsert.length - 1].firstChild.textContent = bk_div.children[0].textContent\n",
              "      }\n",
              "      // store reference to server id on output_area\n",
              "      output_area._bokeh_server_id = output.metadata[EXEC_MIME_TYPE][\"server_id\"];\n",
              "    }\n",
              "  }\n",
              "\n",
              "  function register_renderer(events, OutputArea) {\n",
              "\n",
              "    function append_mime(data, metadata, element) {\n",
              "      // create a DOM node to render to\n",
              "      const toinsert = this.create_output_subarea(\n",
              "        metadata,\n",
              "        CLASS_NAME,\n",
              "        EXEC_MIME_TYPE\n",
              "      );\n",
              "      this.keyboard_manager.register_events(toinsert);\n",
              "      // Render to node\n",
              "      const props = {data: data, metadata: metadata[EXEC_MIME_TYPE]};\n",
              "      render(props, toinsert[toinsert.length - 1]);\n",
              "      element.append(toinsert);\n",
              "      return toinsert\n",
              "    }\n",
              "\n",
              "    /* Handle when an output is cleared or removed */\n",
              "    events.on('clear_output.CodeCell', handleClearOutput);\n",
              "    events.on('delete.Cell', handleClearOutput);\n",
              "\n",
              "    /* Handle when a new output is added */\n",
              "    events.on('output_added.OutputArea', handleAddOutput);\n",
              "\n",
              "    /**\n",
              "     * Register the mime type and append_mime function with output_area\n",
              "     */\n",
              "    OutputArea.prototype.register_mime_type(EXEC_MIME_TYPE, append_mime, {\n",
              "      /* Is output safe? */\n",
              "      safe: true,\n",
              "      /* Index of renderer in `output_area.display_order` */\n",
              "      index: 0\n",
              "    });\n",
              "  }\n",
              "\n",
              "  // register the mime type if in Jupyter Notebook environment and previously unregistered\n",
              "  if (root.Jupyter !== undefined) {\n",
              "    const events = require('base/js/events');\n",
              "    const OutputArea = require('notebook/js/outputarea').OutputArea;\n",
              "\n",
              "    if (OutputArea.prototype.mime_types().indexOf(EXEC_MIME_TYPE) == -1) {\n",
              "      register_renderer(events, OutputArea);\n",
              "    }\n",
              "  }\n",
              "  if (typeof (root._bokeh_timeout) === \"undefined\" || force === true) {\n",
              "    root._bokeh_timeout = Date.now() + 5000;\n",
              "    root._bokeh_failed_load = false;\n",
              "  }\n",
              "\n",
              "  const NB_LOAD_WARNING = {'data': {'text/html':\n",
              "     \"<div style='background-color: #fdd'>\\n\"+\n",
              "     \"<p>\\n\"+\n",
              "     \"BokehJS does not appear to have successfully loaded. If loading BokehJS from CDN, this \\n\"+\n",
              "     \"may be due to a slow or bad network connection. Possible fixes:\\n\"+\n",
              "     \"</p>\\n\"+\n",
              "     \"<ul>\\n\"+\n",
              "     \"<li>re-rerun `output_notebook()` to attempt to load from CDN again, or</li>\\n\"+\n",
              "     \"<li>use INLINE resources instead, as so:</li>\\n\"+\n",
              "     \"</ul>\\n\"+\n",
              "     \"<code>\\n\"+\n",
              "     \"from bokeh.resources import INLINE\\n\"+\n",
              "     \"output_notebook(resources=INLINE)\\n\"+\n",
              "     \"</code>\\n\"+\n",
              "     \"</div>\"}};\n",
              "\n",
              "  function display_loaded() {\n",
              "    const el = document.getElementById(null);\n",
              "    if (el != null) {\n",
              "      el.textContent = \"BokehJS is loading...\";\n",
              "    }\n",
              "    if (root.Bokeh !== undefined) {\n",
              "      if (el != null) {\n",
              "        el.textContent = \"BokehJS \" + root.Bokeh.version + \" successfully loaded.\";\n",
              "      }\n",
              "    } else if (Date.now() < root._bokeh_timeout) {\n",
              "      setTimeout(display_loaded, 100)\n",
              "    }\n",
              "  }\n",
              "\n",
              "  function run_callbacks() {\n",
              "    try {\n",
              "      root._bokeh_onload_callbacks.forEach(function(callback) {\n",
              "        if (callback != null)\n",
              "          callback();\n",
              "      });\n",
              "    } finally {\n",
              "      delete root._bokeh_onload_callbacks\n",
              "    }\n",
              "    console.debug(\"Bokeh: all callbacks have finished\");\n",
              "  }\n",
              "\n",
              "  function load_libs(css_urls, js_urls, callback) {\n",
              "    if (css_urls == null) css_urls = [];\n",
              "    if (js_urls == null) js_urls = [];\n",
              "\n",
              "    root._bokeh_onload_callbacks.push(callback);\n",
              "    if (root._bokeh_is_loading > 0) {\n",
              "      console.debug(\"Bokeh: BokehJS is being loaded, scheduling callback at\", now());\n",
              "      return null;\n",
              "    }\n",
              "    if (js_urls == null || js_urls.length === 0) {\n",
              "      run_callbacks();\n",
              "      return null;\n",
              "    }\n",
              "    console.debug(\"Bokeh: BokehJS not loaded, scheduling load and callback at\", now());\n",
              "    root._bokeh_is_loading = css_urls.length + js_urls.length;\n",
              "\n",
              "    function on_load() {\n",
              "      root._bokeh_is_loading--;\n",
              "      if (root._bokeh_is_loading === 0) {\n",
              "        console.debug(\"Bokeh: all BokehJS libraries/stylesheets loaded\");\n",
              "        run_callbacks()\n",
              "      }\n",
              "    }\n",
              "\n",
              "    function on_error(url) {\n",
              "      console.error(\"failed to load \" + url);\n",
              "    }\n",
              "\n",
              "    for (let i = 0; i < css_urls.length; i++) {\n",
              "      const url = css_urls[i];\n",
              "      const element = document.createElement(\"link\");\n",
              "      element.onload = on_load;\n",
              "      element.onerror = on_error.bind(null, url);\n",
              "      element.rel = \"stylesheet\";\n",
              "      element.type = \"text/css\";\n",
              "      element.href = url;\n",
              "      console.debug(\"Bokeh: injecting link tag for BokehJS stylesheet: \", url);\n",
              "      document.body.appendChild(element);\n",
              "    }\n",
              "\n",
              "    for (let i = 0; i < js_urls.length; i++) {\n",
              "      const url = js_urls[i];\n",
              "      const element = document.createElement('script');\n",
              "      element.onload = on_load;\n",
              "      element.onerror = on_error.bind(null, url);\n",
              "      element.async = false;\n",
              "      element.src = url;\n",
              "      console.debug(\"Bokeh: injecting script tag for BokehJS library: \", url);\n",
              "      document.head.appendChild(element);\n",
              "    }\n",
              "  };\n",
              "\n",
              "  function inject_raw_css(css) {\n",
              "    const element = document.createElement(\"style\");\n",
              "    element.appendChild(document.createTextNode(css));\n",
              "    document.body.appendChild(element);\n",
              "  }\n",
              "\n",
              "  const js_urls = [\"https://cdn.bokeh.org/bokeh/release/bokeh-2.4.3.min.js\", \"https://cdn.bokeh.org/bokeh/release/bokeh-gl-2.4.3.min.js\", \"https://cdn.bokeh.org/bokeh/release/bokeh-widgets-2.4.3.min.js\", \"https://cdn.bokeh.org/bokeh/release/bokeh-tables-2.4.3.min.js\", \"https://cdn.bokeh.org/bokeh/release/bokeh-mathjax-2.4.3.min.js\"];\n",
              "  const css_urls = [];\n",
              "\n",
              "  const inline_js = [    function(Bokeh) {\n",
              "      Bokeh.set_log_level(\"info\");\n",
              "    },\n",
              "function(Bokeh) {\n",
              "    }\n",
              "  ];\n",
              "\n",
              "  function run_inline_js() {\n",
              "    if (root.Bokeh !== undefined || force === true) {\n",
              "          for (let i = 0; i < inline_js.length; i++) {\n",
              "      inline_js[i].call(root, root.Bokeh);\n",
              "    }\n",
              "} else if (Date.now() < root._bokeh_timeout) {\n",
              "      setTimeout(run_inline_js, 100);\n",
              "    } else if (!root._bokeh_failed_load) {\n",
              "      console.log(\"Bokeh: BokehJS failed to load within specified timeout.\");\n",
              "      root._bokeh_failed_load = true;\n",
              "    } else if (force !== true) {\n",
              "      const cell = $(document.getElementById(null)).parents('.cell').data().cell;\n",
              "      cell.output_area.append_execute_result(NB_LOAD_WARNING)\n",
              "    }\n",
              "  }\n",
              "\n",
              "  if (root._bokeh_is_loading === 0) {\n",
              "    console.debug(\"Bokeh: BokehJS loaded, going straight to plotting\");\n",
              "    run_inline_js();\n",
              "  } else {\n",
              "    load_libs(css_urls, js_urls, function() {\n",
              "      console.debug(\"Bokeh: BokehJS plotting callback run at\", now());\n",
              "      run_inline_js();\n",
              "    });\n",
              "  }\n",
              "}(window));"
            ],
            "application/vnd.bokehjs_load.v0+json": "(function(root) {\n  function now() {\n    return new Date();\n  }\n\n  const force = true;\n\n  if (typeof root._bokeh_onload_callbacks === \"undefined\" || force === true) {\n    root._bokeh_onload_callbacks = [];\n    root._bokeh_is_loading = undefined;\n  }\n\n\n  if (typeof (root._bokeh_timeout) === \"undefined\" || force === true) {\n    root._bokeh_timeout = Date.now() + 5000;\n    root._bokeh_failed_load = false;\n  }\n\n  const NB_LOAD_WARNING = {'data': {'text/html':\n     \"<div style='background-color: #fdd'>\\n\"+\n     \"<p>\\n\"+\n     \"BokehJS does not appear to have successfully loaded. If loading BokehJS from CDN, this \\n\"+\n     \"may be due to a slow or bad network connection. Possible fixes:\\n\"+\n     \"</p>\\n\"+\n     \"<ul>\\n\"+\n     \"<li>re-rerun `output_notebook()` to attempt to load from CDN again, or</li>\\n\"+\n     \"<li>use INLINE resources instead, as so:</li>\\n\"+\n     \"</ul>\\n\"+\n     \"<code>\\n\"+\n     \"from bokeh.resources import INLINE\\n\"+\n     \"output_notebook(resources=INLINE)\\n\"+\n     \"</code>\\n\"+\n     \"</div>\"}};\n\n  function display_loaded() {\n    const el = document.getElementById(null);\n    if (el != null) {\n      el.textContent = \"BokehJS is loading...\";\n    }\n    if (root.Bokeh !== undefined) {\n      if (el != null) {\n        el.textContent = \"BokehJS \" + root.Bokeh.version + \" successfully loaded.\";\n      }\n    } else if (Date.now() < root._bokeh_timeout) {\n      setTimeout(display_loaded, 100)\n    }\n  }\n\n  function run_callbacks() {\n    try {\n      root._bokeh_onload_callbacks.forEach(function(callback) {\n        if (callback != null)\n          callback();\n      });\n    } finally {\n      delete root._bokeh_onload_callbacks\n    }\n    console.debug(\"Bokeh: all callbacks have finished\");\n  }\n\n  function load_libs(css_urls, js_urls, callback) {\n    if (css_urls == null) css_urls = [];\n    if (js_urls == null) js_urls = [];\n\n    root._bokeh_onload_callbacks.push(callback);\n    if (root._bokeh_is_loading > 0) {\n      console.debug(\"Bokeh: BokehJS is being loaded, scheduling callback at\", now());\n      return null;\n    }\n    if (js_urls == null || js_urls.length === 0) {\n      run_callbacks();\n      return null;\n    }\n    console.debug(\"Bokeh: BokehJS not loaded, scheduling load and callback at\", now());\n    root._bokeh_is_loading = css_urls.length + js_urls.length;\n\n    function on_load() {\n      root._bokeh_is_loading--;\n      if (root._bokeh_is_loading === 0) {\n        console.debug(\"Bokeh: all BokehJS libraries/stylesheets loaded\");\n        run_callbacks()\n      }\n    }\n\n    function on_error(url) {\n      console.error(\"failed to load \" + url);\n    }\n\n    for (let i = 0; i < css_urls.length; i++) {\n      const url = css_urls[i];\n      const element = document.createElement(\"link\");\n      element.onload = on_load;\n      element.onerror = on_error.bind(null, url);\n      element.rel = \"stylesheet\";\n      element.type = \"text/css\";\n      element.href = url;\n      console.debug(\"Bokeh: injecting link tag for BokehJS stylesheet: \", url);\n      document.body.appendChild(element);\n    }\n\n    for (let i = 0; i < js_urls.length; i++) {\n      const url = js_urls[i];\n      const element = document.createElement('script');\n      element.onload = on_load;\n      element.onerror = on_error.bind(null, url);\n      element.async = false;\n      element.src = url;\n      console.debug(\"Bokeh: injecting script tag for BokehJS library: \", url);\n      document.head.appendChild(element);\n    }\n  };\n\n  function inject_raw_css(css) {\n    const element = document.createElement(\"style\");\n    element.appendChild(document.createTextNode(css));\n    document.body.appendChild(element);\n  }\n\n  const js_urls = [\"https://cdn.bokeh.org/bokeh/release/bokeh-2.4.3.min.js\", \"https://cdn.bokeh.org/bokeh/release/bokeh-gl-2.4.3.min.js\", \"https://cdn.bokeh.org/bokeh/release/bokeh-widgets-2.4.3.min.js\", \"https://cdn.bokeh.org/bokeh/release/bokeh-tables-2.4.3.min.js\", \"https://cdn.bokeh.org/bokeh/release/bokeh-mathjax-2.4.3.min.js\"];\n  const css_urls = [];\n\n  const inline_js = [    function(Bokeh) {\n      Bokeh.set_log_level(\"info\");\n    },\nfunction(Bokeh) {\n    }\n  ];\n\n  function run_inline_js() {\n    if (root.Bokeh !== undefined || force === true) {\n          for (let i = 0; i < inline_js.length; i++) {\n      inline_js[i].call(root, root.Bokeh);\n    }\n} else if (Date.now() < root._bokeh_timeout) {\n      setTimeout(run_inline_js, 100);\n    } else if (!root._bokeh_failed_load) {\n      console.log(\"Bokeh: BokehJS failed to load within specified timeout.\");\n      root._bokeh_failed_load = true;\n    } else if (force !== true) {\n      const cell = $(document.getElementById(null)).parents('.cell').data().cell;\n      cell.output_area.append_execute_result(NB_LOAD_WARNING)\n    }\n  }\n\n  if (root._bokeh_is_loading === 0) {\n    console.debug(\"Bokeh: BokehJS loaded, going straight to plotting\");\n    run_inline_js();\n  } else {\n    load_libs(css_urls, js_urls, function() {\n      console.debug(\"Bokeh: BokehJS plotting callback run at\", now());\n      run_inline_js();\n    });\n  }\n}(window));"
          },
          "metadata": {}
        },
        {
          "output_type": "display_data",
          "data": {
            "text/html": [
              "\n",
              "  <div class=\"bk-root\" id=\"a11ab996-3707-4037-bd6d-c9d4d2511c48\" data-root-id=\"1002\"></div>\n"
            ]
          },
          "metadata": {}
        },
        {
          "output_type": "display_data",
          "data": {
            "application/javascript": [
              "(function(root) {\n",
              "  function embed_document(root) {\n",
              "  const docs_json = {\"7cb7f0a2-0ec4-42f4-aa38-3a7d39fb9b07\":{\"defs\":[],\"roots\":{\"references\":[{\"attributes\":{\"below\":[{\"id\":\"1011\"}],\"center\":[{\"id\":\"1014\"},{\"id\":\"1018\"}],\"height\":200,\"left\":[{\"id\":\"1015\"}],\"renderers\":[{\"id\":\"1039\"},{\"id\":\"1046\"},{\"id\":\"1053\"},{\"id\":\"1060\"},{\"id\":\"1067\"}],\"title\":{\"id\":\"1069\"},\"toolbar\":{\"id\":\"1025\"},\"width\":500,\"x_range\":{\"id\":\"1003\"},\"x_scale\":{\"id\":\"1007\"},\"y_range\":{\"id\":\"1005\"},\"y_scale\":{\"id\":\"1009\"}},\"id\":\"1002\",\"subtype\":\"Figure\",\"type\":\"Plot\"},{\"attributes\":{},\"id\":\"1085\",\"type\":\"Selection\"},{\"attributes\":{},\"id\":\"1007\",\"type\":\"LinearScale\"},{\"attributes\":{\"source\":{\"id\":\"1034\"}},\"id\":\"1040\",\"type\":\"CDSView\"},{\"attributes\":{\"bottom\":{\"field\":\"bottom\"},\"fill_alpha\":{\"value\":0.2},\"fill_color\":{\"value\":\"#d53e4f\"},\"hatch_alpha\":{\"value\":0.2},\"left\":{\"field\":\"start_time\"},\"line_alpha\":{\"value\":0.2},\"right\":{\"field\":\"end_time\"},\"top\":{\"field\":\"top\"}},\"id\":\"1038\",\"type\":\"Quad\"},{\"attributes\":{\"axis_label\":\"pitch (MIDI)\",\"coordinates\":null,\"formatter\":{\"id\":\"1071\"},\"group\":null,\"major_label_policy\":{\"id\":\"1072\"},\"ticker\":{\"id\":\"1031\"}},\"id\":\"1015\",\"type\":\"LinearAxis\"},{\"attributes\":{\"bottom\":{\"field\":\"bottom\"},\"fill_alpha\":{\"value\":0.2},\"fill_color\":{\"value\":\"#66c2a5\"},\"hatch_alpha\":{\"value\":0.2},\"left\":{\"field\":\"start_time\"},\"line_alpha\":{\"value\":0.2},\"right\":{\"field\":\"end_time\"},\"top\":{\"field\":\"top\"}},\"id\":\"1059\",\"type\":\"Quad\"},{\"attributes\":{\"bottom\":{\"field\":\"bottom\"},\"fill_alpha\":{\"value\":0.2},\"fill_color\":{\"value\":\"#fdae61\"},\"hatch_alpha\":{\"value\":0.2},\"left\":{\"field\":\"start_time\"},\"line_alpha\":{\"value\":0.2},\"right\":{\"field\":\"end_time\"},\"top\":{\"field\":\"top\"}},\"id\":\"1066\",\"type\":\"Quad\"},{\"attributes\":{},\"id\":\"1003\",\"type\":\"DataRange1d\"},{\"attributes\":{\"coordinates\":null,\"data_source\":{\"id\":\"1034\"},\"glyph\":{\"id\":\"1036\"},\"group\":null,\"hover_glyph\":null,\"muted_glyph\":{\"id\":\"1038\"},\"nonselection_glyph\":{\"id\":\"1037\"},\"view\":{\"id\":\"1040\"}},\"id\":\"1039\",\"type\":\"GlyphRenderer\"},{\"attributes\":{\"coordinates\":null,\"group\":null},\"id\":\"1069\",\"type\":\"Title\"},{\"attributes\":{\"axis_label\":\"time (sec)\",\"coordinates\":null,\"formatter\":{\"id\":\"1074\"},\"group\":null,\"major_label_policy\":{\"id\":\"1075\"},\"ticker\":{\"id\":\"1012\"}},\"id\":\"1011\",\"type\":\"LinearAxis\"},{\"attributes\":{\"coordinates\":null,\"data_source\":{\"id\":\"1062\"},\"glyph\":{\"id\":\"1064\"},\"group\":null,\"hover_glyph\":null,\"muted_glyph\":{\"id\":\"1066\"},\"nonselection_glyph\":{\"id\":\"1065\"},\"view\":{\"id\":\"1068\"}},\"id\":\"1067\",\"type\":\"GlyphRenderer\"},{\"attributes\":{\"interval\":12},\"id\":\"1031\",\"type\":\"SingleIntervalTicker\"},{\"attributes\":{\"bottom\":{\"field\":\"bottom\"},\"fill_alpha\":{\"value\":0.1},\"fill_color\":{\"value\":\"#d53e4f\"},\"hatch_alpha\":{\"value\":0.1},\"left\":{\"field\":\"start_time\"},\"line_alpha\":{\"value\":0.1},\"right\":{\"field\":\"end_time\"},\"top\":{\"field\":\"top\"}},\"id\":\"1037\",\"type\":\"Quad\"},{\"attributes\":{\"bottom\":{\"field\":\"bottom\"},\"fill_alpha\":{\"value\":0.1},\"fill_color\":{\"value\":\"#fdae61\"},\"hatch_alpha\":{\"value\":0.1},\"left\":{\"field\":\"start_time\"},\"line_alpha\":{\"value\":0.1},\"right\":{\"field\":\"end_time\"},\"top\":{\"field\":\"top\"}},\"id\":\"1065\",\"type\":\"Quad\"},{\"attributes\":{},\"id\":\"1005\",\"type\":\"DataRange1d\"},{\"attributes\":{\"data\":{\"bottom\":{\"__ndarray__\":\"zczMzMxMSkDNzMzMzExKQM3MzMzMTElAzczMzMxMSkDNzMzMzMxNQM3MzMzMTExAZmZmZmbmUkBmZmZmZiZUQGZmZmZmJlVAzczMzMxMRUDNzMzMzExHQM3MzMzMTEVAzczMzMxMRUDNzMzMzExFQM3MzMzMTEVAzczMzMxMRUDNzMzMzExNQM3MzMzMzElAzczMzMxMRUDNzMzMzMxJQM3MzMzMTEVAzczMzMzMR0DNzMzMzMxNQM3MzMzMzEdAzczMzMzMTUA=\",\"dtype\":\"float64\",\"order\":\"little\",\"shape\":[25]},\"duration\":{\"__ndarray__\":\"ACfbwB2ozD8AJ9vAHajcPwAn28AdqMw/ACfbwB2ozD8AJ9vAHajcPwAn28AdqMw/ACfbwB2o7D8AJ9vAHajsPwAn28AdqOw/ACfbwB2o7D8gJ9vAHajsPwAn28AdqOw/ACfbwB2o3D8AJ9vAHajcPwAn28AdqNw/ACfbwB2o3D8gJ9vAHajsPwAn28AdqOw/QF2kUBZ+9T8AJ9vAHajsP0BdpFAWfvU/ACfbwB2o7D8AJ9vAHajsPwAn28AdqOw/ACfbwB2o7D8=\",\"dtype\":\"float64\",\"order\":\"little\",\"shape\":[25]},\"end_time\":{\"__ndarray__\":\"kBMmjGa3NUAsgCkDByo2QHo2qz5XYzZAyOwseqecNkBkWTDxRw83QLIPsiyYSDdA6ui4GtktOEDq6Lga2S04QOrouBrZLThAIsK/CBoTOUBbm8b2Wvg5QJN0zeSb3TpAL+HQWzxQO0DLTdTS3MI7QGe610l9NTxAAyfbwB2oPEBA/Pz34FdAQCofgqrRA0FAFEIHXcKvQUDq6Lga2S1IQNQLPs3J2UhAq7LviuBXT0Crsu+K4FdPQMaLhSFydlFAxouFIXJ2UUA=\",\"dtype\":\"float64\",\"order\":\"little\",\"shape\":[25]},\"fill_alpha\":{\"__ndarray__\":\"AAAAAAAA2T8AAAAAAADZPwAAAAAAANk/AAAAAAAA2T8AAAAAAADZPwAAAAAAANk/AAAAAAAA2T8AAAAAAADZPwAAAAAAANk/AAAAAAAA2T8AAAAAAADZPwAAAAAAANk/AAAAAAAA2T8AAAAAAADZPwAAAAAAANk/AAAAAAAA2T8AAAAAAADZPwAAAAAAANk/AAAAAAAA2T8AAAAAAADZPwAAAAAAANk/AAAAAAAA2T8AAAAAAADZPwAAAAAAANk/AAAAAAAA2T8=\",\"dtype\":\"float64\",\"order\":\"little\",\"shape\":[25]},\"index\":[694,695,696,697,698,699,700,701,702,703,704,705,706,707,708,709,710,711,712,713,714,715,716,717,718],\"instrument\":[3,3,3,3,3,3,3,3,3,3,3,3,3,3,3,3,3,3,3,3,3,3,3,3,3],\"pitch\":[53,53,51,53,60,57,76,81,85,43,47,43,43,43,43,43,59,52,43,52,43,48,60,48,60],\"program\":[48,48,48,48,48,48,48,48,48,48,48,48,48,48,48,48,48,48,48,48,48,48,48,48,48],\"start_time\":{\"__ndarray__\":\"Ql2kUBZ+NUCQEyaMZrc1QCyAKQMHKjZAejarPldjNkDI7Cx6p5w2QGRZMPFHDzdAsg+yLJhIN0CyD7IsmEg3QLIPsiyYSDdA6ui4GtktOEAiwr8IGhM5QFubxvZa+DlAk3TN5JvdOkAv4dBbPFA7QMtN1NLcwjtAZ7rXSX01PEBHH/MBgco/QI6yfjMxkUBAKh+CqtEDQUBOfLWjOLtHQOrouBrZLUhAD0bsE0DlTkAPRuwTQOVOQHjVA+YhPVFAeNUD5iE9UUA=\",\"dtype\":\"float64\",\"order\":\"little\",\"shape\":[25]},\"top\":{\"__ndarray__\":\"MzMzMzOzSkAzMzMzM7NKQDMzMzMzs0lAMzMzMzOzSkAzMzMzMzNOQDMzMzMzs0xAmpmZmZkZU0CamZmZmVlUQJqZmZmZWVVAMzMzMzOzRUAzMzMzM7NHQDMzMzMzs0VAMzMzMzOzRUAzMzMzM7NFQDMzMzMzs0VAMzMzMzOzRUAzMzMzM7NNQDMzMzMzM0pAMzMzMzOzRUAzMzMzMzNKQDMzMzMzs0VAMzMzMzMzSEAzMzMzMzNOQDMzMzMzM0hAMzMzMzMzTkA=\",\"dtype\":\"float64\",\"order\":\"little\",\"shape\":[25]},\"velocity\":[50,50,50,50,50,50,50,50,50,50,50,50,50,50,50,50,50,50,50,50,50,50,50,50,50]},\"selected\":{\"id\":\"1083\"},\"selection_policy\":{\"id\":\"1082\"}},\"id\":\"1055\",\"type\":\"ColumnDataSource\"},{\"attributes\":{\"source\":{\"id\":\"1062\"}},\"id\":\"1068\",\"type\":\"CDSView\"},{\"attributes\":{\"bottom\":{\"field\":\"bottom\"},\"fill_alpha\":{\"field\":\"fill_alpha\"},\"fill_color\":{\"value\":\"#fdae61\"},\"left\":{\"field\":\"start_time\"},\"right\":{\"field\":\"end_time\"},\"top\":{\"field\":\"top\"}},\"id\":\"1064\",\"type\":\"Quad\"},{\"attributes\":{\"bottom\":{\"field\":\"bottom\"},\"fill_alpha\":{\"field\":\"fill_alpha\"},\"fill_color\":{\"value\":\"#3288bd\"},\"left\":{\"field\":\"start_time\"},\"right\":{\"field\":\"end_time\"},\"top\":{\"field\":\"top\"}},\"id\":\"1043\",\"type\":\"Quad\"},{\"attributes\":{},\"id\":\"1071\",\"type\":\"BasicTickFormatter\"},{\"attributes\":{},\"id\":\"1078\",\"type\":\"UnionRenderers\"},{\"attributes\":{\"data\":{\"bottom\":{\"__ndarray__\":\"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\",\"dtype\":\"float64\",\"order\":\"little\",\"shape\":[378]},\"duration\":{\"__ndarray__\":\"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\",\"dtype\":\"float64\",\"order\":\"little\",\"shape\":[378]},\"end_time\":{\"__ndarray__\":\"AyfbwB2o/D8DJ9vAHaj8P0JdpFAWfgVAIsK/CBoTCUAiwr8IGhMJQCLCvwgaEwlAAyfbwB2oDEDSqpZ0lLMTQEJdpFAWfhVAsg+yLJhIF0CyD7IsmEgXQCLCvwgaExlAk3TN5JvdGkCTdM3km90aQAMn28AdqBxAAyfbwB2oHEDyRXu8kB4gQPJFe7yQHiBAYviImBLpIUCa0Y+GU84iQNKqlnSUsyNACoSdYtWYJEAKhJ1i1ZgkQAqEnWLVmCRAsg+yLJhIJ0CyD7IsmEgnQCLCvwgaEylAk3TN5JvdKkAv4dBbPFArQMtN1NLcwitAZ7rXSX01LEADJ9vAHagsQAMn28AdqCxAc9nonJ9yLkBz2eicn3IuQHPZ6Jyfci5Aq7LviuBXL0DyRXu8kB4wQPJFe7yQHjBAKh+CqtEDMUDGi4UhcnYxQMaLhSFydjFAxouFIXJ2MUBi+IiYEukxQNKqlnSUszNACoSdYtWYNEAKhJ1i1Zg0QAqEnWLVmDRACoSdYtWYNECm8KDZdQs1QCyAKQMHKjZAejarPldjNkB6Nqs+V2M2QHo2qz5XYzZAZFkw8UcPN0CyD7IsmEg3QLIPsiyYSDdAsg+yLJhIN0CGVbyReaA4QIZVvJF5oDhAIsK/CBoTOUAiwr8IGhM5QFubxvZa+DlAW5vG9lr4OUBbm8b2Wvg5QFubxvZa+DlA9wfKbftqOkD3B8pt+2o6QC/h0Fs8UDtAy03U0tzCO0BnutdJfTU8QGe610l9NTxAAyfbwB2oPEADJ9vAHag8QDsA4q5ejT1AOwDirl6NPUBz2eicn3I+QHPZ6Jyfcj5Aq7LviuBXP0Crsu+K4Fc/QKuy74rgVz9AQPz89+BXQECOsn4zMZFAQI6yfjMxkUBAKh+CqtEDQUAqH4Kq0QNBQMaLhSFydkFAYviImBLpQUD+ZIwPs1tCQP5kjA+zW0JA/mSMD7NbQkD+ZIwPs1tCQJrRj4ZTzkJAmtGPhlPOQkA2PpP980BDQDY+k/3zQENAbhea6zQmREBuF5rrNCZEQLzNGyeFX0RACoSdYtWYRECm8KDZdQtFQEJdpFAWfkVAQl2kUBZ+RUDeyafHtvBFQN7Jp8e28EVAejarPldjRkB6Nqs+V2NGQBajrrX31UZAFqOutffVRkAAxjNo6IFHQE58taM4u0dATny1ozi7R0BOfLWjOLtHQOrouBrZLUhA6ui4GtktSECGVbyReaBIQIZVvJF5oEhAIsK/CBoTSUC/LsN/uoVJQL8uw3+6hUlAvy7Df7qFSUC/LsN/uoVJQFubxvZa+ElAW5vG9lr4SUD3B8pt+2pKQPcHym37akpARb5LqUukSkCTdM3km91KQJN0zeSb3UpAL+HQWzxQS0Av4dBbPFBLQC/h0Fs8UEtAL+HQWzxQS0Av4dBbPFBLQMtN1NLcwktAAyfbwB2oTEADJ9vAHahMQAMn28AdqExAAyfbwB2oTEADJ9vAHahMQDsA4q5ejU1AOwDirl6NTUA7AOKuXo1NQNds5SX//01A12zlJf//TUBz2eicn3JOQHPZ6Jyfck5Ac9nonJ9yTkAPRuwTQOVOQA9G7BNA5U5AD0bsE0DlTkAPRuwTQOVOQKuy74rgV09ARx/zAYHKT0BHH/MBgcpPQPJFe7yQHlBA8kV7vJAeUEDyRXu8kB5QQPJFe7yQHlBAjrJ+MzGRUECOsn4zMZFQQLWNP1HZrVBA3GgAb4HKUEDcaABvgcpQQCofgqrRA1FAKh+CqtEDUUAqH4Kq0QNRQCofgqrRA1FAeNUD5iE9UUB41QPmIT1RQHjVA+YhPVFAxouFIXJ2UUAUQgddwq9RQBRCB13Cr1FA/mSMD7NbUkD+ZIwPs1tSQP5kjA+zW1JA/mSMD7NbUkBMGw5LA5VSQEwbDksDlVJAc/bOaKuxUkCa0Y+GU85SQJrRj4ZTzlJAD2PS30skU0A2PpP980BTQDY+k/3zQFNAhPQUOUR6U0CE9BQ5RHpTQIT0FDlEelNAhPQUOUR6U0CE9BQ5RHpTQNKqlnSUs1NA0qqWdJSzU0DSqpZ0lLNTQNKqlnSUs1NAWDofniXSVEBYOh+eJdJUQFg6H54l0lRAfxXgu83uVEB/FeC7ze5UQKbwoNl1C1VApvCg2XULVUDNy2H3HShVQM3LYfcdKFVA9KYiFcZEVUD0piIVxkRVQBuC4zJuYVVAG4LjMm5hVUBCXaRQFn5VQEJdpFAWflVAkBMmjGa3VUCQEyaMZrdVQLfu5qkO1FVAt+7mqQ7UVUAFpWjlXg1WQCyAKQMHKlZALIApAwcqVkAsgCkDBypWQFNb6iCvRlZAejarPldjVkAWo66199VWQGRZMPFHD1dAZFkw8UcPV0BkWTDxRw9XQGRZMPFHD1dAsg+yLJhIV0CyD7IsmEhXQADGM2jogVdAAMYzaOiBV0BOfLWjOLtXQE58taM4u1dAnDI334j0V0A4nzpWKWdYQDifOlYpZ1hAOJ86VilnWEA4nzpWKWdYQIZVvJF5oFhA1As+zcnZWEDUCz7NydlYQPvm/upx9lhAIsK/CBoTWUAiwr8IGhNZQCLCvwgaE1lAvy7Df7qFWUC/LsN/uoVZQL8uw3+6hVlA5gmEnWKiWUDmCYSdYqJZQA3lRLsKv1lADeVEuwq/WUA0wAXZsttZQFubxvZa+FlAW5vG9lr4WUBbm8b2WvhZQPcHym37alpA9wfKbftqWkBFvkupS6RaQEW+S6lLpFpAL+HQWzxQW0Av4dBbPFBbQFa8kXnkbFtAVryReeRsW0BWvJF55GxbQH2XUpeMiVtApHITtTSmW0DLTdTS3MJbQMtN1NLcwltAy03U0tzCW0DLTdTS3MJbQBkEVg4t/FtAGQRWDi38W0BnutdJfTVcQGe610l9NVxAtXBZhc1uXEC1cFmFzW5cQAMn28AdqFxAAyfbwB2oXEBR3Vz8beFcQFHdXPxt4VxAn5PeN74aXUCfk943vhpdQJ+T3je+Gl1A7Ulgcw5UXUDtSWBzDlRdQO1JYHMOVF1AOwDirl6NXUA7AOKuXo1dQNds5SX//11AJSNnYU85XkAlI2dhTzleQCUjZ2FPOV5AJSNnYU85XkBz2eicn3JeQHPZ6Jyfcl5AD0bsE0DlXkAPRuwTQOVeQF38bU+QHl9AXfxtT5AeX0Bd/G1PkB5fQITXLm04O19AIEQy5NitX0BHH/MBgcpfQF7Ymq08EGBA8kV7vJAeYEBA/Pz34FdgQED8/PfgV2BAQPz89+BXYEBn170ViXRgQPpEniTdgmBAjrJ+MzGRYECOsn4zMZFgQCEgX0KFn2BAISBfQoWfYEAhIF9ChZ9gQLWNP1HZrWBAtY0/UdmtYEC1jT9R2a1gQNxoAG+BymBA3GgAb4HKYEDcaABvgcpgQANEwYwp52BAKh+CqtEDYUAqH4Kq0QNhQCofgqrRA2FAxouFIXJ2YUCA1CZObqFhQEoLl1WYqGFAFEIHXcKvYUCnr+drFr5hQKev52sWvmFAzoqoib7aYUBi+IiYEulhQGL4iJgS6WFAYviImBLpYUDXicvxCj9iQNeJy/EKP2JA14nL8Qo/YkDXicvxCj9iQP5kjA+zW2JA/mSMD7NbYkD+ZIwPs1tiQP5kjA+zW2JAJUBNLVt4YkAlQE0tW3hiQCVATS1beGJAJUBNLVt4YkCC5J1D2Y1iQEwbDksDlWJATBsOSwOVYkBMGw5LA5ViQAZkr3f/v2JALT9wlafcYkBUGjGzT/liQOiHEcKjB2NA6IcRwqMHY0Ci0LLunzJjQF0ZVBucXWNAXRlUG5xdY0DwhjQq8GtjQIT0FDlEemNAhPQUOUR6Y0B1BkZeFp5jQNKqlnSUs2NA0qqWdJSzY0DSqpZ0lLNjQFYqqKi65WNAIGEYsOTsY0AgYRiw5OxjQCBhGLDk7GNAbhea6zQmZEBuF5rrNCZkQJXyWgndQmRAlfJaCd1CZEC8zRsnhV9kQHcWvVOBimRAdxa9U4GKZEAKhJ1i1ZhkQAqEnWLVmGRA\",\"dtype\":\"float64\",\"order\":\"little\",\"shape\":[378]},\"fill_alpha\":{\"__ndarray__\":\"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\",\"dtype\":\"float64\",\"order\":\"little\",\"shape\":[378]},\"index\":[0,1,2,3,4,5,6,7,8,9,10,11,12,13,14,15,16,17,18,19,20,21,22,23,24,25,26,27,28,29,30,31,32,33,34,35,36,37,38,39,40,41,42,43,44,45,46,47,48,49,50,51,52,53,54,55,56,57,58,59,60,61,62,63,64,65,66,67,68,69,70,71,72,73,74,75,76,77,78,79,80,81,82,83,84,85,86,87,88,89,90,91,92,93,94,95,96,97,98,99,100,101,102,103,104,105,106,107,108,109,110,111,112,113,114,115,116,117,118,119,120,121,122,123,124,125,126,127,128,129,130,131,132,133,134,135,136,137,138,139,140,141,142,143,144,145,146,147,148,149,150,151,152,153,154,155,156,157,158,159,160,161,162,163,164,165,166,167,168,169,170,171,172,173,174,175,176,177,178,179,180,181,182,183,184,185,186,187,188,189,190,191,192,193,194,195,196,197,198,199,200,201,202,203,204,205,206,207,208,209,210,211,212,213,214,215,216,217,218,219,220,221,222,223,224,225,226,227,228,229,230,231,232,233,234,235,236,237,238,239,240,241,242,243,244,245,246,247,248,249,250,251,252,253,254,255,256,257,258,259,260,261,262,263,264,265,266,267,268,269,270,271,272,273,274,275,276,277,278,279,280,281,282,283,284,285,286,287,288,289,290,291,292,293,294,295,296,297,298,299,300,301,302,303,304,305,306,307,308,309,310,311,312,313,314,315,316,317,318,319,320,321,322,323,324,325,326,327,328,329,330,331,332,333,334,335,336,337,338,339,340,341,342,343,344,345,346,347,348,349,350,351,352,353,354,355,356,357,358,359,360,361,362,363,364,365,366,367,368,369,370,371,372,373,374,375,376,377],\"instrument\":[0,0,0,0,0,0,0,0,0,0,0,0,0,0,0,0,0,0,0,0,0,0,0,0,0,0,0,0,0,0,0,0,0,0,0,0,0,0,0,0,0,0,0,0,0,0,0,0,0,0,0,0,0,0,0,0,0,0,0,0,0,0,0,0,0,0,0,0,0,0,0,0,0,0,0,0,0,0,0,0,0,0,0,0,0,0,0,0,0,0,0,0,0,0,0,0,0,0,0,0,0,0,0,0,0,0,0,0,0,0,0,0,0,0,0,0,0,0,0,0,0,0,0,0,0,0,0,0,0,0,0,0,0,0,0,0,0,0,0,0,0,0,0,0,0,0,0,0,0,0,0,0,0,0,0,0,0,0,0,0,0,0,0,0,0,0,0,0,0,0,0,0,0,0,0,0,0,0,0,0,0,0,0,0,0,0,0,0,0,0,0,0,0,0,0,0,0,0,0,0,0,0,0,0,0,0,0,0,0,0,0,0,0,0,0,0,0,0,0,0,0,0,0,0,0,0,0,0,0,0,0,0,0,0,0,0,0,0,0,0,0,0,0,0,0,0,0,0,0,0,0,0,0,0,0,0,0,0,0,0,0,0,0,0,0,0,0,0,0,0,0,0,0,0,0,0,0,0,0,0,0,0,0,0,0,0,0,0,0,0,0,0,0,0,0,0,0,0,0,0,0,0,0,0,0,0,0,0,0,0,0,0,0,0,0,0,0,0,0,0,0,0,0,0,0,0,0,0,0,0,0,0,0,0,0,0,0,0,0,0,0,0,0,0,0,0,0,0,0,0,0,0,0,0,0,0,0,0,0,0,0,0,0,0,0,0,0,0,0,0,0,0,0,0,0,0,0,0],\"pitch\":[41,69,40,45,64,67,47,67,40,64,67,43,45,67,47,67,40,52,43,62,60,48,64,67,40,52,43,47,64,48,67,51,64,38,50,74,74,41,76,45,47,65,72,48,41,45,60,65,72,50,65,41,53,63,60,45,57,67,50,65,52,67,43,50,64,69,62,67,62,60,52,57,50,55,45,52,57,72,48,71,72,69,40,47,52,67,43,67,41,48,69,69,53,69,45,67,48,55,64,60,55,47,52,45,52,57,72,48,72,71,40,47,69,52,67,43,67,67,41,48,69,69,53,69,45,71,72,50,55,43,50,55,71,74,48,45,52,57,69,71,53,71,71,45,72,50,55,71,41,48,69,72,53,45,69,50,55,71,71,55,71,72,47,74,52,57,72,72,45,52,69,57,48,69,53,69,71,72,36,43,74,52,76,76,50,74,41,69,69,72,72,48,52,74,76,43,50,55,69,77,69,77,69,77,69,77,69,77,69,77,67,76,65,74,36,40,67,76,45,47,67,36,43,48,72,77,81,76,79,52,79,76,52,59,71,79,55,62,76,77,60,65,79,53,77,77,69,72,57,60,76,59,64,76,57,69,53,72,57,77,69,72,76,64,77,62,67,71,74,50,55,69,77,69,77,69,77,67,76,53,65,74,59,67,76,60,64,67,48,55,60,72,77,81,76,79,55,76,79,76,62,65,77,79,60,77,77,69,72,53,57,69,73,79,55,61,79,57,76,77,76,50,74,77,48,74,76,47,71,77,76,44,50,74,45,52,69,72,43,50,59,67,41,48,57,65,74,41,48,76,76,74,72,36,48,64,48,52,70,55,70,70,48,60,70,60,48,63,65,41,53,43,47,50,74,81,43,55],\"program\":[0,0,0,0,0,0,0,0,0,0,0,0,0,0,0,0,0,0,0,0,0,0,0,0,0,0,0,0,0,0,0,0,0,0,0,0,0,0,0,0,0,0,0,0,0,0,0,0,0,0,0,0,0,0,0,0,0,0,0,0,0,0,0,0,0,0,0,0,0,0,0,0,0,0,0,0,0,0,0,0,0,0,0,0,0,0,0,0,0,0,0,0,0,0,0,0,0,0,0,0,0,0,0,0,0,0,0,0,0,0,0,0,0,0,0,0,0,0,0,0,0,0,0,0,0,0,0,0,0,0,0,0,0,0,0,0,0,0,0,0,0,0,0,0,0,0,0,0,0,0,0,0,0,0,0,0,0,0,0,0,0,0,0,0,0,0,0,0,0,0,0,0,0,0,0,0,0,0,0,0,0,0,0,0,0,0,0,0,0,0,0,0,0,0,0,0,0,0,0,0,0,0,0,0,0,0,0,0,0,0,0,0,0,0,0,0,0,0,0,0,0,0,0,0,0,0,0,0,0,0,0,0,0,0,0,0,0,0,0,0,0,0,0,0,0,0,0,0,0,0,0,0,0,0,0,0,0,0,0,0,0,0,0,0,0,0,0,0,0,0,0,0,0,0,0,0,0,0,0,0,0,0,0,0,0,0,0,0,0,0,0,0,0,0,0,0,0,0,0,0,0,0,0,0,0,0,0,0,0,0,0,0,0,0,0,0,0,0,0,0,0,0,0,0,0,0,0,0,0,0,0,0,0,0,0,0,0,0,0,0,0,0,0,0,0,0,0,0,0,0,0,0,0,0,0,0,0,0,0,0,0,0,0,0,0,0,0,0,0,0,0,0,0,0,0,0,0,0],\"start_time\":{\"__ndarray__\":\"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\",\"dtype\":\"float64\",\"order\":\"little\",\"shape\":[378]},\"top\":{\"__ndarray__\":\"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\",\"dtype\":\"float64\",\"order\":\"little\",\"shape\":[378]},\"velocity\":[98,98,98,98,98,98,98,98,98,98,98,98,98,98,98,98,98,98,98,98,98,98,98,98,98,98,98,98,98,98,98,98,98,98,98,98,98,98,98,98,98,98,98,98,98,98,98,98,98,98,98,98,98,98,98,98,98,98,98,98,98,98,98,98,98,98,98,98,98,98,98,98,98,98,98,98,98,98,98,98,98,98,98,98,98,98,98,98,98,98,98,98,98,98,98,98,98,98,98,98,98,98,98,98,98,98,98,98,98,98,98,98,98,98,98,98,98,98,98,98,98,98,98,98,98,98,98,98,98,98,98,98,98,98,98,98,98,98,98,98,98,98,98,98,98,98,98,98,98,98,98,98,98,98,98,98,98,98,98,98,98,98,98,98,98,98,98,98,98,98,98,98,98,98,98,98,98,98,98,98,98,98,98,98,98,98,98,98,98,98,98,98,98,98,98,98,98,98,98,98,98,98,98,98,98,98,98,98,98,98,98,98,98,98,98,98,98,98,98,98,98,98,98,98,98,98,98,98,98,98,98,98,98,98,98,98,98,98,98,98,98,98,98,98,98,98,98,98,98,98,98,98,98,98,98,98,98,98,98,98,98,98,98,98,98,98,98,98,98,98,98,98,98,98,98,98,98,98,98,98,98,98,98,98,98,98,98,98,98,98,98,98,98,98,98,98,98,98,98,98,98,98,98,98,98,98,98,98,98,98,98,98,98,98,98,98,98,98,98,98,98,98,98,98,98,98,98,98,98,98,98,98,98,98,98,98,98,98,98,98,98,98,98,98,98,98,98,98,98,98,98,98,98,98,98,98,98,98,98,98,98,98,98,98,98,98,98,98,98,98,98,98,98,98,98,98,98,98]},\"selected\":{\"id\":\"1077\"},\"selection_policy\":{\"id\":\"1076\"}},\"id\":\"1034\",\"type\":\"ColumnDataSource\"},{\"attributes\":{},\"id\":\"1009\",\"type\":\"LinearScale\"},{\"attributes\":{},\"id\":\"1072\",\"type\":\"AllLabels\"},{\"attributes\":{\"source\":{\"id\":\"1041\"}},\"id\":\"1047\",\"type\":\"CDSView\"},{\"attributes\":{},\"id\":\"1012\",\"type\":\"BasicTicker\"},{\"attributes\":{},\"id\":\"1079\",\"type\":\"Selection\"},{\"attributes\":{\"axis\":{\"id\":\"1011\"},\"coordinates\":null,\"group\":null,\"ticker\":null},\"id\":\"1014\",\"type\":\"Grid\"},{\"attributes\":{},\"id\":\"1074\",\"type\":\"BasicTickFormatter\"},{\"attributes\":{},\"id\":\"1082\",\"type\":\"UnionRenderers\"},{\"attributes\":{\"coordinates\":null,\"data_source\":{\"id\":\"1041\"},\"glyph\":{\"id\":\"1043\"},\"group\":null,\"hover_glyph\":null,\"muted_glyph\":{\"id\":\"1045\"},\"nonselection_glyph\":{\"id\":\"1044\"},\"view\":{\"id\":\"1047\"}},\"id\":\"1046\",\"type\":\"GlyphRenderer\"},{\"attributes\":{\"bottom\":{\"field\":\"bottom\"},\"fill_alpha\":{\"value\":0.1},\"fill_color\":{\"value\":\"#3288bd\"},\"hatch_alpha\":{\"value\":0.1},\"left\":{\"field\":\"start_time\"},\"line_alpha\":{\"value\":0.1},\"right\":{\"field\":\"end_time\"},\"top\":{\"field\":\"top\"}},\"id\":\"1044\",\"type\":\"Quad\"},{\"attributes\":{},\"id\":\"1075\",\"type\":\"AllLabels\"},{\"attributes\":{\"data\":{\"bottom\":{\"__ndarray__\":\"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\",\"dtype\":\"float64\",\"order\":\"little\",\"shape\":[448]},\"duration\":{\"__ndarray__\":\"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\",\"dtype\":\"float64\",\"order\":\"little\",\"shape\":[448]},\"end_time\":{\"__ndarray__\":\"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\",\"dtype\":\"float64\",\"order\":\"little\",\"shape\":[448]},\"fill_alpha\":{\"__ndarray__\":\"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\",\"dtype\":\"float64\",\"order\":\"little\",\"shape\":[448]},\"index\":[719,720,721,722,723,724,725,726,727,728,729,730,731,732,733,734,735,736,737,738,739,740,741,742,743,744,745,746,747,748,749,750,751,752,753,754,755,756,757,758,759,760,761,762,763,764,765,766,767,768,769,770,771,772,773,774,775,776,777,778,779,780,781,782,783,784,785,786,787,788,789,790,791,792,793,794,795,796,797,798,799,800,801,802,803,804,805,806,807,808,809,810,811,812,813,814,815,816,817,818,819,820,821,822,823,824,825,826,827,828,829,830,831,832,833,834,835,836,837,838,839,840,841,842,843,844,845,846,847,848,849,850,851,852,853,854,855,856,857,858,859,860,861,862,863,864,865,866,867,868,869,870,871,872,873,874,875,876,877,878,879,880,881,882,883,884,885,886,887,888,889,890,891,892,893,894,895,896,897,898,899,900,901,902,903,904,905,906,907,908,909,910,911,912,913,914,915,916,917,918,919,920,921,922,923,924,925,926,927,928,929,930,931,932,933,934,935,936,937,938,939,940,941,942,943,944,945,946,947,948,949,950,951,952,953,954,955,956,957,958,959,960,961,962,963,964,965,966,967,968,969,970,971,972,973,974,975,976,977,978,979,980,981,982,983,984,985,986,987,988,989,990,991,992,993,994,995,996,997,998,999,1000,1001,1002,1003,1004,1005,1006,1007,1008,1009,1010,1011,1012,1013,1014,1015,1016,1017,1018,1019,1020,1021,1022,1023,1024,1025,1026,1027,1028,1029,1030,1031,1032,1033,1034,1035,1036,1037,1038,1039,1040,1041,1042,1043,1044,1045,1046,1047,1048,1049,1050,1051,1052,1053,1054,1055,1056,1057,1058,1059,1060,1061,1062,1063,1064,1065,1066,1067,1068,1069,1070,1071,1072,1073,1074,1075,1076,1077,1078,1079,1080,1081,1082,1083,1084,1085,1086,1087,1088,1089,1090,1091,1092,1093,1094,1095,1096,1097,1098,1099,1100,1101,1102,1103,1104,1105,1106,1107,1108,1109,1110,1111,1112,1113,1114,1115,1116,1117,1118,1119,1120,1121,1122,1123,1124,1125,1126,1127,1128,1129,1130,1131,1132,1133,1134,1135,1136,1137,1138,1139,1140,1141,1142,1143,1144,1145,1146,1147,1148,1149,1150,1151,1152,1153,1154,1155,1156,1157,1158,1159,1160,1161,1162,1163,1164,1165,1166],\"instrument\":[4,4,4,4,4,4,4,4,4,4,4,4,4,4,4,4,4,4,4,4,4,4,4,4,4,4,4,4,4,4,4,4,4,4,4,4,4,4,4,4,4,4,4,4,4,4,4,4,4,4,4,4,4,4,4,4,4,4,4,4,4,4,4,4,4,4,4,4,4,4,4,4,4,4,4,4,4,4,4,4,4,4,4,4,4,4,4,4,4,4,4,4,4,4,4,4,4,4,4,4,4,4,4,4,4,4,4,4,4,4,4,4,4,4,4,4,4,4,4,4,4,4,4,4,4,4,4,4,4,4,4,4,4,4,4,4,4,4,4,4,4,4,4,4,4,4,4,4,4,4,4,4,4,4,4,4,4,4,4,4,4,4,4,4,4,4,4,4,4,4,4,4,4,4,4,4,4,4,4,4,4,4,4,4,4,4,4,4,4,4,4,4,4,4,4,4,4,4,4,4,4,4,4,4,4,4,4,4,4,4,4,4,4,4,4,4,4,4,4,4,4,4,4,4,4,4,4,4,4,4,4,4,4,4,4,4,4,4,4,4,4,4,4,4,4,4,4,4,4,4,4,4,4,4,4,4,4,4,4,4,4,4,4,4,4,4,4,4,4,4,4,4,4,4,4,4,4,4,4,4,4,4,4,4,4,4,4,4,4,4,4,4,4,4,4,4,4,4,4,4,4,4,4,4,4,4,4,4,4,4,4,4,4,4,4,4,4,4,4,4,4,4,4,4,4,4,4,4,4,4,4,4,4,4,4,4,4,4,4,4,4,4,4,4,4,4,4,4,4,4,4,4,4,4,4,4,4,4,4,4,4,4,4,4,4,4,4,4,4,4,4,4,4,4,4,4,4,4,4,4,4,4,4,4,4,4,4,4,4,4,4,4,4,4,4,4,4,4,4,4,4,4,4,4,4,4,4,4,4,4,4,4,4,4,4,4,4,4,4,4,4,4,4,4,4,4,4,4,4,4,4,4,4,4,4,4,4,4,4,4,4,4,4,4,4,4,4,4],\"pitch\":[35,53,44,51,36,46,46,35,53,44,51,36,46,46,35,53,44,51,36,46,46,35,53,44,51,36,46,46,35,53,44,51,36,46,46,35,53,44,51,36,46,42,46,36,53,49,36,49,49,36,45,45,45,45,45,45,45,36,45,45,45,45,36,45,36,43,59,43,43,35,57,35,38,49,35,42,35,40,42,35,42,35,40,42,35,49,45,37,45,40,57,35,49,35,40,42,35,35,42,35,35,40,42,35,42,35,40,42,35,35,49,36,59,36,54,35,49,35,38,49,35,42,35,40,42,35,42,35,40,42,35,49,45,37,45,40,57,35,49,35,40,42,35,35,42,35,35,40,42,35,42,35,40,42,38,38,35,38,49,38,42,38,38,38,35,49,35,35,42,51,35,35,51,35,42,51,35,51,35,35,42,51,35,51,35,35,42,51,35,51,35,35,42,51,35,51,35,35,42,51,35,51,35,35,42,51,35,51,35,35,42,51,35,49,35,35,42,51,35,51,35,35,42,51,35,51,35,35,42,51,38,35,51,35,35,42,51,35,49,35,42,35,51,35,42,35,42,51,35,35,42,51,35,51,35,42,35,49,35,42,55,55,40,46,37,37,37,37,37,42,37,37,37,37,37,37,37,37,42,35,42,42,37,42,42,42,82,42,37,42,42,35,42,42,37,42,42,42,82,42,37,42,42,35,42,42,37,42,42,42,82,42,37,42,42,35,42,42,37,42,42,42,82,42,37,42,42,35,42,42,37,42,42,42,82,42,37,42,42,35,42,42,37,42,42,42,82,42,37,42,42,35,42,42,37,42,42,42,82,35,42,42,35,42,35,42,42,37,42,42,42,82,37,42,42,35,42,69,37,42,42,69,42,82,42,69,37,42,42,35,42,69,37,42,42,69,42,82,42,69,37,42,42,69,35,42,69,37,42,42,69,42,82,42,69,37,42,42,69,35,42,69,37,42,42,69,42,82,42,69,37,42,42,35,42,69,37,42,42,69,42,82,42,69,37,42,42,35],\"program\":[0,0,0,0,0,0,0,0,0,0,0,0,0,0,0,0,0,0,0,0,0,0,0,0,0,0,0,0,0,0,0,0,0,0,0,0,0,0,0,0,0,0,0,0,0,0,0,0,0,0,0,0,0,0,0,0,0,0,0,0,0,0,0,0,0,0,0,0,0,0,0,0,0,0,0,0,0,0,0,0,0,0,0,0,0,0,0,0,0,0,0,0,0,0,0,0,0,0,0,0,0,0,0,0,0,0,0,0,0,0,0,0,0,0,0,0,0,0,0,0,0,0,0,0,0,0,0,0,0,0,0,0,0,0,0,0,0,0,0,0,0,0,0,0,0,0,0,0,0,0,0,0,0,0,0,0,0,0,0,0,0,0,0,0,0,0,0,0,0,0,0,0,0,0,0,0,0,0,0,0,0,0,0,0,0,0,0,0,0,0,0,0,0,0,0,0,0,0,0,0,0,0,0,0,0,0,0,0,0,0,0,0,0,0,0,0,0,0,0,0,0,0,0,0,0,0,0,0,0,0,0,0,0,0,0,0,0,0,0,0,0,0,0,0,0,0,0,0,0,0,0,0,0,0,0,0,0,0,0,0,0,0,0,0,0,0,0,0,0,0,0,0,0,0,0,0,0,0,0,0,0,0,0,0,0,0,0,0,0,0,0,0,0,0,0,0,0,0,0,0,0,0,0,0,0,0,0,0,0,0,0,0,0,0,0,0,0,0,0,0,0,0,0,0,0,0,0,0,0,0,0,0,0,0,0,0,0,0,0,0,0,0,0,0,0,0,0,0,0,0,0,0,0,0,0,0,0,0,0,0,0,0,0,0,0,0,0,0,0,0,0,0,0,0,0,0,0,0,0,0,0,0,0,0,0,0,0,0,0,0,0,0,0,0,0,0,0,0,0,0,0,0,0,0,0,0,0,0,0,0,0,0,0,0,0,0,0,0,0,0,0,0,0,0,0,0,0,0,0,0,0,0,0,0,0,0,0,0,0,0,0,0,0,0,0,0,0,0],\"start_time\":{\"__ndarray__\":\"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\",\"dtype\":\"float64\",\"order\":\"little\",\"shape\":[448]},\"top\":{\"__ndarray__\":\"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\",\"dtype\":\"float64\",\"order\":\"little\",\"shape\":[448]},\"velocity\":[98,98,98,98,98,98,98,98,98,98,98,98,98,98,98,98,98,98,98,98,98,98,98,98,98,98,98,98,98,98,98,98,98,98,98,98,98,98,98,98,98,98,98,98,98,98,98,98,98,98,98,98,98,98,98,98,98,98,98,98,98,98,98,98,98,98,98,98,98,98,98,98,98,98,98,98,98,98,98,98,98,98,98,98,98,98,98,98,98,98,98,98,98,98,98,98,98,98,98,98,98,98,98,98,98,98,98,98,98,98,98,98,98,98,98,98,98,98,98,98,98,98,98,98,98,98,98,98,98,98,98,98,98,98,98,98,98,98,98,98,98,98,98,98,98,98,98,98,98,98,98,98,98,98,98,98,98,98,98,98,98,98,98,98,98,98,98,98,98,98,98,98,98,98,98,98,98,98,98,98,98,98,98,98,98,98,98,98,98,98,98,98,98,98,98,98,98,98,98,98,98,98,98,98,98,98,98,98,98,98,98,98,98,98,98,98,98,98,98,98,98,98,98,98,98,98,98,98,98,98,98,98,98,98,98,98,98,98,98,98,98,98,98,98,98,98,98,98,98,98,98,98,98,98,98,98,98,98,98,98,98,98,98,98,98,98,98,98,98,98,98,98,98,98,98,98,98,98,98,98,98,98,98,98,98,98,98,98,98,98,98,98,98,98,98,98,98,98,98,98,98,98,98,98,98,98,98,98,98,98,98,98,98,98,98,98,98,98,98,98,98,98,98,98,98,98,98,98,98,98,98,98,98,98,98,98,98,98,98,98,98,98,98,98,98,98,98,98,98,98,98,98,98,98,98,98,98,98,98,98,98,98,98,98,98,98,98,98,98,98,98,98,98,98,98,98,98,98,98,98,98,98,98,98,98,98,98,98,98,98,98,98,98,98,98,98,98,98,98,98,98,98,98,98,98,98,98,98,98,98,98,98,98,98,98,98,98,98,98,98,98,98,98,98,98,98,98,98,98,98,98,98,98,98,98,98,98,98,98,98,98,98,98,98,98,98,98,98]},\"selected\":{\"id\":\"1085\"},\"selection_policy\":{\"id\":\"1084\"}},\"id\":\"1062\",\"type\":\"ColumnDataSource\"},{\"attributes\":{},\"id\":\"1083\",\"type\":\"Selection\"},{\"attributes\":{\"axis\":{\"id\":\"1015\"},\"coordinates\":null,\"dimension\":1,\"group\":null,\"ticker\":{\"id\":\"1033\"}},\"id\":\"1018\",\"type\":\"Grid\"},{\"attributes\":{\"bottom\":{\"field\":\"bottom\"},\"fill_alpha\":{\"field\":\"fill_alpha\"},\"fill_color\":{\"value\":\"#d53e4f\"},\"left\":{\"field\":\"start_time\"},\"right\":{\"field\":\"end_time\"},\"top\":{\"field\":\"top\"}},\"id\":\"1036\",\"type\":\"Quad\"},{\"attributes\":{},\"id\":\"1023\",\"type\":\"SaveTool\"},{\"attributes\":{\"source\":{\"id\":\"1048\"}},\"id\":\"1054\",\"type\":\"CDSView\"},{\"attributes\":{},\"id\":\"1020\",\"type\":\"PanTool\"},{\"attributes\":{\"callback\":null,\"tooltips\":[[\"pitch\",\"@pitch\"],[\"program\",\"@program\"],[\"velo\",\"@velocity\"],[\"duration\",\"@duration\"],[\"start_time\",\"@start_time\"],[\"end_time\",\"@end_time\"],[\"velocity\",\"@velocity\"],[\"fill_alpha\",\"@fill_alpha\"]]},\"id\":\"1019\",\"type\":\"HoverTool\"},{\"attributes\":{},\"id\":\"1081\",\"type\":\"Selection\"},{\"attributes\":{\"overlay\":{\"id\":\"1024\"}},\"id\":\"1021\",\"type\":\"BoxZoomTool\"},{\"attributes\":{\"coordinates\":null,\"data_source\":{\"id\":\"1048\"},\"glyph\":{\"id\":\"1050\"},\"group\":null,\"hover_glyph\":null,\"muted_glyph\":{\"id\":\"1052\"},\"nonselection_glyph\":{\"id\":\"1051\"},\"view\":{\"id\":\"1054\"}},\"id\":\"1053\",\"type\":\"GlyphRenderer\"},{\"attributes\":{},\"id\":\"1022\",\"type\":\"ResetTool\"},{\"attributes\":{\"bottom\":{\"field\":\"bottom\"},\"fill_alpha\":{\"value\":0.1},\"fill_color\":{\"value\":\"#f46d43\"},\"hatch_alpha\":{\"value\":0.1},\"left\":{\"field\":\"start_time\"},\"line_alpha\":{\"value\":0.1},\"right\":{\"field\":\"end_time\"},\"top\":{\"field\":\"top\"}},\"id\":\"1051\",\"type\":\"Quad\"},{\"attributes\":{\"bottom\":{\"field\":\"bottom\"},\"fill_alpha\":{\"value\":0.2},\"fill_color\":{\"value\":\"#f46d43\"},\"hatch_alpha\":{\"value\":0.2},\"left\":{\"field\":\"start_time\"},\"line_alpha\":{\"value\":0.2},\"right\":{\"field\":\"end_time\"},\"top\":{\"field\":\"top\"}},\"id\":\"1052\",\"type\":\"Quad\"},{\"attributes\":{\"data\":{\"bottom\":{\"__ndarray__\":\"mpmZmZmZOUCamZmZmZk3QJqZmZmZmTdAmpmZmZmZNkCamZmZmZk7QJqZmZmZmT5AmpmZmZmZO0CamZmZmZk+QJqZmZmZmTtAmpmZmZmZPkCamZmZmZk7QM3MzMzMTEFAzczMzMzMQ0CamZmZmZk7QJqZmZmZmTtAmpmZmZmZO0CamZmZmZk5QJqZmZmZmTdAmpmZmZmZN0CamZmZmZk3QJqZmZmZmTlAmpmZmZmZPECamZmZmZk5QJqZmZmZmTxAmpmZmZmZNECamZmZmZk3QJqZmZmZmTdAmpmZmZmZOkCamZmZmZk7QJqZmZmZmTlAmpmZmZmZPkCamZmZmZk8QJqZmZmZmT5AzczMzMxMQEDNzMzMzMxBQM3MzMzMzEFAzczMzMxMREDNzMzMzMxDQM3MzMzMzENAmpmZmZmZPkCamZmZmZk+QM3MzMzMTEFAzczMzMxMQECamZmZmZk5QJqZmZmZmTRAmpmZmZmZOUCamZmZmZk5QJqZmZmZmTlAzczMzMxMQUDNzMzMzMxBQM3MzMzMzEFAzczMzMzMQUCamZmZmZk5QM3MzMzMzEFAmpmZmZmZPkDNzMzMzExAQM3MzMzMzEFAzczMzMzMQUDNzMzMzExEQM3MzMzMzENAzczMzMzMQ0CamZmZmZk7QJqZmZmZmT5AmpmZmZmZPkDNzMzMzExBQM3MzMzMTEBAzczMzMzMQkDNzMzMzMxBQM3MzMzMzEFAzczMzMzMQUDNzMzMzMxCQM3MzMzMTEFAzczMzMxMQEDNzMzMzExAQM3MzMzMTEBAzczMzMxMQECamZmZmZk+QJqZmZmZmT5AmpmZmZmZPkCamZmZmZk+QJqZmZmZmTxAmpmZmZmZPECamZmZmZk8QM3MzMzMzEFAzczMzMxMRECamZmZmZk5QJqZmZmZmT5AmpmZmZmZPECamZmZmZkwQM3MzMzMTEBAzczMzMxMQEDNzMzMzExBQM3MzMzMTEBAzczMzMxMQECamZmZmZk+QJqZmZmZmTxAmpmZmZmZPkCamZmZmZk8QJqZmZmZmTxAmpmZmZmZPEDNzMzMzMxBQM3MzMzMzEFAzczMzMxMQEDNzMzMzMxCQM3MzMzMTEZAzczMzMzMR0DNzMzMzMxCQJqZmZmZmT5AzczMzMxMQECamZmZmZk/QJqZmZmZmT5AzczMzMzMQUDNzMzMzExHQM3MzMzMzENAzczMzMzMQkDNzMzMzMxBQM3MzMzMTEBAmpmZmZmZPkCamZmZmZk+QJqZmZmZmT5AmpmZmZmZPkDNzMzMzExAQM3MzMzMTEFAzczMzMzMQUDNzMzMzMxBQM3MzMzMTEFAzczMzMxMQUDNzMzMzMxDQM3MzMzMzElAzczMzMxMQEDNzMzMzExFQM3MzMzMzEJAzczMzMzMQ0DNzMzMzExEQM3MzMzMTERAzczMzMxMRUDNzMzMzMxIQM3MzMzMTEVAzczMzMzMSUDNzMzMzExFQM3MzMzMTERAzczMzMxMQUDNzMzMzMxBQM3MzMzMzEFAzczMzMxMQUDNzMzMzExBQJqZmZmZmTtAzczMzMzMSUDNzMzMzExAQM3MzMzMTEVAzczMzMzMQEDNzMzMzExAQM3MzMzMTEFAmpmZmZmZPkCamZmZmZk7QM3MzMzMzEFAzczMzMxMRUCamZmZmZk+QJqZmZmZmTtAzczMzMxMQECamZmZmZk7QJqZmZmZmTxAzczMzMzMQUDNzMzMzMxAQJqZmZmZmTxAmpmZmZmZPkDNzMzMzMxCQA==\",\"dtype\":\"float64\",\"order\":\"little\",\"shape\":[167]},\"duration\":{\"__ndarray__\":\"AyfbwB2o7D8DJ9vAHajsPwIn28AdqOw/BCfbwB2o7D8EJ9vAHajsPwAn28AdqOw/ACfbwB2o7D8IJ9vAHajsPwgn28AdqOw/ACfbwB2o7D8AJ9vAHajsPwAn28AdqOw/ACfbwB2o7D8AJ9vAHajsPxAn28AdqOw/ACfbwB2o7D8AJ9vAHajsPxAn28AdqOw/ACfbwB2o7D8AJ9vAHajsPwAn28AdqOw/ACfbwB2o7D8AJ9vAHajsPwAn28AdqNw/ACfbwB2o3D8AJ9vAHajsPwAn28AdqOw/ACfbwB2o7D8AJ9vAHajsPyAn28AdqOw/ACfbwB2o7D8AJ9vAHajsPwAn28AdqOw/ACfbwB2o7D8AJ9vAHajsPwAn28AdqOw/ICfbwB2o7D8AJ9vAHajsPwAn28AdqOw/ACfbwB2o3D8AJ9vAHajcPwAn28AdqOw/ACfbwB2o3D8AJ9vAHajcPwAn28AdqNw/ACfbwB2o3D8AJ9vAHajcPwAn28AdqNw/ACfbwB2ozD8AJ9vAHajcPwAn28AdqNw/ACfbwB2o3D8AJ9vAHajcPwAn28AdqNw/ACfbwB2o7D8AJ9vAHajsPwAn28AdqOw/ACfbwB2o7D8AJ9vAHajsPwAn28AdqOw/ACfbwB2o3D8AJ9vAHajMPwAn28AdqNw/ACfbwB2o3D8AJ9vAHajsPwAn28AdqNw/ACfbwB2o7D8AJ9vAHajcPwAn28AdqNw/ACfbwB2o3D8AJ9vAHajMPwAn28AdqMw/ACfbwB2o3D8AJ9vAHajcPwAn28AdqNw/ACfbwB2o3D8AJ9vAHajcPwAn28AdqNw/ACfbwB2o3D8AJ9vAHajcP0BdpFAWfuU/QF2kUBZ+9T8AJ9vAHajMPwAn28AdqOw/QF2kUBZ+5T9AXaRQFn7lPwAn28AdqNw/ACfbwB2o7D9AJ9vAHajsPwBdpFAWfuU/QF2kUBZ+9T9AXaRQFn71PwBdpFAWfuU/ACfbwB2o7D8AJ9vAHajsPwAn28AdqNw/ACfbwB2o3D8AXaRQFn7lPwAn28AdqOw/ACfbwB2o3D9AXaRQFn71P0BdpFAWfvU/ACfbwB2o3D8AJ9vAHajcPwAn28AdqNw/ACfbwB2o7D8AJ9vAHajcPwBdpFAWfuU/gF2kUBZ+5T+AXaRQFn7lPwBdpFAWfuU/ACfbwB2o3D8AJ9vAHajsPwAn28AdqNw/ACfbwB2o3D8AJ9vAHajcPwAn28AdqNw/gF2kUBZ+5T8AXaRQFn7lPwAn28AdqNw/ACfbwB2o3D8AJ9vAHajcPwAn28AdqNw/QF2kUBZ+BUAAJ9vAHajsP0BdpFAWfgVAACbbwB2ozD9AXaRQFn4FQAAn28AdqOw/YF2kUBZ+BUAAJ9vAHajsP0BdpFAWfgVAACjbwB2ozD9AXaRQFn4FQAAo28AdqMw/ACfbwB2o/D8AJ9vAHaj8PwAn28AdqPw/ACfbwB2o3D8AJ9vAHajcPwAn28AdqNw/ACfbwB2o3D9AXaRQFn4FQAAn28AdqOw/QF2kUBZ+BUAAJtvAHajMP2BdpFAWfgVAACfbwB2o7D9AXaRQFn4FQAAn28AdqOw/QF2kUBZ+BUBAXaRQFn4FQAAn28AdqAxAACbbwB2o3D8AKNvAHajcPwAm28AdqNw/ACjbwB2o3D8AJtvAHajcPwAo28AdqNw/ACbbwB2o3D8AKNvAHajcPwAn28AdqAxAACfbwB2oDEBAXaRQFn4FQAAn28AdqAxAACfbwB2oDEAAJ9vAHagMQA==\",\"dtype\":\"float64\",\"order\":\"little\",\"shape\":[167]},\"end_time\":{\"__ndarray__\":\"AyfbwB2o7D8DJ9vAHaj8P0JdpFAWfgVAAyfbwB2oDEBi+IiYEukRQEJdpFAWfhVAIsK/CBoTGUADJ9vAHagcQPJFe7yQHiBAYviImBLpIUDSqpZ0lLMjQEJdpFAWfiVAsg+yLJhIJ0Aiwr8IGhMpQJN0zeSb3SpAAyfbwB2oLEBz2eicn3IuQPJFe7yQHjBAKh+CqtEDMUBi+IiYEukxQJrRj4ZTzjJA0qqWdJSzM0AKhJ1i1Zg0QKbwoNl1CzVAQl2kUBZ+NUB6Nqs+V2M2QLIPsiyYSDdA6ui4GtktOEAiwr8IGhM5QFubxvZa+DlAk3TN5JvdOkDLTdTS3MI7QAMn28AdqDxAOwDirl6NPUBz2eicn3I+QKuy74rgVz9A8kV7vJAeQECOsn4zMZFAQCofgqrRA0FAeNUD5iE9QUDGi4UhcnZBQGL4iJgS6UFAsK4K1GIiQkBMGw5LA5VCQJrRj4ZTzkJA6IcRwqMHQ0A2PpP980BDQIT0FDlEekNA0qqWdJSzQ0AgYRiw5OxDQG4Xmus0JkRAvM0bJ4VfREAKhJ1i1ZhEQFg6H54l0kRAQl2kUBZ+RUDeyafHtvBFQHo2qz5XY0ZAFqOutffVRkCyD7IsmEhHQE58taM4u0dAnDI334j0R0DDDfj8MBFIQDifOlYpZ0hAhlW8kXmgSEAiwr8IGhNJQHB4QURqTElAW5vG9lr4SUCpUUgyqzFKQPcHym37akpARb5LqUukSkBsmQzH88BKQJN0zeSb3UpA4SpPIOwWS0Av4dBbPFBLQH2XUpeMiUtAy03U0tzCS0AZBFYOLfxLQGe610l9NUxAtXBZhc1uTEADJ9vAHahMQHi4HRoW/kxAYtuizAaqTUBi26LMBqpNQCUjZ2FPOU5A6Gor9pfITkBd/G1PkB5PQKuy74rgV09ARx/zAYHKT0DyRXu8kB5QQKyOHOmMSVBAISBfQoWfUEAqH4Kq0QNRQORnI9fNLlFAMh6lEh5oUUAUQgddwq9RQDsdyHpqzFFAYviImBLpUUAcQSrFDhRSQGr3qwBfTVJAJUBNLVt4UkCa0Y+GU85SQA9j0t9LJFNANj6T/fNAU0BdGVQbnF1TQIT0FDlEelNA0qqWdJSzU0D5hVeSPNBTQNqpudzgF1RAlfJaCd1CVEB3Fr1TgYpUQDFfXoB9tVRAWDofniXSVECm8KDZdQtVQM3LYfcdKFVA9KYiFcZEVUAbguMybmFVQEJdpFAWflVA/aVFfRKpVUC37uapDtRVQAWlaOVeDVZALIApAwcqVkBTW+ogr0ZWQHo2qz5XY1ZAZFkw8UcPV0CyD7IsmEhXQJwyN9+I9FdA6ui4GtktWEDUCz7NydlYQCLCvwgaE1lADeVEuwq/WUBbm8b2WvhZQEW+S6lLpFpAk3TN5JvdWkB9l1KXjIlbQMtN1NLcwltAZ7rXSX01XEADJ9vAHahcQJ+T3je+Gl1Axm6fVWY3XUDtSWBzDlRdQBQlIZG2cF1AOwDirl6NXUAlI2dhTzleQHPZ6Jyfcl5AXfxtT5AeX0Crsu+K4FdfQMtqup7oAWBA8kV7vJAeYEBn170ViXRgQI6yfjMxkWBAA0TBjCnnYECfsMQDyllhQGL4iJgS6WFA9WVpp2b3YUCJ00m2ugViQBxBKsUOFGJAsK4K1GIiYkBDHOvitjBiQNeJy/EKP2JAaverAF9NYkD+ZIwPs1tiQJrRj4ZTzmJANj6T/fNAY0Crz9VW7JZjQG4Xmus0JmRACoSdYtWYZECm8KDZdQtlQA==\",\"dtype\":\"float64\",\"order\":\"little\",\"shape\":[167]},\"fill_alpha\":{\"__ndarray__\":\"AAAAAACA6D8AAAAAAIDoPwAAAAAAgOg/AAAAAACA6D8AAAAAAIDoPwAAAAAAgOg/AAAAAACA6D8AAAAAAIDoPwAAAAAAgOg/AAAAAACA6D8AAAAAAIDoPwAAAAAAgOg/AAAAAACA6D8AAAAAAIDoPwAAAAAAgOg/AAAAAACA6D8AAAAAAIDoPwAAAAAAgOg/AAAAAACA6D8AAAAAAIDoPwAAAAAAgOg/AAAAAACA6D8AAAAAAIDoPwAAAAAAgOg/AAAAAACA6D8AAAAAAIDoPwAAAAAAgOg/AAAAAACA6D8AAAAAAIDoPwAAAAAAgOg/AAAAAACA6D8AAAAAAIDoPwAAAAAAgOg/AAAAAACA6D8AAAAAAIDoPwAAAAAAgOg/AAAAAACA6D8AAAAAAIDoPwAAAAAAgOg/AAAAAACA6D8AAAAAAIDoPwAAAAAAgOg/AAAAAACA6D8AAAAAAIDoPwAAAAAAgOg/AAAAAACA6D8AAAAAAIDoPwAAAAAAgOg/AAAAAACA6D8AAAAAAIDoPwAAAAAAgOg/AAAAAACA6D8AAAAAAIDoPwAAAAAAgOg/AAAAAACA6D8AAAAAAIDoPwAAAAAAgOg/AAAAAACA6D8AAAAAAIDoPwAAAAAAgOg/AAAAAACA6D8AAAAAAIDoPwAAAAAAgOg/AAAAAACA6D8AAAAAAIDoPwAAAAAAgOg/AAAAAACA6D8AAAAAAIDoPwAAAAAAgOg/AAAAAACA6D8AAAAAAIDoPwAAAAAAgOg/AAAAAACA6D8AAAAAAIDoPwAAAAAAgOg/AAAAAACA6D8AAAAAAIDoPwAAAAAAgOg/AAAAAACA6D8AAAAAAIDoPwAAAAAAgOg/AAAAAACA6D8AAAAAAIDoPwAAAAAAgOg/AAAAAACA6D8AAAAAAIDoPwAAAAAAgOg/AAAAAACA6D8AAAAAAIDoPwAAAAAAgOg/AAAAAACA6D8AAAAAAIDoPwAAAAAAgOg/AAAAAACA6D8AAAAAAIDoPwAAAAAAgOg/AAAAAACA6D8AAAAAAIDoPwAAAAAAgOg/AAAAAACA6D8AAAAAAIDoPwAAAAAAgOg/AAAAAACA6D8AAAAAAIDoPwAAAAAAgOg/AAAAAACA6D8AAAAAAIDoPwAAAAAAgOg/AAAAAACA6D8AAAAAAIDoPwAAAAAAgOg/AAAAAACA6D8AAAAAAIDoPwAAAAAAgOg/AAAAAACA6D8AAAAAAIDoPwAAAAAAgOg/AAAAAACA6D8AAAAAAIDoPwAAAAAAgOg/AAAAAACA6D8AAAAAAIDoPwAAAAAAgOg/AAAAAACA6D8AAAAAAIDoPwAAAAAAgOg/AAAAAACA6D8AAAAAAIDoPwAAAAAAgOg/AAAAAACA6D8AAAAAAIDoPwAAAAAAgOg/AAAAAACA6D8AAAAAAIDoPwAAAAAAgOg/AAAAAACA6D8AAAAAAIDoPwAAAAAAgOg/AAAAAACA6D8AAAAAAIDoPwAAAAAAgOg/AAAAAACA6D8AAAAAAIDoPwAAAAAAgOg/AAAAAACA6D8AAAAAAIDoPwAAAAAAgOg/AAAAAACA6D8AAAAAAIDoPwAAAAAAgOg/AAAAAACA6D8AAAAAAIDoPwAAAAAAgOg/AAAAAACA6D8AAAAAAIDoPwAAAAAAgOg/AAAAAACA6D8AAAAAAIDoPwAAAAAAgOg/AAAAAACA6D8AAAAAAIDoPwAAAAAAgOg/AAAAAACA6D8AAAAAAIDoPwAAAAAAgOg/AAAAAACA6D8AAAAAAIDoPw==\",\"dtype\":\"float64\",\"order\":\"little\",\"shape\":[167]},\"index\":[527,528,529,530,531,532,533,534,535,536,537,538,539,540,541,542,543,544,545,546,547,548,549,550,551,552,553,554,555,556,557,558,559,560,561,562,563,564,565,566,567,568,569,570,571,572,573,574,575,576,577,578,579,580,581,582,583,584,585,586,587,588,589,590,591,592,593,594,595,596,597,598,599,600,601,602,603,604,605,606,607,608,609,610,611,612,613,614,615,616,617,618,619,620,621,622,623,624,625,626,627,628,629,630,631,632,633,634,635,636,637,638,639,640,641,642,643,644,645,646,647,648,649,650,651,652,653,654,655,656,657,658,659,660,661,662,663,664,665,666,667,668,669,670,671,672,673,674,675,676,677,678,679,680,681,682,683,684,685,686,687,688,689,690,691,692,693],\"instrument\":[2,2,2,2,2,2,2,2,2,2,2,2,2,2,2,2,2,2,2,2,2,2,2,2,2,2,2,2,2,2,2,2,2,2,2,2,2,2,2,2,2,2,2,2,2,2,2,2,2,2,2,2,2,2,2,2,2,2,2,2,2,2,2,2,2,2,2,2,2,2,2,2,2,2,2,2,2,2,2,2,2,2,2,2,2,2,2,2,2,2,2,2,2,2,2,2,2,2,2,2,2,2,2,2,2,2,2,2,2,2,2,2,2,2,2,2,2,2,2,2,2,2,2,2,2,2,2,2,2,2,2,2,2,2,2,2,2,2,2,2,2,2,2,2,2,2,2,2,2,2,2,2,2,2,2,2,2,2,2,2,2,2,2,2,2,2,2],\"pitch\":[26,24,24,23,28,31,28,31,28,31,28,35,40,28,28,28,26,24,24,24,26,29,26,29,21,24,24,27,28,26,31,29,31,33,36,36,41,40,40,31,31,35,33,26,21,26,26,26,35,36,36,36,26,36,31,33,36,36,41,40,40,28,31,31,35,33,38,36,36,36,38,35,33,33,33,33,31,31,31,31,29,29,29,36,41,26,31,29,17,33,33,35,33,33,31,29,31,29,29,29,36,36,33,38,45,48,38,31,33,32,31,36,47,40,38,36,33,31,31,31,31,33,35,36,36,35,35,40,52,33,43,38,40,41,41,43,50,43,52,43,41,35,36,36,35,35,28,52,33,43,34,33,35,31,28,36,43,31,28,33,28,29,36,34,29,31,38],\"program\":[32,32,32,32,32,32,32,32,32,32,32,32,32,32,32,32,32,32,32,32,32,32,32,32,32,32,32,32,32,32,32,32,32,32,32,32,32,32,32,32,32,32,32,32,32,32,32,32,32,32,32,32,32,32,32,32,32,32,32,32,32,32,32,32,32,32,32,32,32,32,32,32,32,32,32,32,32,32,32,32,32,32,32,32,32,32,32,32,32,32,32,32,32,32,32,32,32,32,32,32,32,32,32,32,32,32,32,32,32,32,32,32,32,32,32,32,32,32,32,32,32,32,32,32,32,32,32,32,32,32,32,32,32,32,32,32,32,32,32,32,32,32,32,32,32,32,32,32,32,32,32,32,32,32,32,32,32,32,32,32,32,32,32,32,32,32,32],\"start_time\":{\"__ndarray__\":\"AAAAAAAAAAADJ9vAHajsPwMn28AdqPw/Ql2kUBZ+BUADJ9vAHagMQGL4iJgS6RFAQl2kUBZ+FUAiwr8IGhMZQAMn28AdqBxA8kV7vJAeIEBi+IiYEukhQNKqlnSUsyNAQl2kUBZ+JUCyD7IsmEgnQCLCvwgaEylAk3TN5JvdKkADJ9vAHagsQHPZ6Jyfci5A8kV7vJAeMEAqH4Kq0QMxQGL4iJgS6TFAmtGPhlPOMkDSqpZ0lLMzQAqEnWLVmDRApvCg2XULNUBCXaRQFn41QHo2qz5XYzZAsg+yLJhIN0Dq6Lga2S04QCLCvwgaEzlAW5vG9lr4OUCTdM3km906QMtN1NLcwjtAAyfbwB2oPEA7AOKuXo09QHPZ6Jyfcj5Aq7LviuBXP0DyRXu8kB5AQI6yfjMxkUBAKh+CqtEDQUB41QPmIT1BQMaLhSFydkFAYviImBLpQUD+ZIwPs1tCQEwbDksDlUJAmtGPhlPOQkDohxHCowdDQDY+k/3zQENAq8/VVuyWQ0DSqpZ0lLNDQCBhGLDk7ENAbhea6zQmREC8zRsnhV9EQAqEnWLVmERApvCg2XULRUBCXaRQFn5FQN7Jp8e28EVAejarPldjRkAWo66199VGQLIPsiyYSEdATny1ozi7R0CcMjffiPRHQOrouBrZLUhAOJ86VilnSECGVbyReaBIQCLCvwgaE0lAvy7Df7qFSUBbm8b2WvhJQKlRSDKrMUpA9wfKbftqSkBFvkupS6RKQGyZDMfzwEpAk3TN5JvdSkDhKk8g7BZLQC/h0Fs8UEtAfZdSl4yJS0DLTdTS3MJLQBkEVg4t/EtAZ7rXSX01TEC1cFmFzW5MQAMn28AdqExAeLgdGhb+TEA7AOKuXo1NQIm2Y+quxk1Ac9nonJ9yTkDoaiv2l8hOQF38bU+QHk9Aq7LviuBXT0BHH/MBgcpPQPJFe7yQHlBArI4c6YxJUEC1jT9R2a1QQCofgqrRA1FA5Gcj180uUUDGi4UhcnZRQBRCB13Cr1FAOx3IemrMUUBi+IiYEulRQBxBKsUOFFJA/mSMD7NbUkAlQE0tW3hSQJrRj4ZTzlJAD2PS30skU0A2PpP980BTQF0ZVBucXVNAhPQUOUR6U0DSqpZ0lLNTQCBhGLDk7FNA2qm53OAXVEC8zRsnhV9UQHcWvVOBilRAMV9egH21VEBYOh+eJdJUQKbwoNl1C1VAzcth9x0oVUD0piIVxkRVQBuC4zJuYVVAQl2kUBZ+VUD9pUV9EqlVQN7Jp8e28FVABaVo5V4NVkAsgCkDBypWQFNb6iCvRlZAejarPldjVkBkWTDxRw9XQLIPsiyYSFdAV3vYC4UfWEDq6Lga2S1YQNQLPs3J2VhAIsK/CBoTWUAN5US7Cr9ZQFubxvZa+FlA/wbt1UfPWkCTdM3km91aQDfg88OItFtAy03U0tzCW0BnutdJfTVcQAMn28AdqFxAn5PeN74aXUDGbp9VZjddQO1JYHMOVF1AFCUhkbZwXUA7AOKuXo1dQCUjZ2FPOV5Ac9nonJ9yXkAYRQ98jElfQKuy74rgV19Ay2q6nugBYEDyRXu8kB5gQGfXvRWJdGBAjrJ+MzGRYEAqH4Kq0QNhQMaLhSFydmFAYviImBLpYUD1ZWmnZvdhQInTSba6BWJAHEEqxQ4UYkCwrgrUYiJiQEMc6+K2MGJA14nL8Qo/YkBq96sAX01iQP5kjA+zW2JAmtGPhlPOYkA2PpP980BjQNKqlnSUs2NAbhea6zQmZEAKhJ1i1ZhkQA==\",\"dtype\":\"float64\",\"order\":\"little\",\"shape\":[167]},\"top\":{\"__ndarray__\":\"ZmZmZmZmOkBmZmZmZmY4QGZmZmZmZjhAZmZmZmZmN0BmZmZmZmY8QGZmZmZmZj9AZmZmZmZmPEBmZmZmZmY/QGZmZmZmZjxAZmZmZmZmP0BmZmZmZmY8QDMzMzMzs0FAMzMzMzMzREBmZmZmZmY8QGZmZmZmZjxAZmZmZmZmPEBmZmZmZmY6QGZmZmZmZjhAZmZmZmZmOEBmZmZmZmY4QGZmZmZmZjpAZmZmZmZmPUBmZmZmZmY6QGZmZmZmZj1AZmZmZmZmNUBmZmZmZmY4QGZmZmZmZjhAZmZmZmZmO0BmZmZmZmY8QGZmZmZmZjpAZmZmZmZmP0BmZmZmZmY9QGZmZmZmZj9AMzMzMzOzQEAzMzMzMzNCQDMzMzMzM0JAMzMzMzOzREAzMzMzMzNEQDMzMzMzM0RAZmZmZmZmP0BmZmZmZmY/QDMzMzMzs0FAMzMzMzOzQEBmZmZmZmY6QGZmZmZmZjVAZmZmZmZmOkBmZmZmZmY6QGZmZmZmZjpAMzMzMzOzQUAzMzMzMzNCQDMzMzMzM0JAMzMzMzMzQkBmZmZmZmY6QDMzMzMzM0JAZmZmZmZmP0AzMzMzM7NAQDMzMzMzM0JAMzMzMzMzQkAzMzMzM7NEQDMzMzMzM0RAMzMzMzMzREBmZmZmZmY8QGZmZmZmZj9AZmZmZmZmP0AzMzMzM7NBQDMzMzMzs0BAMzMzMzMzQ0AzMzMzMzNCQDMzMzMzM0JAMzMzMzMzQkAzMzMzMzNDQDMzMzMzs0FAMzMzMzOzQEAzMzMzM7NAQDMzMzMzs0BAMzMzMzOzQEBmZmZmZmY/QGZmZmZmZj9AZmZmZmZmP0BmZmZmZmY/QGZmZmZmZj1AZmZmZmZmPUBmZmZmZmY9QDMzMzMzM0JAMzMzMzOzREBmZmZmZmY6QGZmZmZmZj9AZmZmZmZmPUBmZmZmZmYxQDMzMzMzs0BAMzMzMzOzQEAzMzMzM7NBQDMzMzMzs0BAMzMzMzOzQEBmZmZmZmY/QGZmZmZmZj1AZmZmZmZmP0BmZmZmZmY9QGZmZmZmZj1AZmZmZmZmPUAzMzMzMzNCQDMzMzMzM0JAMzMzMzOzQEAzMzMzMzNDQDMzMzMzs0ZAMzMzMzMzSEAzMzMzMzNDQGZmZmZmZj9AMzMzMzOzQEAzMzMzMzNAQGZmZmZmZj9AMzMzMzMzQkAzMzMzM7NHQDMzMzMzM0RAMzMzMzMzQ0AzMzMzMzNCQDMzMzMzs0BAZmZmZmZmP0BmZmZmZmY/QGZmZmZmZj9AZmZmZmZmP0AzMzMzM7NAQDMzMzMzs0FAMzMzMzMzQkAzMzMzMzNCQDMzMzMzs0FAMzMzMzOzQUAzMzMzMzNEQDMzMzMzM0pAMzMzMzOzQEAzMzMzM7NFQDMzMzMzM0NAMzMzMzMzREAzMzMzM7NEQDMzMzMzs0RAMzMzMzOzRUAzMzMzMzNJQDMzMzMzs0VAMzMzMzMzSkAzMzMzM7NFQDMzMzMzs0RAMzMzMzOzQUAzMzMzMzNCQDMzMzMzM0JAMzMzMzOzQUAzMzMzM7NBQGZmZmZmZjxAMzMzMzMzSkAzMzMzM7NAQDMzMzMzs0VAMzMzMzMzQUAzMzMzM7NAQDMzMzMzs0FAZmZmZmZmP0BmZmZmZmY8QDMzMzMzM0JAMzMzMzOzRUBmZmZmZmY/QGZmZmZmZjxAMzMzMzOzQEBmZmZmZmY8QGZmZmZmZj1AMzMzMzMzQkAzMzMzMzNBQGZmZmZmZj1AZmZmZmZmP0AzMzMzMzNDQA==\",\"dtype\":\"float64\",\"order\":\"little\",\"shape\":[167]},\"velocity\":[98,98,98,98,98,98,98,98,98,98,98,98,98,98,98,98,98,98,98,98,98,98,98,98,98,98,98,98,98,98,98,98,98,98,98,98,98,98,98,98,98,98,98,98,98,98,98,98,98,98,98,98,98,98,98,98,98,98,98,98,98,98,98,98,98,98,98,98,98,98,98,98,98,98,98,98,98,98,98,98,98,98,98,98,98,98,98,98,98,98,98,98,98,98,98,98,98,98,98,98,98,98,98,98,98,98,98,98,98,98,98,98,98,98,98,98,98,98,98,98,98,98,98,98,98,98,98,98,98,98,98,98,98,98,98,98,98,98,98,98,98,98,98,98,98,98,98,98,98,98,98,98,98,98,98,98,98,98,98,98,98,98,98,98,98,98,98]},\"selected\":{\"id\":\"1081\"},\"selection_policy\":{\"id\":\"1080\"}},\"id\":\"1048\",\"type\":\"ColumnDataSource\"},{\"attributes\":{},\"id\":\"1076\",\"type\":\"UnionRenderers\"},{\"attributes\":{\"data\":{\"bottom\":{\"__ndarray__\":\"zczMzMzMSEDNzMzMzExMQM3MzMzMzEhAzczMzMzMSUDNzMzMzMxJQM3MzMzMTEpAzczMzMxMSkDNzMzMzMxHQM3MzMzMTExAzczMzMxMS0DNzMzMzExLQM3MzMzMzE1AzczMzMxMTkDNzMzMzExNQM3MzMzMTEtAzczMzMxMS0DNzMzMzExLQM3MzMzMTExAzczMzMzMSUBmZmZmZqZQQM3MzMzMzE1AzczMzMxMT0DNzMzMzMxIQM3MzMzMzE1AzczMzMzMTUDNzMzMzExNQM3MzMzMzE1AzczMzMzMTUDNzMzMzMxIQM3MzMzMzE1AzczMzMxMTUDNzMzMzExNQM3MzMzMTEpAzczMzMxMSkDNzMzMzExJQM3MzMzMTEpAzczMzMzMTUDNzMzMzExMQM3MzMzMTExAzczMzMxMSUDNzMzMzMxJQM3MzMzMzE9AzczMzMxMTEDNzMzMzExMQM3MzMzMzE1AZmZmZmYmUEBmZmZmZmZQQM3MzMzMzE9AzczMzMzMT0BmZmZmZqZQQM3MzMzMzE9AZmZmZmYmUEDNzMzMzMxIQM3MzMzMzE9AZmZmZmbmUkDNzMzMzMxOQGZmZmZmplFAZmZmZmZmUkDNzMzMzMxOQGZmZmZmplFAzczMzMxMTEDNzMzMzExMQM3MzMzMzE1AZmZmZmYmUEBmZmZmZmZQQM3MzMzMzE9AzczMzMzMT0BmZmZmZqZQQM3MzMzMzE9AZmZmZmYmUEDNzMzMzMxIQM3MzMzMTEtAzczMzMzMTUDNzMzMzExMQM3MzMzMzE1AzczMzMzMTUDNzMzMzMxNQM3MzMzMTEtAzczMzMzMTUDNzMzMzMxNQM3MzMzMTExAZmZmZmbmUUDNzMzMzMxPQM3MzMzMzE5AZmZmZmbmUkBmZmZmZuZSQGZmZmZm5lJAZmZmZmamUUBmZmZmZqZTQGZmZmZm5lJAZmZmZmbmUkBmZmZmZuZSQGZmZmZm5lJAZmZmZmbmUkBmZmZmZuZSQGZmZmZm5lJAzczMzMxMR0DNzMzMzExKQM3MzMzMTEtAZmZmZmbmUkBmZmZmZuZSQGZmZmZmJlNAZmZmZmYmU0BmZmZmZiZTQGZmZmZmJlNAZmZmZmbmUkBmZmZmZuZSQGZmZmZmplFAZmZmZmamU0BmZmZmZuZSQGZmZmZm5lFAZmZmZmbmUkBmZmZmZiZTQGZmZmZmJlNAZmZmZmYmU0BmZmZmZiZTQM3MzMzMzE9AzczMzMzMT0BmZmZmZiZQQM3MzMzMzE9AzczMzMzMTkDNzMzMzMxPQM3MzMzMzE1AzczMzMxMTEBmZmZmZiZRQGZmZmZmplBAZmZmZmYmUEBmZmZmZiZQQGZmZmZmplBAzczMzMxMSkBmZmZmZiZQQGZmZmZmJlBAZmZmZmYmUEDNzMzMzMxJQM3MzMzMzE9AZmZmZmamUEBmZmZmZqZQQM3MzMzMzExAZmZmZmYmUEBmZmZmZiZQQGZmZmZmJlBAzczMzMxMSkDNzMzMzMxNQGZmZmZmJlFAZmZmZmYmUUDNzMzMzExKQGZmZmZmJlBAZmZmZmYmUEBmZmZmZiZQQA==\",\"dtype\":\"float64\",\"order\":\"little\",\"shape\":[149]},\"duration\":{\"__ndarray__\":\"Ql2kUBZ+9T9CXaRQFn71PwQn28AdqNw/BCfbwB2o3D8AJ9vAHajcPwAn28AdqNw/ECfbwB2ozD8EJ9vAHajsPwQn28AdqOw/ACfbwB2o7D8AJ9vAHajcPxAn28AdqNw/ACfbwB2ozD8AJ9vAHajMPwAn28AdqMw/ACfbwB2ozD8AJ9vAHajcPwAn28AdqNw/ACfbwB2o7D8AJ9vAHajcPwAn28AdqNw/ACfbwB2o3D9AXaRQFn71PxAn28AdqOw/ACfbwB2o3D8AJ9vAHajcPwAn28AdqNw/ACfbwB2ozD8AJ9vAHajsPwAn28AdqOw/ACfbwB2o3D8AJ9vAHajsPwAn28AdqMw/ACfbwB2o3D8AJ9vAHajMPwAn28AdqMw/ACfbwB2o3D9g+IiYEukBQAAn28AdqMw/ACfbwB2o3D8AJ9vAHajsPwAn28AdqOw/ACfbwB2o/D8AJ9vAHajsPwAn28AdqOw/ACfbwB2o3D9AJ9vAHajcPwAn28AdqPw/ACfbwB2o3D8AJ9vAHajcP0BdpFAWfuU/ACfbwB2ozD8AJ9vAHaj8P0BdpFAWfvU/QF2kUBZ+9T9AXaRQFn71PwAn28AdqNw/QF2kUBZ+9T8AJ9vAHajcPwAn28AdqNw/ACfbwB2o/D8AJ9vAHajsPwAn28AdqOw/ACfbwB2o3D8AJ9vAHajcPwAn28AdqPw/ACfbwB2o3D8AJ9vAHajcP0BdpFAWfuU/ACfbwB2ozD8gJ9vAHaj8PwAn28AdqAxAACfbwB2o3D8gwr8IGhMZQAAn28AdqOw/QCfbwB2o7D8AJ9vAHajcPyDCvwgaExlAACfbwB2o7D8AJ9vAHajsPyDCvwgaExlAIMK/CBoTGUAAJ9vAHajcPwBdpFAWfuU/ACfbwB2o7D8AJ9vAHajcPwAn28AdqOw/ACfbwB2o/D8AJ9vAHaj8PwAn28AdqOw/ACfbwB2o7D8AJ9vAHajcPwAn28AdqOw/ACfbwB2o7D8AJ9vAHajsPwAn28AdqNw/QF2kUBZ+9T9AXaRQFn71P0BdpFAWfvU/ACfbwB2o7D8AKNvAHajcPwAn28AdqOw/ACjbwB2o3D8AJ9vAHajsPwAn28AdqOw/ACfbwB2o7D8AKNvAHajcPwAn28AdqOw/ACfbwB2o7D8AJ9vAHajsPwAn28AdqOw/ACfbwB2o7D8AJ9vAHajsPwAo28AdqNw/ACfbwB2o7D8AJ9vAHajsPwAn28AdqOw/ACjbwB2o3D8AJtvAHajcPwAn28AdqOw/ACjbwB2o3D8AJtvAHajcPwAo28AdqNw/ACbbwB2o3D8AKNvAHajcPwAm28AdqNw/ACjbwB2o3D8AJtvAHajcPwAn28AdqOw/ACfbwB2o7D8AJ9vAHaj8PwAn28AdqOw/ACfbwB2o7D8AJ9vAHajsPwAn28AdqOw/ACfbwB2o7D8AJ9vAHajsPwAn28AdqOw/ACfbwB2o/D8AJ9vAHajsPwAn28AdqOw/ACfbwB2o7D8AJ9vAHaj8PwAn28AdqOw/ACfbwB2o7D8AJ9vAHajsP4An28AdqPw/ACfbwB2o7D8AJ9vAHajsPw==\",\"dtype\":\"float64\",\"order\":\"little\",\"shape\":[149]},\"end_time\":{\"__ndarray__\":\"Ql2kUBZ+9T9CXaRQFn71PwMn28AdqPw/YviImBLpAUBCXaRQFn4FQCLCvwgaEwlAk3TN5JvdCkAqH4Kq0QMRQCofgqrRAxFAsg+yLJhIF0Aiwr8IGhMZQJN0zeSb3RpAy03U0tzCG0ADJ9vAHagcQMaLhSFydiFAYviImBLpIUCa0Y+GU84iQNKqlnSUsyNAFqOutffVJkCTdM3km90qQMtN1NLcwitAAyfbwB2oLECrsu+K4FcvQI6yfjMxkTBAKh+CqtEDMUDGi4UhcnYxQGL4iJgS6TFAYviImBLpMUBMGw5LA5UyQG4Xmus0JjRACoSdYtWYNEBCXaRQFn41QJATJoxmtzVALIApAwcqNkB6Nqs+V2M2QMjsLHqnnDZAZFkw8UcPN0CyD7IsmEg3QLIPsiyYSDdATny1ozi7N0Aiwr8IGhM5QAMn28AdqDxAc9nonJ9yPkBz2eicn3I+QKuy74rgVz9ARx/zAYHKP0DyRXu8kB5AQCofgqrRA0FAKh+CqtEDQUDGi4UhcnZBQDsdyHpqzEFAYviImBLpQUCa0Y+GU85CQLzNGyeFX0RAvM0bJ4VfRECm8KDZdQtFQKbwoNl1C0VApvCg2XULRUD0piIVxkRFQEJdpFAWfkVAejarPldjRkB6Nqs+V2NGQBajrrX31UZAZFkw8UcPR0CyD7IsmEhHQOrouBrZLUhA6ui4GtktSECGVbyReaBIQPvm/upx9khAIsK/CBoTSUBbm8b2WvhJQAMn28AdqExAq7LviuBXT0BHH/MBgcpPQEcf8wGByk9A8kV7vJAeUEDGi4UhcnZRQBRCB13Cr1FAFEIHXcKvUUBi+IiYEulRQIT0FDlEelNA9KYiFcZEVUBpOGVuvppVQLfu5qkO1FVAsJEkCFfjXUDXbOUl//9dQEz+J3/3VV5Ac9nonJ9yXkBz2eicn3JeQJq0qbpHj15A6Gor9pfIXkAPRuwTQOVeQITXLm04O19A0o2wqIh0X0AgRDLk2K1fQEcf8wGByl9AXtiarTwQYEBe2JqtPBBgQF7Ymq08EGBAXtiarTwQYEDyRXu8kB5gQKyOHOmMSWBAQPz89+BXYED6RJ4k3YJgQCEgX0KFn2BASPsfYC28YEDcaABvgcpgQANEwYwp52BAA0TBjCnnYECWsaGbffVgQCofgqrRA2FAvYxiuSUSYUDkZyPXzS5hQHjVA+YhPWFAMh6lEh5oYUBZ+WUwxoRhQIDUJk5uoWFAFEIHXcKvYUCnr+drFr5hQM6KqIm+2mFAYviImBLpYUD1ZWmnZvdhQInTSba6BWJAHEEqxQ4UYkCwrgrUYiJiQEMc6+K2MGJA14nL8Qo/YkBq96sAX01iQJHSbB4HamJAuK0tPK+GYkAGZK93/79iQAZkr3f/v2JALT9wlafcYkBUGjGzT/liQHv18dD3FWNAotCy7p8yY0DJq3MMSE9jQPCGNCrwa2NAPj22ZUClY0A+PbZlQKVjQGUYd4PowWNAjPM3oZDeY0Daqbnc4BdkQNqpudzgF2RAAYV6+og0ZEAoYDsYMVFkQHcWvVOBimRAdxa9U4GKZECe8X1xKadkQA==\",\"dtype\":\"float64\",\"order\":\"little\",\"shape\":[149]},\"fill_alpha\":{\"__ndarray__\":\"AAAAAACA5D8AAAAAAIDkPwAAAAAAgOQ/AAAAAACA5D8AAAAAAIDkPwAAAAAAgOQ/AAAAAACA5D8AAAAAAIDkPwAAAAAAgOQ/AAAAAACA5D8AAAAAAIDkPwAAAAAAgOQ/AAAAAACA5D8AAAAAAIDkPwAAAAAAgOQ/AAAAAACA5D8AAAAAAIDkPwAAAAAAgOQ/AAAAAACA5D8AAAAAAIDkPwAAAAAAgOQ/AAAAAACA5D8AAAAAAIDkPwAAAAAAgOQ/AAAAAACA5D8AAAAAAIDkPwAAAAAAgOQ/AAAAAACA5D8AAAAAAIDkPwAAAAAAgOQ/AAAAAACA5D8AAAAAAIDkPwAAAAAAgOQ/AAAAAACA5D8AAAAAAIDkPwAAAAAAgOQ/AAAAAACA5D8AAAAAAIDkPwAAAAAAgOQ/AAAAAACA5D8AAAAAAIDkPwAAAAAAgOQ/AAAAAACA5D8AAAAAAIDkPwAAAAAAgOQ/AAAAAACA5D8AAAAAAIDkPwAAAAAAgOQ/AAAAAACA5D8AAAAAAIDkPwAAAAAAgOQ/AAAAAACA5D8AAAAAAIDkPwAAAAAAgOQ/AAAAAACA5D8AAAAAAIDkPwAAAAAAgOQ/AAAAAACA5D8AAAAAAIDkPwAAAAAAgOQ/AAAAAACA5D8AAAAAAIDkPwAAAAAAgOQ/AAAAAACA5D8AAAAAAIDkPwAAAAAAgOQ/AAAAAACA5D8AAAAAAIDkPwAAAAAAgOQ/AAAAAACA5D8AAAAAAIDkPwAAAAAAgOQ/AAAAAACA5D8AAAAAAIDkPwAAAAAAgOQ/AAAAAACA5D8AAAAAAIDkPwAAAAAAgOQ/AAAAAACA5D8AAAAAAIDkPwAAAAAAgOQ/AAAAAACA5D8AAAAAAIDkPwAAAAAAgOQ/AAAAAACA5D8AAAAAAIDkPwAAAAAAgOQ/AAAAAACA5D8AAAAAAIDkPwAAAAAAgOQ/AAAAAACA5D8AAAAAAIDkPwAAAAAAgOQ/AAAAAACA5D8AAAAAAIDkPwAAAAAAgOQ/AAAAAACA5D8AAAAAAIDkPwAAAAAAgOQ/AAAAAACA5D8AAAAAAIDkPwAAAAAAgOQ/AAAAAACA5D8AAAAAAIDkPwAAAAAAgOQ/AAAAAACA5D8AAAAAAIDkPwAAAAAAgOQ/AAAAAACA5D8AAAAAAIDkPwAAAAAAgOQ/AAAAAACA5D8AAAAAAIDkPwAAAAAAgOQ/AAAAAACA5D8AAAAAAIDkPwAAAAAAgOQ/AAAAAACA5D8AAAAAAIDkPwAAAAAAgOQ/AAAAAACA5D8AAAAAAIDkPwAAAAAAgOQ/AAAAAACA5D8AAAAAAIDkPwAAAAAAgOQ/AAAAAACA5D8AAAAAAIDkPwAAAAAAgOQ/AAAAAACA5D8AAAAAAIDkPwAAAAAAgOQ/AAAAAACA5D8AAAAAAIDkPwAAAAAAgOQ/AAAAAACA5D8AAAAAAIDkPwAAAAAAgOQ/AAAAAACA5D8AAAAAAIDkPwAAAAAAgOQ/AAAAAACA5D8AAAAAAIDkPwAAAAAAgOQ/AAAAAACA5D8AAAAAAIDkPwAAAAAAgOQ/AAAAAACA5D8AAAAAAIDkPw==\",\"dtype\":\"float64\",\"order\":\"little\",\"shape\":[149]},\"index\":[378,379,380,381,382,383,384,385,386,387,388,389,390,391,392,393,394,395,396,397,398,399,400,401,402,403,404,405,406,407,408,409,410,411,412,413,414,415,416,417,418,419,420,421,422,423,424,425,426,427,428,429,430,431,432,433,434,435,436,437,438,439,440,441,442,443,444,445,446,447,448,449,450,451,452,453,454,455,456,457,458,459,460,461,462,463,464,465,466,467,468,469,470,471,472,473,474,475,476,477,478,479,480,481,482,483,484,485,486,487,488,489,490,491,492,493,494,495,496,497,498,499,500,501,502,503,504,505,506,507,508,509,510,511,512,513,514,515,516,517,518,519,520,521,522,523,524,525,526],\"instrument\":[1,1,1,1,1,1,1,1,1,1,1,1,1,1,1,1,1,1,1,1,1,1,1,1,1,1,1,1,1,1,1,1,1,1,1,1,1,1,1,1,1,1,1,1,1,1,1,1,1,1,1,1,1,1,1,1,1,1,1,1,1,1,1,1,1,1,1,1,1,1,1,1,1,1,1,1,1,1,1,1,1,1,1,1,1,1,1,1,1,1,1,1,1,1,1,1,1,1,1,1,1,1,1,1,1,1,1,1,1,1,1,1,1,1,1,1,1,1,1,1,1,1,1,1,1,1,1,1,1,1,1,1,1,1,1,1,1,1,1,1,1,1,1,1,1,1,1,1,1],\"pitch\":[50,57,50,52,52,53,53,48,57,55,55,60,61,59,55,55,55,57,52,67,60,63,50,60,60,59,60,60,50,60,59,59,53,53,51,53,60,57,57,51,52,64,57,57,60,65,66,64,64,67,64,65,50,64,76,62,71,74,62,71,57,57,60,65,66,64,64,67,64,65,50,55,60,57,60,60,60,55,60,60,57,72,64,62,76,76,76,71,79,76,76,76,76,76,76,76,47,53,55,76,76,77,77,77,77,76,76,71,79,76,72,76,77,77,77,77,64,64,65,64,62,64,60,57,69,67,65,65,67,53,65,65,65,52,64,67,67,58,65,65,65,53,60,69,69,53,65,65,65],\"program\":[25,25,25,25,25,25,25,25,25,25,25,25,25,25,25,25,25,25,25,25,25,25,25,25,25,25,25,25,25,25,25,25,25,25,25,25,25,25,25,25,25,25,25,25,25,25,25,25,25,25,25,25,25,25,25,25,25,25,25,25,25,25,25,25,25,25,25,25,25,25,25,25,25,25,25,25,25,25,25,25,25,25,25,25,25,25,25,25,25,25,25,25,25,25,25,25,25,25,25,25,25,25,25,25,25,25,25,25,25,25,25,25,25,25,25,25,25,25,25,25,25,25,25,25,25,25,25,25,25,25,25,25,25,25,25,25,25,25,25,25,25,25,25,25,25,25,25,25,25],\"start_time\":{\"__ndarray__\":\"AAAAAAAAAAAAAAAAAAAAAEJdpFAWfvU/AyfbwB2o/D9i+IiYEukBQEJdpFAWfgVAIsK/CBoTCUCTdM3km90KQJN0zeSb3QpA0qqWdJSzE0CyD7IsmEgXQCLCvwgaExlAk3TN5JvdGkDLTdTS3MIbQCofgqrRAyFAxouFIXJ2IUBi+IiYEukhQJrRj4ZTziJApvCg2XULJUBbm8b2WvgpQJN0zeSb3SpAy03U0tzCK0ADJ9vAHagsQKuy74rgVy9AjrJ+MzGRMEAqH4Kq0QMxQMaLhSFydjFAFEIHXcKvMUAUQgddwq8xQDY+k/3zQDNAbhea6zQmNEAKhJ1i1Zg0QEJdpFAWfjVAkBMmjGa3NUAsgCkDByo2QHo2qz5XYzZAyOwseqecNkCm8KDZdQs1QGRZMPFHDzdAsg+yLJhIN0Dq6Lga2S04QMtN1NLcwjtAAyfbwB2oPEA7AOKuXo09QHPZ6Jyfcj5Aq7LviuBXP0BHH/MBgco/QPJFe7yQHkBA3GgAb4HKQEB41QPmIT1BQMaLhSFydkFAOx3IemrMQUBi+IiYEulBQNKqlnSUs0NA0qqWdJSzQ0C8zRsnhV9EQFg6H54l0kRAvM0bJ4VfRECm8KDZdQtFQPSmIhXGREVAQl2kUBZ+RUDeyafHtvBFQHo2qz5XY0ZAFqOutffVRkBkWTDxRw9HQLIPsiyYSEdAnDI334j0R0A4nzpWKWdIQIZVvJF5oEhA++b+6nH2SEAiwr8IGhNJQJN0zeSb3UpAXfxtT5AeT0ADJ9vAHahMQKuy74rgV09ARx/zAYHKT0CfsMQDyllRQPJFe7yQHlBAxouFIXJ2UUAUQgddwq9RQGL4iJgS6VFA0qqWdJSzU0BCXaRQFn5VQP2lRX0SqVVAYtuizAaqXUCwkSQIV+NdQP5HpkOnHF5A12zlJf//XUDXbOUl//9dQEz+J3/3VV5AmrSpukePXkDoaiv2l8heQDYhrTHoAV9AhNcubTg7X0DSjbCoiHRfQCBEMuTYrV9ARx/zAYHKX0BHH/MBgcpfQEcf8wGByl9AbvqzHynnX0Be2JqtPBBgQIWzW8vkLGBArI4c6YxJYEDTad0GNWZgQPpEniTdgmBAISBfQoWfYEBI+x9gLbxgQNxoAG+BymBA3GgAb4HKYEBv1uB91dhgQANEwYwp52BAlrGhm331YEC9jGK5JRJhQORnI9fNLmFAC0Pk9HVLYUAyHqUSHmhhQFn5ZTDGhGFAgNQmTm6hYUAUQgddwq9hQKev52sWvmFAzoqoib7aYUBi+IiYEulhQPVlaadm92FAidNJtroFYkAcQSrFDhRiQLCuCtRiImJAQxzr4rYwYkDXicvxCj9iQGr3qwBfTWJAkdJsHgdqYkC4rS08r4ZiQN+I7llXo2JABmSvd/+/YkAtP3CVp9xiQFQaMbNP+WJAe/Xx0PcVY0Ci0LLunzJjQMmrcwxIT2NA8IY0KvBrY0AXYvVHmIhjQD49tmVApWNAZRh3g+jBY0CM8zehkN5jQLPO+L44+2NA2qm53OAXZEABhXr6iDRkQChgOxgxUWRAUDv8NdltZEB3Fr1TgYpkQA==\",\"dtype\":\"float64\",\"order\":\"little\",\"shape\":[149]},\"top\":{\"__ndarray__\":\"MzMzMzMzSUAzMzMzM7NMQDMzMzMzM0lAMzMzMzMzSkAzMzMzMzNKQDMzMzMzs0pAMzMzMzOzSkAzMzMzMzNIQDMzMzMzs0xAMzMzMzOzS0AzMzMzM7NLQDMzMzMzM05AMzMzMzOzTkAzMzMzM7NNQDMzMzMzs0tAMzMzMzOzS0AzMzMzM7NLQDMzMzMzs0xAMzMzMzMzSkCamZmZmdlQQDMzMzMzM05AMzMzMzOzT0AzMzMzMzNJQDMzMzMzM05AMzMzMzMzTkAzMzMzM7NNQDMzMzMzM05AMzMzMzMzTkAzMzMzMzNJQDMzMzMzM05AMzMzMzOzTUAzMzMzM7NNQDMzMzMzs0pAMzMzMzOzSkAzMzMzM7NJQDMzMzMzs0pAMzMzMzMzTkAzMzMzM7NMQDMzMzMzs0xAMzMzMzOzSUAzMzMzMzNKQJqZmZmZGVBAMzMzMzOzTEAzMzMzM7NMQDMzMzMzM05AmpmZmZlZUECamZmZmZlQQJqZmZmZGVBAmpmZmZkZUECamZmZmdlQQJqZmZmZGVBAmpmZmZlZUEAzMzMzMzNJQJqZmZmZGVBAmpmZmZkZU0AzMzMzMzNPQJqZmZmZ2VFAmpmZmZmZUkAzMzMzMzNPQJqZmZmZ2VFAMzMzMzOzTEAzMzMzM7NMQDMzMzMzM05AmpmZmZlZUECamZmZmZlQQJqZmZmZGVBAmpmZmZkZUECamZmZmdlQQJqZmZmZGVBAmpmZmZlZUEAzMzMzMzNJQDMzMzMzs0tAMzMzMzMzTkAzMzMzM7NMQDMzMzMzM05AMzMzMzMzTkAzMzMzMzNOQDMzMzMzs0tAMzMzMzMzTkAzMzMzMzNOQDMzMzMzs0xAmpmZmZkZUkCamZmZmRlQQDMzMzMzM09AmpmZmZkZU0CamZmZmRlTQJqZmZmZGVNAmpmZmZnZUUCamZmZmdlTQJqZmZmZGVNAmpmZmZkZU0CamZmZmRlTQJqZmZmZGVNAmpmZmZkZU0CamZmZmRlTQJqZmZmZGVNAMzMzMzOzR0AzMzMzM7NKQDMzMzMzs0tAmpmZmZkZU0CamZmZmRlTQJqZmZmZWVNAmpmZmZlZU0CamZmZmVlTQJqZmZmZWVNAmpmZmZkZU0CamZmZmRlTQJqZmZmZ2VFAmpmZmZnZU0CamZmZmRlTQJqZmZmZGVJAmpmZmZkZU0CamZmZmVlTQJqZmZmZWVNAmpmZmZlZU0CamZmZmVlTQJqZmZmZGVBAmpmZmZkZUECamZmZmVlQQJqZmZmZGVBAMzMzMzMzT0CamZmZmRlQQDMzMzMzM05AMzMzMzOzTECamZmZmVlRQJqZmZmZ2VBAmpmZmZlZUECamZmZmVlQQJqZmZmZ2VBAMzMzMzOzSkCamZmZmVlQQJqZmZmZWVBAmpmZmZlZUEAzMzMzMzNKQJqZmZmZGVBAmpmZmZnZUECamZmZmdlQQDMzMzMzM01AmpmZmZlZUECamZmZmVlQQJqZmZmZWVBAMzMzMzOzSkAzMzMzMzNOQJqZmZmZWVFAmpmZmZlZUUAzMzMzM7NKQJqZmZmZWVBAmpmZmZlZUECamZmZmVlQQA==\",\"dtype\":\"float64\",\"order\":\"little\",\"shape\":[149]},\"velocity\":[82,82,82,82,82,82,82,82,82,82,82,82,82,82,82,82,82,82,82,82,82,82,82,82,82,82,82,82,82,82,82,82,82,82,82,82,82,82,82,82,82,82,82,82,82,82,82,82,82,82,82,82,82,82,82,82,82,82,82,82,82,82,82,82,82,82,82,82,82,82,82,82,82,82,82,82,82,82,82,82,82,82,82,82,82,82,82,82,82,82,82,82,82,82,82,82,82,82,82,82,82,82,82,82,82,82,82,82,82,82,82,82,82,82,82,82,82,82,82,82,82,82,82,82,82,82,82,82,82,82,82,82,82,82,82,82,82,82,82,82,82,82,82,82,82,82,82,82,82]},\"selected\":{\"id\":\"1079\"},\"selection_policy\":{\"id\":\"1078\"}},\"id\":\"1041\",\"type\":\"ColumnDataSource\"},{\"attributes\":{\"bottom_units\":\"screen\",\"coordinates\":null,\"fill_alpha\":0.5,\"fill_color\":\"lightgrey\",\"group\":null,\"left_units\":\"screen\",\"level\":\"overlay\",\"line_alpha\":1.0,\"line_color\":\"black\",\"line_dash\":[4,4],\"line_width\":2,\"right_units\":\"screen\",\"syncable\":false,\"top_units\":\"screen\"},\"id\":\"1024\",\"type\":\"BoxAnnotation\"},{\"attributes\":{\"source\":{\"id\":\"1055\"}},\"id\":\"1061\",\"type\":\"CDSView\"},{\"attributes\":{},\"id\":\"1077\",\"type\":\"Selection\"},{\"attributes\":{\"bottom\":{\"field\":\"bottom\"},\"fill_alpha\":{\"value\":0.2},\"fill_color\":{\"value\":\"#3288bd\"},\"hatch_alpha\":{\"value\":0.2},\"left\":{\"field\":\"start_time\"},\"line_alpha\":{\"value\":0.2},\"right\":{\"field\":\"end_time\"},\"top\":{\"field\":\"top\"}},\"id\":\"1045\",\"type\":\"Quad\"},{\"attributes\":{\"coordinates\":null,\"data_source\":{\"id\":\"1055\"},\"glyph\":{\"id\":\"1057\"},\"group\":null,\"hover_glyph\":null,\"muted_glyph\":{\"id\":\"1059\"},\"nonselection_glyph\":{\"id\":\"1058\"},\"view\":{\"id\":\"1061\"}},\"id\":\"1060\",\"type\":\"GlyphRenderer\"},{\"attributes\":{\"bottom\":{\"field\":\"bottom\"},\"fill_alpha\":{\"value\":0.1},\"fill_color\":{\"value\":\"#66c2a5\"},\"hatch_alpha\":{\"value\":0.1},\"left\":{\"field\":\"start_time\"},\"line_alpha\":{\"value\":0.1},\"right\":{\"field\":\"end_time\"},\"top\":{\"field\":\"top\"}},\"id\":\"1058\",\"type\":\"Quad\"},{\"attributes\":{\"tools\":[{\"id\":\"1019\"},{\"id\":\"1020\"},{\"id\":\"1021\"},{\"id\":\"1022\"},{\"id\":\"1023\"}]},\"id\":\"1025\",\"type\":\"Toolbar\"},{\"attributes\":{},\"id\":\"1080\",\"type\":\"UnionRenderers\"},{\"attributes\":{},\"id\":\"1084\",\"type\":\"UnionRenderers\"},{\"attributes\":{\"bottom\":{\"field\":\"bottom\"},\"fill_alpha\":{\"field\":\"fill_alpha\"},\"fill_color\":{\"value\":\"#66c2a5\"},\"left\":{\"field\":\"start_time\"},\"right\":{\"field\":\"end_time\"},\"top\":{\"field\":\"top\"}},\"id\":\"1057\",\"type\":\"Quad\"},{\"attributes\":{\"interval\":12},\"id\":\"1033\",\"type\":\"SingleIntervalTicker\"},{\"attributes\":{\"bottom\":{\"field\":\"bottom\"},\"fill_alpha\":{\"field\":\"fill_alpha\"},\"fill_color\":{\"value\":\"#f46d43\"},\"left\":{\"field\":\"start_time\"},\"right\":{\"field\":\"end_time\"},\"top\":{\"field\":\"top\"}},\"id\":\"1050\",\"type\":\"Quad\"}],\"root_ids\":[\"1002\"]},\"title\":\"Bokeh Application\",\"version\":\"2.4.3\"}};\n",
              "  const render_items = [{\"docid\":\"7cb7f0a2-0ec4-42f4-aa38-3a7d39fb9b07\",\"root_ids\":[\"1002\"],\"roots\":{\"1002\":\"a11ab996-3707-4037-bd6d-c9d4d2511c48\"}}];\n",
              "  root.Bokeh.embed.embed_items_notebook(docs_json, render_items);\n",
              "  }\n",
              "  if (root.Bokeh !== undefined) {\n",
              "    embed_document(root);\n",
              "  } else {\n",
              "    let attempts = 0;\n",
              "    const timer = setInterval(function(root) {\n",
              "      if (root.Bokeh !== undefined) {\n",
              "        clearInterval(timer);\n",
              "        embed_document(root);\n",
              "      } else {\n",
              "        attempts++;\n",
              "        if (attempts > 100) {\n",
              "          clearInterval(timer);\n",
              "          console.log(\"Bokeh: ERROR: Unable to run BokehJS code because BokehJS library is missing\");\n",
              "        }\n",
              "      }\n",
              "    }, 10, root)\n",
              "  }\n",
              "})(window);"
            ],
            "application/vnd.bokehjs_exec.v0+json": ""
          },
          "metadata": {
            "application/vnd.bokehjs_exec.v0+json": {
              "id": "1002"
            }
          }
        }
      ],
      "source": [
        "#@title MIDIの表示\n",
        "import note_seq\n",
        "\n",
        "SAMPLE_RATE = 16000\n",
        "SF2_PATH = '/content/MuseScore_General.sf2'\n",
        "\n",
        "import glob\n",
        "for i in glob.glob(f'/content/02_output_midi/*.mid'):\n",
        "#for i in glob.glob(f'/content/muzic/getmusic/example_data/input/position-*.mid'):\n",
        "    print(i)\n",
        "    midi_scr = i\n",
        "\n",
        "est_ns = note_seq.midi_file_to_note_sequence(midi_scr)\n",
        "\n",
        "note_seq.play_sequence(est_ns, synth=note_seq.fluidsynth, sample_rate=SAMPLE_RATE, sf2_path=SF2_PATH)\n",
        "note_seq.plot_sequence(est_ns)"
      ]
    },
    {
      "cell_type": "code",
      "source": [
        "#@title MIDIをオーディオフファイルに変換\n",
        "from pydub import AudioSegment\n",
        "from midi2audio import FluidSynth\n",
        "import glob\n",
        "import math\n",
        "\n",
        "for i in glob.glob(f'/content/02_output_midi/p2*.mid'):\n",
        "#for i in glob.glob(f'/content/muzic/getmusic/example_data/input/position-*.mid'):\n",
        "    print(i)\n",
        "    MTF_FILE = i\n",
        "\n",
        "fs = FluidSynth(sound_font=\"/content/MuseScore_General.sf2\")\n",
        "MTF_mp3 = \"/content/03_output_mp3/full.mp3\"\n",
        "fs.midi_to_audio(MTF_FILE, MTF_mp3)\n",
        "\n",
        "audio = AudioSegment.from_file(MTF_mp3)\n",
        "# 音量(%)\n",
        "volume_percent = 500\n",
        "\n",
        "# 音量を調整して再生\n",
        "mtf = audio + (20 * math.log10(volume_percent/100))\n",
        "mtf.export(MTF_mp3, format='mp3')"
      ],
      "metadata": {
        "id": "REw4LEOzauQv",
        "outputId": "86692294-f406-4190-f659-c04000f5bc08",
        "colab": {
          "base_uri": "https://localhost:8080/"
        }
      },
      "id": "REw4LEOzauQv",
      "execution_count": 10,
      "outputs": [
        {
          "output_type": "stream",
          "name": "stdout",
          "text": [
            "/content/02_output_midi/p2bcdgps-世界が終わるまでは_half.mid\n"
          ]
        },
        {
          "output_type": "execute_result",
          "data": {
            "text/plain": [
              "<_io.BufferedRandom name='/content/03_output_mp3/full.mp3'>"
            ]
          },
          "metadata": {},
          "execution_count": 10
        }
      ]
    },
    {
      "cell_type": "code",
      "source": [
        "#@title 伴奏を抽出\n",
        "import mido\n",
        "from mido import Message, MidiFile, MidiTrack\n",
        "\n",
        "for i in glob.glob(f'/content/02_output_midi/*.mid'):\n",
        "#for i in glob.glob(f'/content/muzic/getmusic/example_data/input/position-*.mid'):\n",
        "    print(i)\n",
        "    midi = mido.MidiFile(i)\n",
        "\n",
        "gomi = MidiFile()\n",
        "mid = MidiFile()\n",
        "track = MidiTrack()\n",
        "\n",
        "i = 0\n",
        "for t in midi.tracks:\n",
        "  i += 1\n",
        "  gomi.tracks.append(t)\n",
        "  if i >=3:\n",
        "    mid.tracks.append(t)\n",
        "\n",
        "mid.save('/content/02_output_midi/acp_tracks.mid')"
      ],
      "metadata": {
        "colab": {
          "base_uri": "https://localhost:8080/"
        },
        "id": "61HTBwqhUokA",
        "outputId": "d739191f-d0b3-4f4b-a4cd-df3e3bd96f21"
      },
      "id": "61HTBwqhUokA",
      "execution_count": null,
      "outputs": [
        {
          "output_type": "stream",
          "name": "stdout",
          "text": [
            "/content/output_midi/p2bdgs-よぞらに.mid\n"
          ]
        }
      ]
    },
    {
      "cell_type": "code",
      "source": [
        "#@title MIDIをオーディオフファイルに変換\n",
        "from pydub import AudioSegment\n",
        "from midi2audio import FluidSynth\n",
        "import glob\n",
        "import math\n",
        "\n",
        "for i in glob.glob(f'/content/02_output_midi/acp_tracks.mid'):\n",
        "#for i in glob.glob(f'/content/muzic/getmusic/example_data/input/position-*.mid'):\n",
        "    print(i)\n",
        "    MTF_FILE = i\n",
        "\n",
        "fs = FluidSynth(sound_font=\"/content/MuseScore_General.sf2\")\n",
        "MTF_mp3 = \"/content/03_output_mp3/acp.mp3\"\n",
        "fs.midi_to_audio(MTF_FILE, MTF_mp3)\n",
        "\n",
        "audio = AudioSegment.from_file(MTF_mp3)\n",
        "# 音量(%)\n",
        "volume_percent = 500\n",
        "\n",
        "# 音量を調整して再生\n",
        "mtf = audio + (20 * math.log10(volume_percent/100))\n",
        "mtf.export(MTF_mp3, format='mp3')"
      ],
      "metadata": {
        "colab": {
          "base_uri": "https://localhost:8080/"
        },
        "id": "dz0GhzsTonK-",
        "outputId": "cbc1986f-771e-426d-a3b2-28b5cc9b669e"
      },
      "id": "dz0GhzsTonK-",
      "execution_count": null,
      "outputs": [
        {
          "output_type": "stream",
          "name": "stdout",
          "text": [
            "/content/output_midi/acp_tracks.mid\n"
          ]
        },
        {
          "output_type": "execute_result",
          "data": {
            "text/plain": [
              "<_io.BufferedRandom name='/content/output_mp3/acp.mp3'>"
            ]
          },
          "metadata": {},
          "execution_count": 7
        }
      ]
    }
  ],
  "metadata": {
    "accelerator": "GPU",
    "colab": {
      "gpuType": "T4",
      "provenance": [],
      "include_colab_link": true
    },
    "kernelspec": {
      "display_name": "Python 3",
      "name": "python3"
    },
    "language_info": {
      "codemirror_mode": {
        "name": "ipython",
        "version": 3
      },
      "file_extension": ".py",
      "mimetype": "text/x-python",
      "name": "python",
      "nbconvert_exporter": "python",
      "pygments_lexer": "ipython3",
      "version": "3.8.16"
    }
  },
  "nbformat": 4,
  "nbformat_minor": 5
}